{
 "cells": [
  {
   "attachments": {},
   "cell_type": "markdown",
   "metadata": {
    "id": "eK_ZKyuEG-5W"
   },
   "source": [
    "## **This Colab notebook provides a quick introduction to the Python programming language.**"
   ]
  },
  {
   "attachments": {},
   "cell_type": "markdown",
   "metadata": {
    "id": "g1h_IyNYFSAO"
   },
   "source": [
    "### Basic Syntax for statements\n"
   ]
  },
  {
   "attachments": {},
   "cell_type": "markdown",
   "metadata": {
    "id": "LIKLsd60FSAX"
   },
   "source": [
    "Here are some some basic rules for writing simple statments and expressions in Python:\n",
    "1. No spaces or tab characters allowed at the start of a statement: Indentation plays a special role in Python\n",
    "2. The '#' character indicates that the rest of the line is a comment\n"
   ]
  },
  {
   "attachments": {},
   "cell_type": "markdown",
   "metadata": {
    "id": "1Qa7OS6SFSAa"
   },
   "source": [
    "### Basic Types"
   ]
  },
  {
   "attachments": {},
   "cell_type": "markdown",
   "metadata": {
    "id": "4vjuROSnThag"
   },
   "source": [
    "Python has an automatic type-determining system.\n",
    "Based on what you enter, Python will automatically interpret it as either a number (float or integer), boolean (True or False), or a string of characters."
   ]
  },
  {
   "cell_type": "code",
   "execution_count": 1,
   "metadata": {
    "colab": {
     "base_uri": "https://localhost:8080/",
     "height": 35
    },
    "id": "Qwj4r0cnFSAa",
    "outputId": "bf2c18cb-e8d6-471c-a9b4-7f673442e6cc"
   },
   "outputs": [
    {
     "data": {
      "text/plain": [
       "'This is a string'"
      ]
     },
     "execution_count": 1,
     "metadata": {},
     "output_type": "execute_result"
    }
   ],
   "source": [
    "2.0           # a simple floating point number\n",
    "-1234567890   # an integer\n",
    "True or False # the two possible boolean values\n",
    "'This is a string' # a string"
   ]
  },
  {
   "attachments": {},
   "cell_type": "markdown",
   "metadata": {
    "id": "62NEqafCFSAY"
   },
   "source": [
    "###  Variables & Values"
   ]
  },
  {
   "cell_type": "code",
   "execution_count": 2,
   "metadata": {
    "id": "D0b11XX4FSAY",
    "outputId": "ea4eab89-6ea8-4057-dcf7-af837e02bb67"
   },
   "outputs": [
    {
     "name": "stdout",
     "output_type": "stream",
     "text": [
      "3 hello\n"
     ]
    }
   ],
   "source": [
    "x = 1             # number 1 is stored in variable x\n",
    "y = 2             # number 2 is stored in variable y\n",
    "z = 'hello'       # the string 'hello' is stored in variable z\n",
    "\n",
    "print(x+y, z)"
   ]
  },
  {
   "attachments": {},
   "cell_type": "markdown",
   "metadata": {
    "id": "8QjBpkISFSAb"
   },
   "source": [
    "### Operators"
   ]
  },
  {
   "attachments": {},
   "cell_type": "markdown",
   "metadata": {
    "id": "6z98Vc6uFSAb"
   },
   "source": [
    "(1) '+' Addition\n",
    "\n",
    "(2) '-' Substraction\n",
    "\n",
    "(3) '/'   Division\n",
    "\n",
    "(4) '//'  Integer Division\n",
    "\n",
    "(5) '%'   Modulus(remainder)\n",
    "\n",
    "(6) '*'   Multiplication \n",
    "\n",
    "(7) '**'  Exponentiation(power)"
   ]
  },
  {
   "cell_type": "code",
   "execution_count": 3,
   "metadata": {
    "id": "PiepPz5FFSAc",
    "outputId": "4d0b79f8-2fe1-4238-e4bc-a9c71d482fa5"
   },
   "outputs": [
    {
     "data": {
      "text/plain": [
       "3"
      ]
     },
     "execution_count": 3,
     "metadata": {},
     "output_type": "execute_result"
    }
   ],
   "source": [
    "1 + 2"
   ]
  },
  {
   "cell_type": "code",
   "execution_count": 4,
   "metadata": {
    "id": "JeC8KrbuFSAc",
    "outputId": "5f7bbeae-caca-48e3-86de-6092b56b7db9"
   },
   "outputs": [
    {
     "data": {
      "text/plain": [
       "2"
      ]
     },
     "execution_count": 4,
     "metadata": {},
     "output_type": "execute_result"
    }
   ],
   "source": [
    "3 - 1"
   ]
  },
  {
   "cell_type": "code",
   "execution_count": 5,
   "metadata": {
    "id": "doqiDViiFSAd",
    "outputId": "ac0d25d2-8c30-4868-ac42-9a39b3303c6d"
   },
   "outputs": [
    {
     "data": {
      "text/plain": [
       "0.75"
      ]
     },
     "execution_count": 5,
     "metadata": {},
     "output_type": "execute_result"
    }
   ],
   "source": [
    "3 / 4"
   ]
  },
  {
   "cell_type": "code",
   "execution_count": 6,
   "metadata": {
    "id": "OH-r3qJ-FSAd",
    "outputId": "8de65854-a0f6-4180-9ce4-031cd01ca8c8"
   },
   "outputs": [
    {
     "data": {
      "text/plain": [
       "0"
      ]
     },
     "execution_count": 6,
     "metadata": {},
     "output_type": "execute_result"
    }
   ],
   "source": [
    "3 // 4"
   ]
  },
  {
   "cell_type": "code",
   "execution_count": 7,
   "metadata": {
    "id": "X92Fk_6oFSAe",
    "outputId": "4f32156d-5c14-4a7d-bf07-a807b48765ad"
   },
   "outputs": [
    {
     "data": {
      "text/plain": [
       "3"
      ]
     },
     "execution_count": 7,
     "metadata": {},
     "output_type": "execute_result"
    }
   ],
   "source": [
    "3 % 4"
   ]
  },
  {
   "cell_type": "code",
   "execution_count": 8,
   "metadata": {
    "id": "NUnxpcIzFSAe",
    "outputId": "fed40121-06d1-4a95-8168-16e82d4624cb"
   },
   "outputs": [
    {
     "data": {
      "text/plain": [
       "12"
      ]
     },
     "execution_count": 8,
     "metadata": {},
     "output_type": "execute_result"
    }
   ],
   "source": [
    "3 * 4"
   ]
  },
  {
   "cell_type": "code",
   "execution_count": 9,
   "metadata": {
    "id": "TDxy2HpbFSAe",
    "outputId": "61808d2a-5a63-4d20-bcfd-e41d64ca91b5"
   },
   "outputs": [
    {
     "data": {
      "text/plain": [
       "81"
      ]
     },
     "execution_count": 9,
     "metadata": {},
     "output_type": "execute_result"
    }
   ],
   "source": [
    "3 ** 4"
   ]
  },
  {
   "attachments": {},
   "cell_type": "markdown",
   "metadata": {
    "id": "St--YGHjFSAf"
   },
   "source": [
    "### Relational Operators"
   ]
  },
  {
   "attachments": {},
   "cell_type": "markdown",
   "metadata": {
    "id": "x8BzkPNKFSAf"
   },
   "source": [
    "(1) '=='  True, if it is equal\n",
    "\n",
    "(2) '!='  True, if not equal to\n",
    "\n",
    "(3) '<'   less than\n",
    "\n",
    "(4) '>'   greater than\n",
    "\n",
    "(5) '<='  less than or equal to\n",
    "\n",
    "(6) '>='  greater than or equal to"
   ]
  },
  {
   "cell_type": "code",
   "execution_count": 10,
   "metadata": {
    "id": "pvFdElwBFSAf",
    "outputId": "df739e1d-a10d-4d16-cf79-42c05b29ddbe"
   },
   "outputs": [
    {
     "data": {
      "text/plain": [
       "True"
      ]
     },
     "execution_count": 10,
     "metadata": {},
     "output_type": "execute_result"
    }
   ],
   "source": [
    "z = 2\n",
    "z == 2"
   ]
  },
  {
   "cell_type": "code",
   "execution_count": 11,
   "metadata": {
    "id": "VLi8orjtFSAg",
    "outputId": "cabaae33-34a3-43f6-ffdf-ae9e0c7af238"
   },
   "outputs": [
    {
     "data": {
      "text/plain": [
       "False"
      ]
     },
     "execution_count": 11,
     "metadata": {},
     "output_type": "execute_result"
    }
   ],
   "source": [
    "z > 2"
   ]
  },
  {
   "attachments": {},
   "cell_type": "markdown",
   "metadata": {
    "id": "QinxdT23FSAg"
   },
   "source": [
    "### Boolean Operators"
   ]
  },
  {
   "attachments": {},
   "cell_type": "markdown",
   "metadata": {
    "id": "7Rk0SCAJFSAg"
   },
   "source": [
    "(1) 'and' logic and\n",
    "\n",
    "(2) 'or' logic or"
   ]
  },
  {
   "cell_type": "code",
   "execution_count": 12,
   "metadata": {
    "id": "aAMaDY5_FSAg",
    "outputId": "03817028-b259-4fcd-f2df-ec96eabd5eca"
   },
   "outputs": [
    {
     "data": {
      "text/plain": [
       "False"
      ]
     },
     "execution_count": 12,
     "metadata": {},
     "output_type": "execute_result"
    }
   ],
   "source": [
    "x = 2\n",
    "y = 3\n",
    "\n",
    "x == 2 and y == 2"
   ]
  },
  {
   "cell_type": "code",
   "execution_count": 13,
   "metadata": {
    "id": "fAszuyORFSAh",
    "outputId": "dbb98df5-8b15-42e9-aa60-33eb245b940d"
   },
   "outputs": [
    {
     "data": {
      "text/plain": [
       "True"
      ]
     },
     "execution_count": 13,
     "metadata": {},
     "output_type": "execute_result"
    }
   ],
   "source": [
    "x = 2\n",
    "y = 3\n",
    "\n",
    "x == 2 or y == 2"
   ]
  },
  {
   "attachments": {},
   "cell_type": "markdown",
   "metadata": {
    "id": "HLkvPIEXFSAh"
   },
   "source": [
    "### Control Flow Statements "
   ]
  },
  {
   "cell_type": "code",
   "execution_count": 14,
   "metadata": {
    "id": "XLmRvJlnFSAh",
    "outputId": "be945045-4a47-4601-d1f1-26afb50a31a2"
   },
   "outputs": [
    {
     "name": "stdout",
     "output_type": "stream",
     "text": [
      "x greater than 2\n"
     ]
    }
   ],
   "source": [
    "# if statement\n",
    "x = 5\n",
    "if x > 2:\n",
    "    print('x greater than 2')\n",
    "else:\n",
    "    print('x smaller or equal than 2')"
   ]
  },
  {
   "cell_type": "code",
   "execution_count": 15,
   "metadata": {
    "id": "CgWiDeyYFSAh",
    "outputId": "acbd4a29-cab0-4d39-c289-1e4e5d01a332"
   },
   "outputs": [
    {
     "name": "stdout",
     "output_type": "stream",
     "text": [
      "0\n",
      "1\n",
      "2\n",
      "3\n",
      "4\n",
      "5\n",
      "6\n",
      "7\n",
      "8\n"
     ]
    }
   ],
   "source": [
    "# for loop\n",
    "for i in range(0,9):\n",
    "    print(i)\n",
    "    "
   ]
  },
  {
   "attachments": {},
   "cell_type": "markdown",
   "metadata": {
    "id": "u_LwbElJU4Lv"
   },
   "source": [
    "### Tuples and Lists"
   ]
  },
  {
   "attachments": {},
   "cell_type": "markdown",
   "metadata": {
    "id": "MGG3E3y8U_2V"
   },
   "source": [
    "In order to store data, we can do it either in a tuple or a list. A tuple is enclosed in (), while a list is enclosed in [].\n",
    "\n",
    "A list can be edited while a tuple is fixed (also known as immutable).\n",
    "\n",
    "Note that a tuple and list need not only store one kind of type - it can store multiple types."
   ]
  },
  {
   "cell_type": "code",
   "execution_count": 16,
   "metadata": {
    "colab": {
     "base_uri": "https://localhost:8080/"
    },
    "id": "iaXju213UzKk",
    "outputId": "d8fffb02-3ee3-4706-f93d-71ba58d161a6"
   },
   "outputs": [
    {
     "name": "stdout",
     "output_type": "stream",
     "text": [
      "(1, 2, 3)\n"
     ]
    }
   ],
   "source": [
    "mytuple = (1, 2, 3)\n",
    "print(mytuple)"
   ]
  },
  {
   "cell_type": "code",
   "execution_count": 17,
   "metadata": {
    "colab": {
     "base_uri": "https://localhost:8080/",
     "height": 181
    },
    "id": "WvLgrThUVzyq",
    "outputId": "a9280de6-4815-4fbf-d3ac-06ea8f789fed"
   },
   "outputs": [
    {
     "ename": "TypeError",
     "evalue": "'tuple' object does not support item assignment",
     "output_type": "error",
     "traceback": [
      "\u001b[0;31m---------------------------------------------------------------------------\u001b[0m",
      "\u001b[0;31mTypeError\u001b[0m                                 Traceback (most recent call last)",
      "\u001b[0;32m/var/folders/n7/zbhq4m617t71y1qf5gbh9pzw0000gn/T/ipykernel_1641/778718870.py\u001b[0m in \u001b[0;36m<module>\u001b[0;34m\u001b[0m\n\u001b[1;32m      1\u001b[0m \u001b[0;31m# you cannot change tuple elements\u001b[0m\u001b[0;34m\u001b[0m\u001b[0;34m\u001b[0m\u001b[0m\n\u001b[0;32m----> 2\u001b[0;31m \u001b[0mmytuple\u001b[0m\u001b[0;34m[\u001b[0m\u001b[0;36m0\u001b[0m\u001b[0;34m]\u001b[0m \u001b[0;34m=\u001b[0m \u001b[0;36m3\u001b[0m          \u001b[0;31m# This will produce an error\u001b[0m\u001b[0;34m\u001b[0m\u001b[0;34m\u001b[0m\u001b[0m\n\u001b[0m",
      "\u001b[0;31mTypeError\u001b[0m: 'tuple' object does not support item assignment"
     ]
    }
   ],
   "source": [
    "# you cannot change tuple elements\n",
    "mytuple[0] = 3          # This will produce an error"
   ]
  },
  {
   "cell_type": "code",
   "execution_count": 18,
   "metadata": {
    "colab": {
     "base_uri": "https://localhost:8080/"
    },
    "id": "vFTh9r7SVn0u",
    "outputId": "8c430ae4-5046-435a-aa20-fe4fefc978c3"
   },
   "outputs": [
    {
     "name": "stdout",
     "output_type": "stream",
     "text": [
      "[1, 2, 3]\n"
     ]
    }
   ],
   "source": [
    "mylist = [1, 2, 3]\n",
    "print(mylist)"
   ]
  },
  {
   "cell_type": "code",
   "execution_count": 19,
   "metadata": {
    "colab": {
     "base_uri": "https://localhost:8080/"
    },
    "id": "dc_ktVj1V7XB",
    "outputId": "216020c6-2204-4a13-9c93-012e51c80ea5"
   },
   "outputs": [
    {
     "name": "stdout",
     "output_type": "stream",
     "text": [
      "['hello', 2, 3]\n"
     ]
    }
   ],
   "source": [
    "mylist[0] = 'hello'\n",
    "print(mylist)"
   ]
  },
  {
   "cell_type": "code",
   "execution_count": 20,
   "metadata": {
    "colab": {
     "base_uri": "https://localhost:8080/"
    },
    "id": "0D6RvHNxWdcZ",
    "outputId": "5b2d8df2-6f2a-4df8-f59e-d0d40df2b75a"
   },
   "outputs": [
    {
     "name": "stdout",
     "output_type": "stream",
     "text": [
      "['hello', 2, 3, 5.0]\n"
     ]
    }
   ],
   "source": [
    "mylist.append(5.0)\n",
    "print(mylist)"
   ]
  },
  {
   "attachments": {},
   "cell_type": "markdown",
   "metadata": {
    "id": "Tn3WgmB9FSAi"
   },
   "source": [
    "### Looping is fun and fast! Here are two more examples."
   ]
  },
  {
   "cell_type": "code",
   "execution_count": 21,
   "metadata": {
    "colab": {
     "base_uri": "https://localhost:8080/"
    },
    "id": "DK89hadZFSAi",
    "outputId": "598da000-a34e-4fa1-ed3b-124aa916ca59"
   },
   "outputs": [
    {
     "name": "stdout",
     "output_type": "stream",
     "text": [
      "apple\n",
      "banana\n",
      "cherry\n"
     ]
    }
   ],
   "source": [
    "mytuple = (\"apple\", \"banana\", \"cherry\")\n",
    "\n",
    "for x in mytuple:\n",
    "  print(x)\n"
   ]
  },
  {
   "cell_type": "code",
   "execution_count": 22,
   "metadata": {
    "id": "PAnik-r5FSAi",
    "outputId": "9e2ee869-c6e3-427c-8f9a-9450a8c8b508"
   },
   "outputs": [
    {
     "name": "stdout",
     "output_type": "stream",
     "text": [
      "b\n",
      "a\n",
      "n\n",
      "a\n",
      "n\n",
      "a\n"
     ]
    }
   ],
   "source": [
    "mystr = \"banana\"\n",
    "\n",
    "for x in mystr:\n",
    "  print(x)\n"
   ]
  },
  {
   "cell_type": "code",
   "execution_count": 23,
   "metadata": {
    "id": "pqAviJtBFSAi",
    "outputId": "e243461a-f303-436d-99f9-5bd86f918719"
   },
   "outputs": [
    {
     "name": "stdout",
     "output_type": "stream",
     "text": [
      "1\n",
      "4\n",
      "Bye\n"
     ]
    }
   ],
   "source": [
    "# while loop\n",
    "\n",
    "i = 1\n",
    "while i < 3:\n",
    "    print(i ** 2)\n",
    "    i = i+1\n",
    "print('Bye')\n"
   ]
  },
  {
   "attachments": {},
   "cell_type": "markdown",
   "metadata": {
    "id": "xloeocdoFSAj"
   },
   "source": [
    "### The second cool idea is list comprehension. \n",
    "#### List comprehension is a fast compact way of building for loops.\n",
    "Check out: https://www.pythonforbeginners.com/basics/list-comprehensions-in-python\n",
    "\n",
    "Let's first solve a problem without list comprehension. <br>\n",
    "The following code generates the square of the integers from 0 to 10. <br>\n",
    "Notice the clean for-loop."
   ]
  },
  {
   "cell_type": "code",
   "execution_count": 24,
   "metadata": {
    "id": "emMjcfm2FSAj",
    "outputId": "0f152d64-8749-42eb-d19c-2b91a0148831"
   },
   "outputs": [
    {
     "data": {
      "text/plain": [
       "[0, 1, 4, 9, 16, 25, 36, 49, 64, 81, 100]"
      ]
     },
     "execution_count": 24,
     "metadata": {},
     "output_type": "execute_result"
    }
   ],
   "source": [
    "# L is my list to hold the answers\n",
    "L = []\n",
    "for n in range(11):\n",
    "    L.append(n ** 2)\n",
    "L\n"
   ]
  },
  {
   "attachments": {},
   "cell_type": "markdown",
   "metadata": {
    "id": "BlOQP9ePFSAj"
   },
   "source": [
    "Here is the Pythonic way of doing it via list comprehension."
   ]
  },
  {
   "cell_type": "code",
   "execution_count": 25,
   "metadata": {
    "id": "xc7gUvvtFSAj",
    "outputId": "5453d33d-75c4-499f-ff57-df1a35734784"
   },
   "outputs": [
    {
     "data": {
      "text/plain": [
       "[0, 1, 4, 9, 16, 25, 36, 49, 64, 81, 100]"
      ]
     },
     "execution_count": 25,
     "metadata": {},
     "output_type": "execute_result"
    }
   ],
   "source": [
    "[n ** 2 for n in range(11)]\n"
   ]
  },
  {
   "attachments": {},
   "cell_type": "markdown",
   "metadata": {
    "id": "2TAEzTK4FSAk"
   },
   "source": [
    "You can even condition on the iterator! <br>\n",
    "Here is code for computing the squares of the even numbers <br>\n",
    "and code for computing the squares of the odd numbers <br>"
   ]
  },
  {
   "cell_type": "code",
   "execution_count": 26,
   "metadata": {
    "id": "0SnP4DOSFSAk",
    "outputId": "476a45eb-d1f4-4f15-d47d-187757f14dcc"
   },
   "outputs": [
    {
     "data": {
      "text/plain": [
       "[0, 4, 16, 36, 64, 100]"
      ]
     },
     "execution_count": 26,
     "metadata": {},
     "output_type": "execute_result"
    }
   ],
   "source": [
    "[n ** 2 for n in range(11) if n % 2 == 0]"
   ]
  },
  {
   "cell_type": "code",
   "execution_count": 27,
   "metadata": {
    "id": "3Kh0R-2bFSAk",
    "outputId": "278b802a-edbc-4a39-f4bd-d235ecf841a3"
   },
   "outputs": [
    {
     "data": {
      "text/plain": [
       "[1, 9, 25, 49, 81]"
      ]
     },
     "execution_count": 27,
     "metadata": {},
     "output_type": "execute_result"
    }
   ],
   "source": [
    "[n ** 2 for n in range(11) if n % 2 > 0]"
   ]
  },
  {
   "cell_type": "code",
   "execution_count": null,
   "metadata": {
    "id": "WIJQme4wFSAl"
   },
   "outputs": [],
   "source": []
  },
  {
   "cell_type": "code",
   "execution_count": null,
   "metadata": {},
   "outputs": [],
   "source": []
  }
 ],
 "metadata": {
  "colab": {
   "collapsed_sections": [],
   "name": "Python_Examples.ipynb",
   "provenance": []
  },
  "kernelspec": {
   "display_name": "Python 3 (ipykernel)",
   "language": "python",
   "name": "python3"
  },
  "language_info": {
   "codemirror_mode": {
    "name": "ipython",
    "version": 3
   },
   "file_extension": ".py",
   "mimetype": "text/x-python",
   "name": "python",
   "nbconvert_exporter": "python",
   "pygments_lexer": "ipython3",
   "version": "3.9.13"
  }
 },
 "nbformat": 4,
 "nbformat_minor": 4
}
