{
 "cells": [
  {
   "cell_type": "markdown",
   "id": "ec216685-5ec3-497c-9ef8-e1758ca30423",
   "metadata": {},
   "source": [
    "# Imports and API Keys here"
   ]
  },
  {
   "cell_type": "code",
   "execution_count": 1,
   "id": "be2280c7-1d2c-4639-b4be-032313ec1b35",
   "metadata": {},
   "outputs": [],
   "source": [
    "import os\n",
    "import requests\n",
    "import openai\n",
    "import tiktoken\n",
    "from langchain.text_splitter import TokenTextSplitter\n",
    "import json\n",
    "from bs4 import BeautifulSoup\n",
    "from urllib.parse import urlparse\n",
    "import pandas as pd\n",
    "import pprint\n",
    "import re\n",
    "from selenium import webdriver\n",
    "from selenium.webdriver.firefox.options import Options\n",
    "\n",
    "## Base hyperparameters here (No need to adjust)\n",
    "\n",
    "# No information default\n",
    "NO_INFO = \"No info\"\n",
    "\n",
    "# maximum token length for ChatGPT\n",
    "MAX_TOKENS = 3000\n",
    "\n",
    "# max timeout to wait for url opening\n",
    "timeout = 2\n",
    "\n",
    "# whether or not to run unit tests. Once the notebook is stable can set this to False\n",
    "unit_tests = False\n",
    "\n",
    "#API Keys\n",
    "os.environ['OPENAI_API_TOKEN'] = 'YOUR_API_KEY_HERE'\n",
    "api_key = 'YOUR_API_KEY_HERE'\n",
    "cx = 'YOUR_ENGINE_TOKEN_HERE'"
   ]
  },
  {
   "cell_type": "markdown",
   "id": "b2686761-e344-4f90-9c10-6d30c1dfa37b",
   "metadata": {},
   "source": [
    "## Tune your search terms here\n",
    "- modify the query\n",
    "- modify the constraint of the type of websites you want\n",
    "- modify the output format you would want"
   ]
  },
  {
   "cell_type": "code",
   "execution_count": null,
   "id": "8e6d40be-7c12-4a2d-922e-c5826f54e2ad",
   "metadata": {},
   "outputs": [],
   "source": [
    "# Query format\n",
    "query = 'Large Language Model courses'\n",
    "\n",
    "# Keywords to be contained in secondary sites. \n",
    "# Will add url to list if any one matches. Secondary sites defined as links that are on the urls from Google Search\n",
    "keyword_list = ['course', 'about', 'learn']\n",
    "\n",
    "# Unwanted url segments. Any url with these inside usually means proprietary sites, or irrelevant (job) sites\n",
    "unwanted_url = []\n",
    "\n",
    "# Number of secondary urls to extract each site. GPT will pick the most relevant ones\n",
    "max_url_per_site = 3\n",
    "\n",
    "# Number of google queries to search for. Increasing this increases the breadth of search, but you only have 100 searches a day\n",
    "num_google_queries = 3\n",
    "\n",
    "# Whether to take top 20 search results (default is 10)\n",
    "twenty = False\n",
    "\n",
    "# Output format. Key is the name of the spreadsheet header, Value is the description of what is to be there\n",
    "output_format = {\"Course Name\": \"Name of course\", \"Course Website\": \"Website of course\", \n",
    "                     \"Broad Course Description\": \"Description of course\",\n",
    "                     \"Cost\": \"Amount of Money for Course\",\n",
    "                     \"Time\": \"Expected amount of time\",\n",
    "                     \"Venue\": [\"Physical <location>\",\"Online <website>\"],\n",
    "                     \"Company\": \"Company offering the course\"}\n",
    "\n",
    "# Base index. When doing the final table, what will be the reference to merge entries\n",
    "base_index = \"Course Website\""
   ]
  },
  {
   "cell_type": "markdown",
   "id": "f982a03c-1c6d-489e-904d-5042ddb38503",
   "metadata": {},
   "source": [
    "## Start a headless browser\n",
    "- This will be used for scraping all web pages"
   ]
  },
  {
   "cell_type": "code",
   "execution_count": 5,
   "id": "df44b5e1-161c-4af6-9376-cbc4028715b1",
   "metadata": {},
   "outputs": [],
   "source": [
    "def start_driver():\n",
    "    try:\n",
    "        driver.quit()\n",
    "        del driver\n",
    "        print('Deleting existing driver')\n",
    "    except Exception as e:\n",
    "        print('No existing driver to delete')\n",
    "        \n",
    "    print('Initializing new driver')\n",
    "    options = Options()\n",
    "    options.add_argument(\"--headless\")\n",
    "    \n",
    "    # Set the User-Agent\n",
    "    options.add_argument(\"user-agent=Mozilla\")\n",
    "\n",
    "    # Set the option to accept all SSL certificates by default\n",
    "    options.add_argument('--ignore-certificate-errors')\n",
    "\n",
    "    # initialize a browser\n",
    "    driver = webdriver.Firefox(options=options)\n",
    "    print('Driver initialized:', driver)\n",
    "    return driver"
   ]
  },
  {
   "cell_type": "code",
   "execution_count": 6,
   "id": "4060932f-d932-44b6-8cad-eb4333804b18",
   "metadata": {},
   "outputs": [
    {
     "name": "stdout",
     "output_type": "stream",
     "text": [
      "No existing driver to delete\n",
      "Initializing new driver\n",
      "Driver initialized: <selenium.webdriver.firefox.webdriver.WebDriver (session=\"8e4cb1c6-576b-4868-9983-f02dca16399c\")>\n"
     ]
    }
   ],
   "source": [
    "driver = start_driver()"
   ]
  },
  {
   "cell_type": "markdown",
   "id": "3aed3bc4-8c94-4fda-aeff-08bf6d75723e",
   "metadata": {
    "tags": []
   },
   "source": [
    "# Helper Functions"
   ]
  },
  {
   "cell_type": "code",
   "execution_count": 7,
   "id": "78815bbd-f602-45c0-bb63-bd4ee5cc5fbe",
   "metadata": {},
   "outputs": [],
   "source": [
    "def strict_output(system_prompt, user_prompt, output_format, default_category = \"\", output_value_only = False,\n",
    "                  model = 'gpt-3.5-turbo', temperature = 0, num_tries = 2, verbose = False):\n",
    "    ''' Ensures that OpenAI will always adhere to the desired output json format. \n",
    "    Uses rule-based iterative feedback to ask GPT to self-correct.\n",
    "    Keeps trying up to num_tries it it does not. Returns empty json if unable to after num_tries iterations.\n",
    "    If output field is a list, will treat as a classification problem and output best classification category.\n",
    "    Text enclosed within < > will generated by GPT accordingly'''\n",
    "\n",
    "    # if the user input is in a list, we also process the output as a list of json\n",
    "    list_input = isinstance(user_prompt, list)\n",
    "    # if the output format contains dynamic elements of < or >, then add to the prompt to handle dynamic elements\n",
    "    dynamic_elements = '<' in str(output_format)\n",
    "    # if the output format contains list elements of [ or ], then we add to the prompt to handle lists\n",
    "    list_output = '[' in str(output_format)\n",
    "    \n",
    "    # start off with no error message\n",
    "    error_msg = ''\n",
    "    \n",
    "    for i in range(num_tries):\n",
    "        \n",
    "        output_format_prompt = f'''\\nYou are to output the following in json format: {output_format}. \n",
    "Do not put quotation marks or escape character \\ in the output fields.'''\n",
    "        \n",
    "        if list_output:\n",
    "            output_format_prompt += f'''\\nIf output field is a list, classify output into the best element of the list.'''\n",
    "        \n",
    "        # if output_format contains dynamic elements, process it accordingly\n",
    "        if dynamic_elements: \n",
    "            output_format_prompt += f'''\n",
    "Any text enclosed by < and > indicates you must generate content to replace it. Example input: Go to <location>, Example output: Go to the garden\n",
    "Any output key containing < and > indicates you must generate the key name to replace it. Example input: {{'<location>': 'description of location'}}, Example output: {{school: a place for education}}'''\n",
    "\n",
    "        # if input is in a list format, ask it to generate json in a list\n",
    "        if list_input:\n",
    "            output_format_prompt += '''\\nGenerate a list of json, one json for each input element.'''\n",
    "            \n",
    "        # Use OpenAI to get a response\n",
    "        response = openai.ChatCompletion.create(\n",
    "          temperature = temperature,\n",
    "          model=model,\n",
    "          messages=[\n",
    "            {\"role\": \"system\", \"content\": system_prompt + output_format_prompt + error_msg},\n",
    "            {\"role\": \"user\", \"content\": str(user_prompt)}\n",
    "          ]\n",
    "        )\n",
    "\n",
    "        res = response['choices'][0]['message']['content'].replace('\\'', '\"')\n",
    "        \n",
    "        # ensure that we don't replace away aprostophes in text \n",
    "        res = re.sub(r\"(\\w)\\\"(\\w)\", r\"\\1'\\2\", res)\n",
    "\n",
    "        if verbose:\n",
    "            print('System prompt:', system_prompt + output_format_prompt + error_msg)\n",
    "            print('\\nUser prompt:', str(user_prompt))\n",
    "            print('\\nGPT response:', res)\n",
    "        \n",
    "        # try-catch block to ensure output format is adhered to\n",
    "        try:\n",
    "            output = json.loads(res)\n",
    "            if isinstance(user_prompt, list):\n",
    "                if not isinstance(output, list): raise Exception(\"Output format not in a list of json\")\n",
    "            else:\n",
    "                output = [output]\n",
    "                \n",
    "            # check for each element in the output_list, the format is correctly adhered to\n",
    "            for index in range(len(output)):\n",
    "                for key in output_format.keys():\n",
    "                    # unable to ensure accuracy of dynamic output header, so skip it\n",
    "                    if '<' in key or '>' in key: continue\n",
    "                    # if output field missing, raise an error\n",
    "                    if key not in output[index]: raise Exception(f\"{key} not in json output\")\n",
    "                    # check that one of the choices given for the list of words is an unknown\n",
    "                    if isinstance(output_format[key], list):\n",
    "                        choices = output_format[key]\n",
    "                        # ensure output is not a list\n",
    "                        if isinstance(output[index][key], list):\n",
    "                            output[index][key] = output[index][key][0]\n",
    "                        # output the default category (if any) if GPT is unable to identify the category\n",
    "                        if output[index][key] not in choices and default_category:\n",
    "                            output[index][key] = default_category\n",
    "                        # if the output is a description format, get only the label\n",
    "                        if ':' in output[index][key]:\n",
    "                            output[index][key] = output[index][key].split(':')[0]\n",
    "                            \n",
    "                # if we just want the values for the outputs\n",
    "                if output_value_only:\n",
    "                    output[index] = [value for value in output[index].values()]\n",
    "                    # just output without the list if there is only one element\n",
    "                    if len(output[index]) == 1:\n",
    "                        output[index] = output[index][0]\n",
    "                    \n",
    "            return output if list_input else output[0]\n",
    "\n",
    "        except Exception as e:\n",
    "            error_msg = f\"\\n\\nResult: {res}\\n\\nError message: {str(e)}\"\n",
    "            print(\"An exception occurred:\", str(e))\n",
    "            print(\"Current invalid json format:\", res)\n",
    "         \n",
    "    return {}"
   ]
  },
  {
   "cell_type": "code",
   "execution_count": 8,
   "id": "c1961086-bd21-444f-936e-b43c6b6514ae",
   "metadata": {
    "tags": []
   },
   "outputs": [],
   "source": [
    "def extract_unique_urls(url, unwanted_url = [], keyword_list=[]):\n",
    "    ''' Given the original url, find out the urls containted on that page which are unique and contain the keyword '''\n",
    "    try:\n",
    "        response = requests.get(url, timeout = timeout)\n",
    "    except Exception as e:\n",
    "        print(f'Unable to access {url}')\n",
    "        return []\n",
    "    \n",
    "    # Parse the HTML content\n",
    "    soup = BeautifulSoup(response.text, 'html.parser')\n",
    "    \n",
    "    # Find the HTML elements that contain the URLs you want to extract\n",
    "    url_elements = soup.select('a[href]')  # Select all anchor tags with an href attribute\n",
    "\n",
    "    # Extract the URLs from the HTML elements\n",
    "    url_list = []\n",
    "    url_by_keyword = {}\n",
    "    for element in url_elements:\n",
    "        url = element['href']\n",
    "        if 'https://' not in url: continue\n",
    "        \n",
    "        # if url is not relevant, skip it\n",
    "        relevant = True\n",
    "        for each in unwanted_url:\n",
    "            if each in url: relevant = False\n",
    "        if not relevant: continue\n",
    "        \n",
    "        relevant = False\n",
    "        for keyword in keyword_list:\n",
    "            if keyword in url: relevant = True\n",
    "        if not relevant: continue\n",
    "        url_list.append(url)\n",
    "\n",
    "    # Process the URLs or print the list\n",
    "    return list(set(url_list))"
   ]
  },
  {
   "cell_type": "code",
   "execution_count": 9,
   "id": "7e66699c-b941-48a2-89cc-55a614ded761",
   "metadata": {},
   "outputs": [],
   "source": [
    "def get_root_url(url):\n",
    "    parsed_url = urlparse(url)\n",
    "    root_url = parsed_url.scheme + '://' + parsed_url.netloc\n",
    "    return root_url"
   ]
  },
  {
   "cell_type": "code",
   "execution_count": 10,
   "id": "8634f76d-80de-44a8-b1bb-e1c724b8cebf",
   "metadata": {},
   "outputs": [],
   "source": [
    "def spaced_text(soup):\n",
    "    return \" \".join(t.strip() for t in soup.findAll(string=True) if t.parent.name not in ['style', 'script', 'head', 'title', 'meta', '[document]'])\n",
    "\n",
    "def view_url(url, driver=driver, timeout = timeout):\n",
    "    ''' Views how GPT would see a webpage '''\n",
    "    try:\n",
    "        # Get the webpage\n",
    "        driver.get(url)\n",
    "\n",
    "        # Let's wait for the JavaScript to run with an implicit wait\n",
    "        # Here we wait up to timeout seconds for the elements to become available\n",
    "        driver.implicitly_wait(timeout)\n",
    "\n",
    "        # Get the page source and parse it with BeautifulSoup\n",
    "        soup = BeautifulSoup(driver.page_source, 'html.parser')\n",
    "        \n",
    "        # Send a GET request\n",
    "        # response = requests.get(url, timeout = timeout)\n",
    "        # Parse the HTML content\n",
    "        # soup = BeautifulSoup(response.text, 'html.parser')\n",
    "        \n",
    "        # Extract metadata information\n",
    "        text_content = 'Metadata:\\n'\n",
    "        meta_tags = soup.find_all(\"meta\")\n",
    "        for meta_tag in meta_tags:\n",
    "            # Get the 'name' and 'content' attributes if present\n",
    "            name = meta_tag.get(\"name\")\n",
    "            contents = meta_tag.get(\"content\")\n",
    "            if name and contents:\n",
    "                text_content += f\"{name}: {contents}\\n\"\n",
    "                \n",
    "        text_content = text_content + '\\nMain Text:\\n' + spaced_text(soup)\n",
    "\n",
    "        # Do space processing\n",
    "        text_content = re.sub('\\n+', '\\n', text_content)\n",
    "        text_content = re.sub('\\ {2,}', ' ', text_content)\n",
    "\n",
    "    except Exception as e:\n",
    "        print(e)\n",
    "        return 'Unable to retrieve data'\n",
    "\n",
    "    return text_content"
   ]
  },
  {
   "cell_type": "markdown",
   "id": "4478535b-ba51-42d4-b173-0d9ff6a24231",
   "metadata": {
    "tags": []
   },
   "source": [
    "## Unit Tests"
   ]
  },
  {
   "cell_type": "code",
   "execution_count": 13,
   "id": "45592c88-14fe-462f-9fd2-aebd40376ee5",
   "metadata": {},
   "outputs": [
    {
     "name": "stdout",
     "output_type": "stream",
     "text": [
      "[]\n"
     ]
    }
   ],
   "source": [
    "url = \"https://learn.deeplearning.ai/\"\n",
    "out = extract_unique_urls(url, keyword_list = ['course', 'about', 'learn'])\n",
    "print(out)"
   ]
  },
  {
   "cell_type": "code",
   "execution_count": 14,
   "id": "2c59036d-747c-4216-9b4b-c61ba35a4ca9",
   "metadata": {},
   "outputs": [
    {
     "name": "stdout",
     "output_type": "stream",
     "text": [
      "https://towardsdatascience.com\n"
     ]
    }
   ],
   "source": [
    "url = 'https://towardsdatascience.com/stable-diffusion-as-an-api-5e381aec1f6'\n",
    "root_url = get_root_url(url)\n",
    "print(root_url)"
   ]
  },
  {
   "cell_type": "code",
   "execution_count": 15,
   "id": "72accfd8-b03d-4a5d-a160-9471e05459ba",
   "metadata": {},
   "outputs": [
    {
     "name": "stdout",
     "output_type": "stream",
     "text": [
      "No existing driver to delete\n",
      "Initializing new driver\n",
      "Driver initialized: <selenium.webdriver.firefox.webdriver.WebDriver (session=\"d1c27335-d010-46ec-b4c7-ddc196c76152\")>\n",
      "Metadata:\n",
      "generator: Docusaurus v2.4.0\n",
      "twitter:card: summary_large_image\n",
      "twitter:image: https://python.langchain.com/img/parrot-chainlink-icon.png\n",
      "docusaurus_locale: en\n",
      "docsearch:language: en\n",
      "docusaurus_version: current\n",
      "docusaurus_tag: docs-default-current\n",
      "docsearch:version: current\n",
      "docsearch:docusaurus_tag: docs-default-current\n",
      "description: This covers how to use WebBaseLoader to load all text from HTML webpages into a document format that we can use downstream. For more custom logic for loading webpages look at some child class examples such as IMSDbLoader, AZLyricsLoader, and CollegeConfidentialLoader\n",
      "viewport: width=device-width, initial-scale=1.0\n",
      "Main Text:\n",
      " Skip to main content 🦜️🔗 LangChain JS/TS Docs GitHub ⌘ K Get started Introduction Installation Quickstart Tutorials Modules Model I/​O Data connection Document loaders How-to Integrations acreom Airbyte JSON Airtable Alibaba Cloud MaxCompute Apify Dataset Arxiv AWS S3 Directory AWS S3 File AZLyrics Azure Blob Storage Container Azure Blob Storage File BibTeX BiliBili Blackboard Blockchain Brave Search chatgpt_loader College Confidential Confluence CoNLL-U Copy Paste CSV Cube Semantic Layer Diffbot Discord Docugami DuckDB Email Embaas EPub EverNote example_data Microsoft Excel Facebook Chat Fauna Figma Git GitBook GitHub Google BigQuery Google Cloud Storage Directory Google Cloud Storage File Google Drive Grobid Gutenberg Hacker News HuggingFace dataset iFixit Images Image captions IMSDb Iugu Joplin Jupyter Notebook LarkSuite (FeiShu) Mastodon MediaWikiDump MergeDocLoader mhtml Microsoft OneDrive Microsoft PowerPoint Microsoft Word Modern Treasury Notion DB 1/2 Notion DB 2/2 Obsidian Open Document Format (ODT) Open City Data Org-mode Pandas DataFrame Psychic PySpark DataFrame Loader ReadTheDocs Documentation Recursive URL Loader Reddit Roam RST Sitemap Slack Snowflake Source Code Spreedly Stripe Subtitle Telegram Tencent COS Directory Tencent COS File 2Markdown TOML Trello Twitter Unstructured File URL Weather WebBaseLoader WhatsApp Chat Wikipedia XML Loading documents from a YouTube url YouTube transcripts Document transformers Text embedding models Vector stores Retrievers Chains Memory Agents Callbacks Modules Use cases Guides Ecosystem Additional resources API reference Modules Data connection Document loaders Integrations WebBaseLoader On this page WebBaseLoader This covers how to use WebBaseLoader to load all text from HTML webpages into a document format that we can use downstream. For more custom logic for loading webpages look at some child class examples such as IMSDbLoader , AZLyricsLoader , and CollegeConfidentialLoader from langchain . document_loaders import WebBaseLoader loader = WebBaseLoader ( \"https://www.espn.com/\" ) To bypass SSL verification errors during fetching, you can set the \"verify\" option: loader.requests_kwargs = {'verify':False} data = loader . load ( ) data [Document(page_content=\"\\n\\n\\n\\n\\n\\n\\n\\n\\nESPN - Serving Sports Fans. Anytime. Anywhere.\\n\\n\\n\\n\\n\\n\\n\\n\\n\\n\\n\\n\\n\\n\\n\\n\\n\\n\\n\\n\\n\\n\\n\\n\\n\\n\\n\\n\\n\\n\\n\\n\\n\\n\\n\\n\\n\\n\\n\\n\\n\\n\\n\\n\\n\\n\\n\\n\\n\\n\\n\\n\\n\\n\\n\\n\\n\\n\\n\\n\\n\\n\\n\\n\\n\\n\\n\\n\\n\\n\\n\\n\\n\\n\\n\\n\\n\\n\\n\\n\\n\\n\\n\\n\\n\\n\\n\\n\\n\\n\\n\\n\\n\\n Skip to main content\\n \\n\\n Skip to navigation\\n \\n\\n\\n\\n\\n\\n\\n\\n\\n\\n\\n\\n\\n\\n\\n\\n\\n\\n\\n\\n\\n\\n\\n\\n\\n\\n\\n\\n\\n\\n\\n\\n\\n\\n<\\n\\n>\\n\\n\\n\\n\\n\\n\\n\\n\\n\\nMenuESPN\\n\\n\\nSearch\\n\\n\\n\\nscores\\n\\n\\n\\nNFLNBANCAAMNCAAWNHLSoccer…MLBNCAAFGolfTennisSports BettingBoxingCFLNCAACricketF1HorseLLWSMMANASCARNBA G LeagueOlympic SportsRacingRN BBRN FBRugbyWNBAWorld Baseball ClassicWWEX GamesXFLMore ESPNFantasyListenWatchESPN+\\n\\n\\n\\n\\n\\n\\n\\n\\n\\n\\n\\n\\n\\n\\n\\n \\n\\nSUBSCRIBE NOW\\n\\n\\n\\n\\n\\nNHL: Select Games\\n\\n\\n\\n\\n\\n\\n\\nXFL\\n\\n\\n\\n\\n\\n\\n\\nMLB: Select Games\\n\\n\\n\\n\\n\\n\\n\\nNCAA Baseball\\n\\n\\n\\n\\n\\n\\n\\nNCAA Softball\\n\\n\\n\\n\\n\\n\\n\\nCricket: Select Matches\\n\\n\\n\\n\\n\\n\\n\\nMel Kiper's NFL Mock Draft 3.0\\n\\n\\nQuick Links\\n\\n\\n\\n\\nMen's Tournament Challenge\\n\\n\\n\\n\\n\\n\\n\\nWomen's Tournament Challenge\\n\\n\\n\\n\\n\\n\\n\\nNFL Draft Order\\n\\n\\n\\n\\n\\n\\n\\nHow To Watch NHL Games\\n\\n\\n\\n\\n\\n\\n\\nFantasy Baseball: Sign Up\\n\\n\\n\\n\\n\\n\\n\\nHow To Watch PGA TOUR\\n\\n\\n\\n\\n\\n\\nFavorites\\n\\n\\n\\n\\n\\n\\n Manage Favorites\\n \\n\\n\\n\\nCustomize ESPNSign UpLog InESPN Sites\\n\\n\\n\\n\\nESPN Deportes\\n\\n\\n\\n\\n\\n\\n\\nAndscape\\n\\n\\n\\n\\n\\n\\n\\nespnW\\n\\n\\n\\n\\n\\n\\n\\nESPNFC\\n\\n\\n\\n\\n\\n\\n\\nX Games\\n\\n\\n\\n\\n\\n\\n\\nSEC Network\\n\\n\\nESPN Apps\\n\\n\\n\\n\\nESPN\\n\\n\\n\\n\\n\\n\\n\\nESPN Fantasy\\n\\n\\nFollow ESPN\\n\\n\\n\\n\\nFacebook\\n\\n\\n\\n\\n\\n\\n\\nTwitter\\n\\n\\n\\n\\n\\n\\n\\nInstagram\\n\\n\\n\\n\\n\\n\\n\\nSnapchat\\n\\n\\n\\n\\n\\n\\n\\nYouTube\\n\\n\\n\\n\\n\\n\\n\\nThe ESPN Daily Podcast\\n\\n\\nAre you ready for Opening Day? Here's your guide to MLB's offseason chaosWait, Jacob deGrom is on the Rangers now? Xander Bogaerts and Trea Turner signed where? And what about Carlos Correa? Yeah, you're going to need to read up before Opening Day.12hESPNIllustration by ESPNEverything you missed in the MLB offseason3h2:33World Series odds, win totals, props for every teamPlay fantasy baseball for free!TOP HEADLINESQB Jackson has requested trade from RavensSources: Texas hiring Terry as full-time coachJets GM: No rush on Rodgers; Lamar not optionLove to leave North Carolina, enter transfer portalBelichick to angsty Pats fans: See last 25 yearsEmbiid out, Harden due back vs. Jokic, NuggetsLynch: Purdy 'earned the right' to start for NinersMan Utd, Wrexham plan July friendly in San DiegoOn paper, Padres overtake DodgersLAMAR WANTS OUT OF BALTIMOREMarcus Spears identifies the two teams that need Lamar Jackson the most8h2:00Would Lamar sit out? Will Ravens draft a QB? Jackson trade request insightsLamar Jackson has asked Baltimore to trade him, but Ravens coach John Harbaugh hopes the QB will be back.3hJamison HensleyBallard, Colts will consider trading for QB JacksonJackson to Indy? Washington? Barnwell ranks the QB's trade fitsSNYDER'S TUMULTUOUS 24-YEAR RUNHow Washington’s NFL franchise sank on and off the field under owner Dan SnyderSnyder purchased one of the NFL's marquee franchises in 1999. Twenty-four years later, and with the team up for sale, he leaves a legacy of on-field futility and off-field scandal.13hJohn KeimESPNIOWA STAR STEPS UP AGAINJ-Will: Caitlin Clark is the biggest brand in college sports right now8h0:47'The better the opponent, the better she plays': Clark draws comparisons to TaurasiCaitlin Clark's performance on Sunday had longtime observers going back decades to find comparisons.16hKevin PeltonWOMEN'S ELITE EIGHT SCOREBOARDMONDAY'S GAMESCheck your bracket!NBA DRAFTHow top prospects fared on the road to the Final FourThe 2023 NCAA tournament is down to four teams, and ESPN's Jonathan Givony recaps the players who saw their NBA draft stock change.11hJonathan GivonyAndy Lyons/Getty ImagesTALKING BASKETBALLWhy AD needs to be more assertive with LeBron on the court10h1:33Why Perk won't blame Kyrie for Mavs' woes8h1:48WHERE EVERY TEAM STANDSNew NFL Power Rankings: Post-free-agency 1-32 poll, plus underrated offseason movesThe free agent frenzy has come and gone. Which teams have improved their 2023 outlook, and which teams have taken a hit?12hNFL Nation reportersIllustration by ESPNTHE BUCK STOPS WITH BELICHICKBruschi: Fair to criticize Bill Belichick for Patriots' struggles10h1:27 Top HeadlinesQB Jackson has requested trade from RavensSources: Texas hiring Terry as full-time coachJets GM: No rush on Rodgers; Lamar not optionLove to leave North Carolina, enter transfer portalBelichick to angsty Pats fans: See last 25 yearsEmbiid out, Harden due back vs. Jokic, NuggetsLynch: Purdy 'earned the right' to start for NinersMan Utd, Wrexham plan July friendly in San DiegoOn paper, Padres overtake DodgersFavorites FantasyManage FavoritesFantasy HomeCustomize ESPNSign UpLog InMarch Madness LiveESPNMarch Madness LiveWatch every men's NCAA tournament game live! ICYMI1:42Austin Peay's coach, pitcher and catcher all ejected after retaliation pitchAustin Peay's pitcher, catcher and coach were all ejected after a pitch was thrown at Liberty's Nathan Keeter, who earlier in the game hit a home run and celebrated while running down the third-base line. Men's Tournament ChallengeIllustration by ESPNMen's Tournament ChallengeCheck your bracket(s) in the 2023 Men's Tournament Challenge, which you can follow throughout the Big Dance. Women's Tournament ChallengeIllustration by ESPNWomen's Tournament ChallengeCheck your bracket(s) in the 2023 Women's Tournament Challenge, which you can follow throughout the Big Dance. Best of ESPN+AP Photo/Lynne SladkyFantasy Baseball ESPN+ Cheat Sheet: Sleepers, busts, rookies and closersYou've read their names all preseason long, it'd be a shame to forget them on draft day. The ESPN+ Cheat Sheet is one way to make sure that doesn't happen.Steph Chambers/Getty ImagesPassan's 2023 MLB season preview: Bold predictions and moreOpening Day is just over a week away -- and Jeff Passan has everything you need to know covered from every possible angle.Photo by Bob Kupbens/Icon Sportswire2023 NFL free agency: Best team fits for unsigned playersWhere could Ezekiel Elliott land? Let's match remaining free agents to teams and find fits for two trade candidates.Illustration by ESPN2023 NFL mock draft: Mel Kiper's first-round pick predictionsMel Kiper Jr. makes his predictions for Round 1 of the NFL draft, including projecting a trade in the top five. Trending NowAnne-Marie Sorvin-USA TODAY SBoston Bruins record tracker: Wins, points, milestonesThe B's are on pace for NHL records in wins and points, along with some individual superlatives as well. Follow along here with our updated tracker.Mandatory Credit: William Purnell-USA TODAY Sports2023 NFL full draft order: AFC, NFC team picks for all roundsStarting with the Carolina Panthers at No. 1 overall, here's the entire 2023 NFL draft broken down round by round. How to Watch on ESPN+Gregory Fisher/Icon Sportswire2023 NCAA men's hockey: Results, bracket, how to watchThe matchups in Tampa promise to be thrillers, featuring plenty of star power, high-octane offense and stellar defense.(AP Photo/Koji Sasahara, File)How to watch the PGA Tour, Masters, PGA Championship and FedEx Cup playoffs on ESPN, ESPN+Here's everything you need to know about how to watch the PGA Tour, Masters, PGA Championship and FedEx Cup playoffs on ESPN and ESPN+.Hailie Lynch/XFLHow to watch the XFL: 2023 schedule, teams, players, news, moreEvery XFL game will be streamed on ESPN+. Find out when and where else you can watch the eight teams compete. Sign up to play the #1 Fantasy Baseball GameReactivate A LeagueCreate A LeagueJoin a Public LeaguePractice With a Mock DraftSports BettingAP Photo/Mike KropfMarch Madness betting 2023: Bracket odds, lines, tips, moreThe 2023 NCAA tournament brackets have finally been released, and we have everything you need to know to make a bet on all of the March Madness games. Sign up to play the #1 Fantasy game!Create A LeagueJoin Public LeagueReactivateMock Draft Now\\n\\nESPN+\\n\\n\\n\\n\\nNHL: Select Games\\n\\n\\n\\n\\n\\n\\n\\nXFL\\n\\n\\n\\n\\n\\n\\n\\nMLB: Select Games\\n\\n\\n\\n\\n\\n\\n\\nNCAA Baseball\\n\\n\\n\\n\\n\\n\\n\\nNCAA Softball\\n\\n\\n\\n\\n\\n\\n\\nCricket: Select Matches\\n\\n\\n\\n\\n\\n\\n\\nMel Kiper's NFL Mock Draft 3.0\\n\\n\\nQuick Links\\n\\n\\n\\n\\nMen's Tournament Challenge\\n\\n\\n\\n\\n\\n\\n\\nWomen's Tournament Challenge\\n\\n\\n\\n\\n\\n\\n\\nNFL Draft Order\\n\\n\\n\\n\\n\\n\\n\\nHow To Watch NHL Games\\n\\n\\n\\n\\n\\n\\n\\nFantasy Baseball: Sign Up\\n\\n\\n\\n\\n\\n\\n\\nHow To Watch PGA TOUR\\n\\n\\nESPN Sites\\n\\n\\n\\n\\nESPN Deportes\\n\\n\\n\\n\\n\\n\\n\\nAndscape\\n\\n\\n\\n\\n\\n\\n\\nespnW\\n\\n\\n\\n\\n\\n\\n\\nESPNFC\\n\\n\\n\\n\\n\\n\\n\\nX Games\\n\\n\\n\\n\\n\\n\\n\\nSEC Network\\n\\n\\nESPN Apps\\n\\n\\n\\n\\nESPN\\n\\n\\n\\n\\n\\n\\n\\nESPN Fantasy\\n\\n\\nFollow ESPN\\n\\n\\n\\n\\nFacebook\\n\\n\\n\\n\\n\\n\\n\\nTwitter\\n\\n\\n\\n\\n\\n\\n\\nInstagram\\n\\n\\n\\n\\n\\n\\n\\nSnapchat\\n\\n\\n\\n\\n\\n\\n\\nYouTube\\n\\n\\n\\n\\n\\n\\n\\nThe ESPN Daily Podcast\\n\\n\\nTerms of UsePrivacy PolicyYour US State Privacy RightsChildren's Online Privacy PolicyInterest-Based AdsAbout Nielsen MeasurementDo Not Sell or Share My Personal InformationContact UsDisney Ad Sales SiteWork for ESPNCopyright: © ESPN Enterprises, Inc. All rights reserved.\\n\\n\\n\\n\\n\\n\\n\\n\\n\\n\\n\\n\\n\\n\\n\\n\\n\\n\\n\", lookup_str='', metadata={'source': 'https://www.espn.com/'}, lookup_index=0)] \"\"\" # Use this piece of code for testing new custom BeautifulSoup parsers import requests from bs4 import BeautifulSoup html_doc = requests.get(\"{INSERT_NEW_URL_HERE}\") soup = BeautifulSoup(html_doc.text, 'html.parser') # Beautiful soup logic to be exported to langchain.document_loaders.webpage.py # Example: transcript = soup.select_one(\"td[class='scrtext']\").text # BS4 documentation can be found here: https://www.crummy.com/software/BeautifulSoup/bs4/doc/ \"\"\" ; Loading multiple webpages ​ You can also load multiple webpages at once by passing in a list of urls to the loader. This will return a list of documents in the same order as the urls passed in. loader = WebBaseLoader ( [ \"https://www.espn.com/\" , \"https://google.com\" ] ) docs = loader . load ( ) docs [Document(page_content=\"\\n\\n\\n\\n\\n\\n\\n\\n\\nESPN - Serving Sports Fans. Anytime. Anywhere.\\n\\n\\n\\n\\n\\n\\n\\n\\n\\n\\n\\n\\n\\n\\n\\n\\n\\n\\n\\n\\n\\n\\n\\n\\n\\n\\n\\n\\n\\n\\n\\n\\n\\n\\n\\n\\n\\n\\n\\n\\n\\n\\n\\n\\n\\n\\n\\n\\n\\n\\n\\n\\n\\n\\n\\n\\n\\n\\n\\n\\n\\n\\n\\n\\n\\n\\n\\n\\n\\n\\n\\n\\n\\n\\n\\n\\n\\n\\n\\n\\n\\n\\n\\n\\n\\n\\n\\n\\n\\n\\n\\n\\n\\n Skip to main content\\n \\n\\n Skip to navigation\\n \\n\\n\\n\\n\\n\\n\\n\\n\\n\\n\\n\\n\\n\\n\\n\\n\\n\\n\\n\\n\\n\\n\\n\\n\\n\\n\\n\\n\\n\\n\\n\\n\\n\\n<\\n\\n>\\n\\n\\n\\n\\n\\n\\n\\n\\n\\nMenuESPN\\n\\n\\nSearch\\n\\n\\n\\nscores\\n\\n\\n\\nNFLNBANCAAMNCAAWNHLSoccer…MLBNCAAFGolfTennisSports BettingBoxingCFLNCAACricketF1HorseLLWSMMANASCARNBA G LeagueOlympic SportsRacingRN BBRN FBRugbyWNBAWorld Baseball ClassicWWEX GamesXFLMore ESPNFantasyListenWatchESPN+\\n\\n\\n\\n\\n\\n\\n\\n\\n\\n\\n\\n\\n\\n\\n\\n \\n\\nSUBSCRIBE NOW\\n\\n\\n\\n\\n\\nNHL: Select Games\\n\\n\\n\\n\\n\\n\\n\\nXFL\\n\\n\\n\\n\\n\\n\\n\\nMLB: Select Games\\n\\n\\n\\n\\n\\n\\n\\nNCAA Baseball\\n\\n\\n\\n\\n\\n\\n\\nNCAA Softball\\n\\n\\n\\n\\n\\n\\n\\nCricket: Select Matches\\n\\n\\n\\n\\n\\n\\n\\nMel Kiper's NFL Mock Draft 3.0\\n\\n\\nQuick Links\\n\\n\\n\\n\\nMen's Tournament Challenge\\n\\n\\n\\n\\n\\n\\n\\nWomen's Tournament Challenge\\n\\n\\n\\n\\n\\n\\n\\nNFL Draft Order\\n\\n\\n\\n\\n\\n\\n\\nHow To Watch NHL Games\\n\\n\\n\\n\\n\\n\\n\\nFantasy Baseball: Sign Up\\n\\n\\n\\n\\n\\n\\n\\nHow To Watch PGA TOUR\\n\\n\\n\\n\\n\\n\\nFavorites\\n\\n\\n\\n\\n\\n\\n Manage Favorites\\n \\n\\n\\n\\nCustomize ESPNSign UpLog InESPN Sites\\n\\n\\n\\n\\nESPN Deportes\\n\\n\\n\\n\\n\\n\\n\\nAndscape\\n\\n\\n\\n\\n\\n\\n\\nespnW\\n\\n\\n\\n\\n\\n\\n\\nESPNFC\\n\\n\\n\\n\\n\\n\\n\\nX Games\\n\\n\\n\\n\\n\\n\\n\\nSEC Network\\n\\n\\nESPN Apps\\n\\n\\n\\n\\nESPN\\n\\n\\n\\n\\n\\n\\n\\nESPN Fantasy\\n\\n\\nFollow ESPN\\n\\n\\n\\n\\nFacebook\\n\\n\\n\\n\\n\\n\\n\\nTwitter\\n\\n\\n\\n\\n\\n\\n\\nInstagram\\n\\n\\n\\n\\n\\n\\n\\nSnapchat\\n\\n\\n\\n\\n\\n\\n\\nYouTube\\n\\n\\n\\n\\n\\n\\n\\nThe ESPN Daily Podcast\\n\\n\\nAre you ready for Opening Day? Here's your guide to MLB's offseason chaosWait, Jacob deGrom is on the Rangers now? Xander Bogaerts and Trea Turner signed where? And what about Carlos Correa? Yeah, you're going to need to read up before Opening Day.12hESPNIllustration by ESPNEverything you missed in the MLB offseason3h2:33World Series odds, win totals, props for every teamPlay fantasy baseball for free!TOP HEADLINESQB Jackson has requested trade from RavensSources: Texas hiring Terry as full-time coachJets GM: No rush on Rodgers; Lamar not optionLove to leave North Carolina, enter transfer portalBelichick to angsty Pats fans: See last 25 yearsEmbiid out, Harden due back vs. Jokic, NuggetsLynch: Purdy 'earned the right' to start for NinersMan Utd, Wrexham plan July friendly in San DiegoOn paper, Padres overtake DodgersLAMAR WANTS OUT OF BALTIMOREMarcus Spears identifies the two teams that need Lamar Jackson the most7h2:00Would Lamar sit out? Will Ravens draft a QB? Jackson trade request insightsLamar Jackson has asked Baltimore to trade him, but Ravens coach John Harbaugh hopes the QB will be back.3hJamison HensleyBallard, Colts will consider trading for QB JacksonJackson to Indy? Washington? Barnwell ranks the QB's trade fitsSNYDER'S TUMULTUOUS 24-YEAR RUNHow Washington’s NFL franchise sank on and off the field under owner Dan SnyderSnyder purchased one of the NFL's marquee franchises in 1999. Twenty-four years later, and with the team up for sale, he leaves a legacy of on-field futility and off-field scandal.13hJohn KeimESPNIOWA STAR STEPS UP AGAINJ-Will: Caitlin Clark is the biggest brand in college sports right now8h0:47'The better the opponent, the better she plays': Clark draws comparisons to TaurasiCaitlin Clark's performance on Sunday had longtime observers going back decades to find comparisons.16hKevin PeltonWOMEN'S ELITE EIGHT SCOREBOARDMONDAY'S GAMESCheck your bracket!NBA DRAFTHow top prospects fared on the road to the Final FourThe 2023 NCAA tournament is down to four teams, and ESPN's Jonathan Givony recaps the players who saw their NBA draft stock change.11hJonathan GivonyAndy Lyons/Getty ImagesTALKING BASKETBALLWhy AD needs to be more assertive with LeBron on the court9h1:33Why Perk won't blame Kyrie for Mavs' woes8h1:48WHERE EVERY TEAM STANDSNew NFL Power Rankings: Post-free-agency 1-32 poll, plus underrated offseason movesThe free agent frenzy has come and gone. Which teams have improved their 2023 outlook, and which teams have taken a hit?12hNFL Nation reportersIllustration by ESPNTHE BUCK STOPS WITH BELICHICKBruschi: Fair to criticize Bill Belichick for Patriots' struggles10h1:27 Top HeadlinesQB Jackson has requested trade from RavensSources: Texas hiring Terry as full-time coachJets GM: No rush on Rodgers; Lamar not optionLove to leave North Carolina, enter transfer portalBelichick to angsty Pats fans: See last 25 yearsEmbiid out, Harden due back vs. Jokic, NuggetsLynch: Purdy 'earned the right' to start for NinersMan Utd, Wrexham plan July friendly in San DiegoOn paper, Padres overtake DodgersFavorites FantasyManage FavoritesFantasy HomeCustomize ESPNSign UpLog InMarch Madness LiveESPNMarch Madness LiveWatch every men's NCAA tournament game live! ICYMI1:42Austin Peay's coach, pitcher and catcher all ejected after retaliation pitchAustin Peay's pitcher, catcher and coach were all ejected after a pitch was thrown at Liberty's Nathan Keeter, who earlier in the game hit a home run and celebrated while running down the third-base line. Men's Tournament ChallengeIllustration by ESPNMen's Tournament ChallengeCheck your bracket(s) in the 2023 Men's Tournament Challenge, which you can follow throughout the Big Dance. Women's Tournament ChallengeIllustration by ESPNWomen's Tournament ChallengeCheck your bracket(s) in the 2023 Women's Tournament Challenge, which you can follow throughout the Big Dance. Best of ESPN+AP Photo/Lynne SladkyFantasy Baseball ESPN+ Cheat Sheet: Sleepers, busts, rookies and closersYou've read their names all preseason long, it'd be a shame to forget them on draft day. The ESPN+ Cheat Sheet is one way to make sure that doesn't happen.Steph Chambers/Getty ImagesPassan's 2023 MLB season preview: Bold predictions and moreOpening Day is just over a week away -- and Jeff Passan has everything you need to know covered from every possible angle.Photo by Bob Kupbens/Icon Sportswire2023 NFL free agency: Best team fits for unsigned playersWhere could Ezekiel Elliott land? Let's match remaining free agents to teams and find fits for two trade candidates.Illustration by ESPN2023 NFL mock draft: Mel Kiper's first-round pick predictionsMel Kiper Jr. makes his predictions for Round 1 of the NFL draft, including projecting a trade in the top five. Trending NowAnne-Marie Sorvin-USA TODAY SBoston Bruins record tracker: Wins, points, milestonesThe B's are on pace for NHL records in wins and points, along with some individual superlatives as well. Follow along here with our updated tracker.Mandatory Credit: William Purnell-USA TODAY Sports2023 NFL full draft order: AFC, NFC team picks for all roundsStarting with the Carolina Panthers at No. 1 overall, here's the entire 2023 NFL draft broken down round by round. How to Watch on ESPN+Gregory Fisher/Icon Sportswire2023 NCAA men's hockey: Results, bracket, how to watchThe matchups in Tampa promise to be thrillers, featuring plenty of star power, high-octane offense and stellar defense.(AP Photo/Koji Sasahara, File)How to watch the PGA Tour, Masters, PGA Championship and FedEx Cup playoffs on ESPN, ESPN+Here's everything you need to know about how to watch the PGA Tour, Masters, PGA Championship and FedEx Cup playoffs on ESPN and ESPN+.Hailie Lynch/XFLHow to watch the XFL: 2023 schedule, teams, players, news, moreEvery XFL game will be streamed on ESPN+. Find out when and where else you can watch the eight teams compete. Sign up to play the #1 Fantasy Baseball GameReactivate A LeagueCreate A LeagueJoin a Public LeaguePractice With a Mock DraftSports BettingAP Photo/Mike KropfMarch Madness betting 2023: Bracket odds, lines, tips, moreThe 2023 NCAA tournament brackets have finally been released, and we have everything you need to know to make a bet on all of the March Madness games. Sign up to play the #1 Fantasy game!Create A LeagueJoin Public LeagueReactivateMock Draft Now\\n\\nESPN+\\n\\n\\n\\n\\nNHL: Select Games\\n\\n\\n\\n\\n\\n\\n\\nXFL\\n\\n\\n\\n\\n\\n\\n\\nMLB: Select Games\\n\\n\\n\\n\\n\\n\\n\\nNCAA Baseball\\n\\n\\n\\n\\n\\n\\n\\nNCAA Softball\\n\\n\\n\\n\\n\\n\\n\\nCricket: Select Matches\\n\\n\\n\\n\\n\\n\\n\\nMel Kiper's NFL Mock Draft 3.0\\n\\n\\nQuick Links\\n\\n\\n\\n\\nMen's Tournament Challenge\\n\\n\\n\\n\\n\\n\\n\\nWomen's Tournament Challenge\\n\\n\\n\\n\\n\\n\\n\\nNFL Draft Order\\n\\n\\n\\n\\n\\n\\n\\nHow To Watch NHL Games\\n\\n\\n\\n\\n\\n\\n\\nFantasy Baseball: Sign Up\\n\\n\\n\\n\\n\\n\\n\\nHow To Watch PGA TOUR\\n\\n\\nESPN Sites\\n\\n\\n\\n\\nESPN Deportes\\n\\n\\n\\n\\n\\n\\n\\nAndscape\\n\\n\\n\\n\\n\\n\\n\\nespnW\\n\\n\\n\\n\\n\\n\\n\\nESPNFC\\n\\n\\n\\n\\n\\n\\n\\nX Games\\n\\n\\n\\n\\n\\n\\n\\nSEC Network\\n\\n\\nESPN Apps\\n\\n\\n\\n\\nESPN\\n\\n\\n\\n\\n\\n\\n\\nESPN Fantasy\\n\\n\\nFollow ESPN\\n\\n\\n\\n\\nFacebook\\n\\n\\n\\n\\n\\n\\n\\nTwitter\\n\\n\\n\\n\\n\\n\\n\\nInstagram\\n\\n\\n\\n\\n\\n\\n\\nSnapchat\\n\\n\\n\\n\\n\\n\\n\\nYouTube\\n\\n\\n\\n\\n\\n\\n\\nThe ESPN Daily Podcast\\n\\n\\nTerms of UsePrivacy PolicyYour US State Privacy RightsChildren's Online Privacy PolicyInterest-Based AdsAbout Nielsen MeasurementDo Not Sell or Share My Personal InformationContact UsDisney Ad Sales SiteWork for ESPNCopyright: © ESPN Enterprises, Inc. All rights reserved.\\n\\n\\n\\n\\n\\n\\n\\n\\n\\n\\n\\n\\n\\n\\n\\n\\n\\n\\n\", lookup_str='', metadata={'source': 'https://www.espn.com/'}, lookup_index=0), Document(page_content='GoogleSearch Images Maps Play YouTube News Gmail Drive More »Web History | Settings | Sign in\\xa0Advanced searchAdvertisingBusiness SolutionsAbout Google© 2023 - Privacy - Terms ', lookup_str='', metadata={'source': 'https://google.com'}, lookup_index=0)] Load multiple urls concurrently ​ You can speed up the scraping process by scraping and parsing multiple urls concurrently. There are reasonable limits to concurrent requests, defaulting to 2 per second. If you aren't concerned about being a good citizen, or you control the server you are scraping and don't care about load, you can change the requests_per_second parameter to increase the max concurrent requests. Note, while this will speed up the scraping process, but may cause the server to block you. Be careful! pip install nest_asyncio # fixes a bug with asyncio and jupyter import nest_asyncio nest_asyncio.apply ( ) Requirement already satisfied: nest_asyncio in /Users/harrisonchase/.pyenv/versions/3.9.1/envs/langchain/lib/python3.9/site-packages (1.5.6) loader = WebBaseLoader ( [ \"https://www.espn.com/\" , \"https://google.com\" ] ) loader . requests_per_second = 1 docs = loader . aload ( ) docs [Document(page_content=\"\\n\\n\\n\\n\\n\\n\\n\\n\\nESPN - Serving Sports Fans. Anytime. Anywhere.\\n\\n\\n\\n\\n\\n\\n\\n\\n\\n\\n\\n\\n\\n\\n\\n\\n\\n\\n\\n\\n\\n\\n\\n\\n\\n\\n\\n\\n\\n\\n\\n\\n\\n\\n\\n\\n\\n\\n\\n\\n\\n\\n\\n\\n\\n\\n\\n\\n\\n\\n\\n\\n\\n\\n\\n\\n\\n\\n\\n\\n\\n\\n\\n\\n\\n\\n\\n\\n\\n\\n\\n\\n\\n\\n\\n\\n\\n\\n\\n\\n\\n\\n\\n\\n\\n\\n\\n\\n\\n\\n\\n\\n\\n Skip to main content\\n \\n\\n Skip to navigation\\n \\n\\n\\n\\n\\n\\n\\n\\n\\n\\n\\n\\n\\n\\n\\n\\n\\n\\n\\n\\n\\n\\n\\n\\n\\n\\n\\n\\n\\n\\n\\n\\n\\n\\n<\\n\\n>\\n\\n\\n\\n\\n\\n\\n\\n\\n\\nMenuESPN\\n\\n\\nSearch\\n\\n\\n\\nscores\\n\\n\\n\\nNFLNBANCAAMNCAAWNHLSoccer…MLBNCAAFGolfTennisSports BettingBoxingCFLNCAACricketF1HorseLLWSMMANASCARNBA G LeagueOlympic SportsRacingRN BBRN FBRugbyWNBAWorld Baseball ClassicWWEX GamesXFLMore ESPNFantasyListenWatchESPN+\\n\\n\\n\\n\\n\\n\\n\\n\\n\\n\\n\\n\\n\\n\\n\\n \\n\\nSUBSCRIBE NOW\\n\\n\\n\\n\\n\\nNHL: Select Games\\n\\n\\n\\n\\n\\n\\n\\nXFL\\n\\n\\n\\n\\n\\n\\n\\nMLB: Select Games\\n\\n\\n\\n\\n\\n\\n\\nNCAA Baseball\\n\\n\\n\\n\\n\\n\\n\\nNCAA Softball\\n\\n\\n\\n\\n\\n\\n\\nCricket: Select Matches\\n\\n\\n\\n\\n\\n\\n\\nMel Kiper's NFL Mock Draft 3.0\\n\\n\\nQuick Links\\n\\n\\n\\n\\nMen's Tournament Challenge\\n\\n\\n\\n\\n\\n\\n\\nWomen's Tournament Challenge\\n\\n\\n\\n\\n\\n\\n\\nNFL Draft Order\\n\\n\\n\\n\\n\\n\\n\\nHow To Watch NHL Games\\n\\n\\n\\n\\n\\n\\n\\nFantasy Baseball: Sign Up\\n\\n\\n\\n\\n\\n\\n\\nHow To Watch PGA TOUR\\n\\n\\n\\n\\n\\n\\nFavorites\\n\\n\\n\\n\\n\\n\\n Manage Favorites\\n \\n\\n\\n\\nCustomize ESPNSign UpLog InESPN Sites\\n\\n\\n\\n\\nESPN Deportes\\n\\n\\n\\n\\n\\n\\n\\nAndscape\\n\\n\\n\\n\\n\\n\\n\\nespnW\\n\\n\\n\\n\\n\\n\\n\\nESPNFC\\n\\n\\n\\n\\n\\n\\n\\nX Games\\n\\n\\n\\n\\n\\n\\n\\nSEC Network\\n\\n\\nESPN Apps\\n\\n\\n\\n\\nESPN\\n\\n\\n\\n\\n\\n\\n\\nESPN Fantasy\\n\\n\\nFollow ESPN\\n\\n\\n\\n\\nFacebook\\n\\n\\n\\n\\n\\n\\n\\nTwitter\\n\\n\\n\\n\\n\\n\\n\\nInstagram\\n\\n\\n\\n\\n\\n\\n\\nSnapchat\\n\\n\\n\\n\\n\\n\\n\\nYouTube\\n\\n\\n\\n\\n\\n\\n\\nThe ESPN Daily Podcast\\n\\n\\nAre you ready for Opening Day? Here's your guide to MLB's offseason chaosWait, Jacob deGrom is on the Rangers now? Xander Bogaerts and Trea Turner signed where? And what about Carlos Correa? Yeah, you're going to need to read up before Opening Day.12hESPNIllustration by ESPNEverything you missed in the MLB offseason3h2:33World Series odds, win totals, props for every teamPlay fantasy baseball for free!TOP HEADLINESQB Jackson has requested trade from RavensSources: Texas hiring Terry as full-time coachJets GM: No rush on Rodgers; Lamar not optionLove to leave North Carolina, enter transfer portalBelichick to angsty Pats fans: See last 25 yearsEmbiid out, Harden due back vs. Jokic, NuggetsLynch: Purdy 'earned the right' to start for NinersMan Utd, Wrexham plan July friendly in San DiegoOn paper, Padres overtake DodgersLAMAR WANTS OUT OF BALTIMOREMarcus Spears identifies the two teams that need Lamar Jackson the most7h2:00Would Lamar sit out? Will Ravens draft a QB? Jackson trade request insightsLamar Jackson has asked Baltimore to trade him, but Ravens coach John Harbaugh hopes the QB will be back.3hJamison HensleyBallard, Colts will consider trading for QB JacksonJackson to Indy? Washington? Barnwell ranks the QB's trade fitsSNYDER'S TUMULTUOUS 24-YEAR RUNHow Washington’s NFL franchise sank on and off the field under owner Dan SnyderSnyder purchased one of the NFL's marquee franchises in 1999. Twenty-four years later, and with the team up for sale, he leaves a legacy of on-field futility and off-field scandal.13hJohn KeimESPNIOWA STAR STEPS UP AGAINJ-Will: Caitlin Clark is the biggest brand in college sports right now8h0:47'The better the opponent, the better she plays': Clark draws comparisons to TaurasiCaitlin Clark's performance on Sunday had longtime observers going back decades to find comparisons.16hKevin PeltonWOMEN'S ELITE EIGHT SCOREBOARDMONDAY'S GAMESCheck your bracket!NBA DRAFTHow top prospects fared on the road to the Final FourThe 2023 NCAA tournament is down to four teams, and ESPN's Jonathan Givony recaps the players who saw their NBA draft stock change.11hJonathan GivonyAndy Lyons/Getty ImagesTALKING BASKETBALLWhy AD needs to be more assertive with LeBron on the court9h1:33Why Perk won't blame Kyrie for Mavs' woes8h1:48WHERE EVERY TEAM STANDSNew NFL Power Rankings: Post-free-agency 1-32 poll, plus underrated offseason movesThe free agent frenzy has come and gone. Which teams have improved their 2023 outlook, and which teams have taken a hit?12hNFL Nation reportersIllustration by ESPNTHE BUCK STOPS WITH BELICHICKBruschi: Fair to criticize Bill Belichick for Patriots' struggles10h1:27 Top HeadlinesQB Jackson has requested trade from RavensSources: Texas hiring Terry as full-time coachJets GM: No rush on Rodgers; Lamar not optionLove to leave North Carolina, enter transfer portalBelichick to angsty Pats fans: See last 25 yearsEmbiid out, Harden due back vs. Jokic, NuggetsLynch: Purdy 'earned the right' to start for NinersMan Utd, Wrexham plan July friendly in San DiegoOn paper, Padres overtake DodgersFavorites FantasyManage FavoritesFantasy HomeCustomize ESPNSign UpLog InMarch Madness LiveESPNMarch Madness LiveWatch every men's NCAA tournament game live! ICYMI1:42Austin Peay's coach, pitcher and catcher all ejected after retaliation pitchAustin Peay's pitcher, catcher and coach were all ejected after a pitch was thrown at Liberty's Nathan Keeter, who earlier in the game hit a home run and celebrated while running down the third-base line. Men's Tournament ChallengeIllustration by ESPNMen's Tournament ChallengeCheck your bracket(s) in the 2023 Men's Tournament Challenge, which you can follow throughout the Big Dance. Women's Tournament ChallengeIllustration by ESPNWomen's Tournament ChallengeCheck your bracket(s) in the 2023 Women's Tournament Challenge, which you can follow throughout the Big Dance. Best of ESPN+AP Photo/Lynne SladkyFantasy Baseball ESPN+ Cheat Sheet: Sleepers, busts, rookies and closersYou've read their names all preseason long, it'd be a shame to forget them on draft day. The ESPN+ Cheat Sheet is one way to make sure that doesn't happen.Steph Chambers/Getty ImagesPassan's 2023 MLB season preview: Bold predictions and moreOpening Day is just over a week away -- and Jeff Passan has everything you need to know covered from every possible angle.Photo by Bob Kupbens/Icon Sportswire2023 NFL free agency: Best team fits for unsigned playersWhere could Ezekiel Elliott land? Let's match remaining free agents to teams and find fits for two trade candidates.Illustration by ESPN2023 NFL mock draft: Mel Kiper's first-round pick predictionsMel Kiper Jr. makes his predictions for Round 1 of the NFL draft, including projecting a trade in the top five. Trending NowAnne-Marie Sorvin-USA TODAY SBoston Bruins record tracker: Wins, points, milestonesThe B's are on pace for NHL records in wins and points, along with some individual superlatives as well. Follow along here with our updated tracker.Mandatory Credit: William Purnell-USA TODAY Sports2023 NFL full draft order: AFC, NFC team picks for all roundsStarting with the Carolina Panthers at No. 1 overall, here's the entire 2023 NFL draft broken down round by round. How to Watch on ESPN+Gregory Fisher/Icon Sportswire2023 NCAA men's hockey: Results, bracket, how to watchThe matchups in Tampa promise to be thrillers, featuring plenty of star power, high-octane offense and stellar defense.(AP Photo/Koji Sasahara, File)How to watch the PGA Tour, Masters, PGA Championship and FedEx Cup playoffs on ESPN, ESPN+Here's everything you need to know about how to watch the PGA Tour, Masters, PGA Championship and FedEx Cup playoffs on ESPN and ESPN+.Hailie Lynch/XFLHow to watch the XFL: 2023 schedule, teams, players, news, moreEvery XFL game will be streamed on ESPN+. Find out when and where else you can watch the eight teams compete. Sign up to play the #1 Fantasy Baseball GameReactivate A LeagueCreate A LeagueJoin a Public LeaguePractice With a Mock DraftSports BettingAP Photo/Mike KropfMarch Madness betting 2023: Bracket odds, lines, tips, moreThe 2023 NCAA tournament brackets have finally been released, and we have everything you need to know to make a bet on all of the March Madness games. Sign up to play the #1 Fantasy game!Create A LeagueJoin Public LeagueReactivateMock Draft Now\\n\\nESPN+\\n\\n\\n\\n\\nNHL: Select Games\\n\\n\\n\\n\\n\\n\\n\\nXFL\\n\\n\\n\\n\\n\\n\\n\\nMLB: Select Games\\n\\n\\n\\n\\n\\n\\n\\nNCAA Baseball\\n\\n\\n\\n\\n\\n\\n\\nNCAA Softball\\n\\n\\n\\n\\n\\n\\n\\nCricket: Select Matches\\n\\n\\n\\n\\n\\n\\n\\nMel Kiper's NFL Mock Draft 3.0\\n\\n\\nQuick Links\\n\\n\\n\\n\\nMen's Tournament Challenge\\n\\n\\n\\n\\n\\n\\n\\nWomen's Tournament Challenge\\n\\n\\n\\n\\n\\n\\n\\nNFL Draft Order\\n\\n\\n\\n\\n\\n\\n\\nHow To Watch NHL Games\\n\\n\\n\\n\\n\\n\\n\\nFantasy Baseball: Sign Up\\n\\n\\n\\n\\n\\n\\n\\nHow To Watch PGA TOUR\\n\\n\\nESPN Sites\\n\\n\\n\\n\\nESPN Deportes\\n\\n\\n\\n\\n\\n\\n\\nAndscape\\n\\n\\n\\n\\n\\n\\n\\nespnW\\n\\n\\n\\n\\n\\n\\n\\nESPNFC\\n\\n\\n\\n\\n\\n\\n\\nX Games\\n\\n\\n\\n\\n\\n\\n\\nSEC Network\\n\\n\\nESPN Apps\\n\\n\\n\\n\\nESPN\\n\\n\\n\\n\\n\\n\\n\\nESPN Fantasy\\n\\n\\nFollow ESPN\\n\\n\\n\\n\\nFacebook\\n\\n\\n\\n\\n\\n\\n\\nTwitter\\n\\n\\n\\n\\n\\n\\n\\nInstagram\\n\\n\\n\\n\\n\\n\\n\\nSnapchat\\n\\n\\n\\n\\n\\n\\n\\nYouTube\\n\\n\\n\\n\\n\\n\\n\\nThe ESPN Daily Podcast\\n\\n\\nTerms of UsePrivacy PolicyYour US State Privacy RightsChildren's Online Privacy PolicyInterest-Based AdsAbout Nielsen MeasurementDo Not Sell or Share My Personal InformationContact UsDisney Ad Sales SiteWork for ESPNCopyright: © ESPN Enterprises, Inc. All rights reserved.\\n\\n\\n\\n\\n\\n\\n\\n\\n\\n\\n\\n\\n\\n\\n\\n\\n\\n\\n\", lookup_str='', metadata={'source': 'https://www.espn.com/'}, lookup_index=0), Document(page_content='GoogleSearch Images Maps Play YouTube News Gmail Drive More »Web History | Settings | Sign in\\xa0Advanced searchAdvertisingBusiness SolutionsAbout Google© 2023 - Privacy - Terms ', lookup_str='', metadata={'source': 'https://google.com'}, lookup_index=0)] Loading a xml file, or using a different BeautifulSoup parser ​ You can also look at SitemapLoader for an example of how to load a sitemap file, which is an example of using this feature. loader = WebBaseLoader ( \"https://www.govinfo.gov/content/pkg/CFR-2018-title10-vol3/xml/CFR-2018-title10-vol3-sec431-86.xml\" ) loader . default_parser = \"xml\" docs = loader . load ( ) docs [Document(page_content='\\n\\n10\\nEnergy\\n3\\n2018-01-01\\n2018-01-01\\nfalse\\nUniform test method for the measurement of energy efficiency of commercial packaged boilers.\\nÂ§ 431.86\\nSection Â§ 431.86\\n\\nEnergy\\nDEPARTMENT OF ENERGY\\nENERGY CONSERVATION\\nENERGY EFFICIENCY PROGRAM FOR CERTAIN COMMERCIAL AND INDUSTRIAL EQUIPMENT\\nCommercial Packaged Boilers\\nTest Procedures\\n\\n\\n\\n\\n§\\u2009431.86\\nUniform test method for the measurement of energy efficiency of commercial packaged boilers.\\n(a) Scope. This section provides test procedures, pursuant to the Energy Policy and Conservation Act (EPCA), as amended, which must be followed for measuring the combustion efficiency and/or thermal efficiency of a gas- or oil-fired commercial packaged boiler.\\n(b) Testing and Calculations. Determine the thermal efficiency or combustion efficiency of commercial packaged boilers by conducting the appropriate test procedure(s) indicated in Table 1 of this section.\\n\\nTable 1—Test Requirements for Commercial Packaged Boiler Equipment Classes\\n\\nEquipment category\\nSubcategory\\nCertified rated inputBtu/h\\n\\nStandards efficiency metric(§\\u2009431.87)\\n\\nTest procedure(corresponding to\\nstandards efficiency\\nmetric required\\nby §\\u2009431.87)\\n\\n\\n\\nHot Water\\nGas-fired\\n≥300,000 and ≤2,500,000\\nThermal Efficiency\\nAppendix A, Section 2.\\n\\n\\nHot Water\\nGas-fired\\n>2,500,000\\nCombustion Efficiency\\nAppendix A, Section 3.\\n\\n\\nHot Water\\nOil-fired\\n≥300,000 and ≤2,500,000\\nThermal Efficiency\\nAppendix A, Section 2.\\n\\n\\nHot Water\\nOil-fired\\n>2,500,000\\nCombustion Efficiency\\nAppendix A, Section 3.\\n\\n\\nSteam\\nGas-fired (all*)\\n≥300,000 and ≤2,500,000\\nThermal Efficiency\\nAppendix A, Section 2.\\n\\n\\nSteam\\nGas-fired (all*)\\n>2,500,000 and ≤5,000,000\\nThermal Efficiency\\nAppendix A, Section 2.\\n\\n\\n\\u2003\\n\\n>5,000,000\\nThermal Efficiency\\nAppendix A, Section 2.OR\\nAppendix A, Section 3 with Section 2.4.3.2.\\n\\n\\n\\nSteam\\nOil-fired\\n≥300,000 and ≤2,500,000\\nThermal Efficiency\\nAppendix A, Section 2.\\n\\n\\nSteam\\nOil-fired\\n>2,500,000 and ≤5,000,000\\nThermal Efficiency\\nAppendix A, Section 2.\\n\\n\\n\\u2003\\n\\n>5,000,000\\nThermal Efficiency\\nAppendix A, Section 2.OR\\nAppendix A, Section 3. with Section 2.4.3.2.\\n\\n\\n\\n*\\u2009Equipment classes for commercial packaged boilers as of July 22, 2009 (74 FR 36355) distinguish between gas-fired natural draft and all other gas-fired (except natural draft).\\n\\n(c) Field Tests. The field test provisions of appendix A may be used only to test a unit of commercial packaged boiler with rated input greater than 5,000,000 Btu/h.\\n[81 FR 89305, Dec. 9, 2016]\\n\\n\\nEnergy Efficiency Standards\\n\\n', lookup_str='', metadata={'source': 'https://www.govinfo.gov/content/pkg/CFR-2018-title10-vol3/xml/CFR-2018-title10-vol3-sec431-86.xml'}, lookup_index=0)] Using proxies ​ Sometimes you might need to use proxies to get around IP blocks. You can pass in a dictionary of proxies to the loader (and requests underneath) to use them. loader = WebBaseLoader ( \"https://www.walmart.com/search?q=parrots\" , proxies = { \"http\" : \"http://{username}:{password}:@proxy.service.com:6666/\" , \"https\" : \"https://{username}:{password}:@proxy.service.com:6666/\" } ) docs = loader . load ( ) Previous Weather Next WhatsApp Chat Loading multiple webpages Load multiple urls concurrently Loading a xml file, or using a different BeautifulSoup parser Using proxies Community Discord Twitter GitHub Python JS/TS More Homepage Blog Copyright © 2023 LangChain, Inc. \n"
     ]
    }
   ],
   "source": [
    "driver = start_driver()\n",
    "# always do this to test. This website needs security clearance\n",
    "url = \"https://python.langchain.com/docs/modules/data_connection/document_loaders/integrations/web_base\"\n",
    "out = view_url(url, driver = driver)\n",
    "print(out)"
   ]
  },
  {
   "cell_type": "markdown",
   "id": "b4a4f5a6-fbb2-48ec-bc01-2d8824091398",
   "metadata": {},
   "source": [
    "# Main Program"
   ]
  },
  {
   "cell_type": "code",
   "execution_count": 21,
   "id": "fc75b654-4d77-4edc-8834-d0422a91fc09",
   "metadata": {},
   "outputs": [
    {
     "name": "stdout",
     "output_type": "stream",
     "text": [
      "['Large Language Model courses online', 'Language Model training courses', 'Best courses for Large Language Models']\n"
     ]
    }
   ],
   "source": [
    "# Use GPT-3.5-turbo to get good queries for Google Search\n",
    "res = strict_output(system_prompt = f'''You are a helpful assistant meant to design google web queries to find information. Give {num_google_queries} suitable queries to get information corresponding to what the user wants.''',\n",
    "                    user_prompt = f'''Base Query: {query}, Output Format: {output_format}''', \n",
    "                    output_format = {\"query\"+str(i):\"query text\" for i in range(num_google_queries)},\n",
    "                    output_value_only = True)\n",
    "\n",
    "search_terms = res\n",
    "print(search_terms)"
   ]
  },
  {
   "cell_type": "code",
   "execution_count": 22,
   "id": "c187da50-a1da-465d-8028-44519c527653",
   "metadata": {},
   "outputs": [],
   "source": [
    "# Get the search results from google \n",
    "# NOTE: Do not run this cell too often, you only have 100 search API calls a day!\n",
    "\n",
    "datalist = []\n",
    "# this is for the first 10 sites for each search term\n",
    "for search_term in search_terms:\n",
    "    # Send a GET request to the Custom Search API\n",
    "    response = requests.get(f'https://www.googleapis.com/customsearch/v1?key={api_key}&cx={cx}&q={search_term}')\n",
    "    \n",
    "    # Extract the relevant information from the response\n",
    "    data = response.json()\n",
    "    \n",
    "    datalist.append(data)\n",
    "\n",
    "# this one is for the next 10 sites for each search term\n",
    "if twenty:\n",
    "    for search_term in search_terms:\n",
    "        # Send a GET request to the Custom Search API\n",
    "        response = requests.get(f'https://www.googleapis.com/customsearch/v1?key={api_key}&cx={cx}&q={search_term}&start=10')\n",
    "\n",
    "        # Extract the relevant information from the response\n",
    "        data = response.json()\n",
    "\n",
    "        datalist.append(data)"
   ]
  },
  {
   "cell_type": "code",
   "execution_count": 28,
   "id": "f78aa073-5bb9-436e-896a-e6977a4dfa04",
   "metadata": {},
   "outputs": [
    {
     "name": "stdout",
     "output_type": "stream",
     "text": [
      "Doing split 1 out of 3, search term: Large Language Model courses online\n",
      "Main url: https://www.kdnuggets.com/2023/03/top-free-courses-large-language-models.html, Secondary url: ['https://www.cs.princeton.edu/courses/archive/fall22/cos597G/', 'https://www.kdnuggets.com/courses/index.html', 'https://www.addtoany.com/add_to/email?linkurl=https%3A%2F%2Fwww.kdnuggets.com%2F2023%2F03%2Ftop-free-courses-large-language-models.html&linkname=Top%20Free%20Courses%20on%20Large%20Language%20Models', 'https://www.kdnuggets.com/2023/07/always-learning-ai-prevents-data-breaches.html', 'https://www.addtoany.com/add_to/facebook?linkurl=https%3A%2F%2Fwww.kdnuggets.com%2F2023%2F03%2Ftop-free-courses-large-language-models.html&linkname=Top%20Free%20Courses%20on%20Large%20Language%20Models', 'https://www.kdnuggets.com/2021/03/3-more-free-nlp-courses.html', 'https://www.kdnuggets.com/2023/07/5-free-courses-chatgpt.html', 'https://www.kdnuggets.com/tag/machine-learning', 'https://www.addtoany.com/add_to/linkedin?linkurl=https%3A%2F%2Fwww.kdnuggets.com%2F2023%2F03%2Ftop-free-courses-large-language-models.html&linkname=Top%20Free%20Courses%20on%20Large%20Language%20Models', 'https://www.kdnuggets.com/2023/03/hydra-configs-deep-learning-experiments.html', 'https://www.kdnuggets.com/2023/07/reinforcement-learning-teaching-computers-make-optimal-decisions.html', 'https://www.kdnuggets.com/about/index.html', 'https://www.addtoany.com/add_to/twitter?linkurl=https%3A%2F%2Fwww.kdnuggets.com%2F2023%2F03%2Ftop-free-courses-large-language-models.html&linkname=Top%20Free%20Courses%20on%20Large%20Language%20Models', 'https://www.addtoany.com/add_to/reddit?linkurl=https%3A%2F%2Fwww.kdnuggets.com%2F2023%2F03%2Ftop-free-courses-large-language-models.html&linkname=Top%20Free%20Courses%20on%20Large%20Language%20Models', 'https://www.kdnuggets.com/2023/06/free-courses-large-language-models.html', 'https://www.kdnuggets.com/2023/07/5-highestpaid-languages-learn-year.html', 'https://huggingface.co/course/chapter1/1', 'https://www.kdnuggets.com/2023/03/learn-large-language-models.html']\n",
      "Main url: https://www.databricks.com/blog/enroll-our-new-expert-led-large-language-models-llms-courses-edx, Secondary url: ['https://www.databricks.com/dataaisummit/sessions/?itm_data=menu-learn-dais23', 'https://www.edx.org/course/large-language-models-foundation-models-from-the-ground-up', 'https://www.databricks.com/product/machine-learning', 'https://www.databricks.com/learn/labs', 'https://www.edx.org/course/large-language-models-application-through-production', 'https://www.databricks.com/learn/executive-insights', 'https://www.databricks.com/learn/training/home', 'https://www.databricks.com/company/about-us', 'https://twitter.com/intent/tweet?text=https://www.databricks.com/blog/enroll-our-new-expert-led-large-language-models-llms-courses-edx', 'https://www.databricks.com/learn', 'https://www.facebook.com/sharer/sharer.php?u=https://www.databricks.com/blog/enroll-our-new-expert-led-large-language-models-llms-courses-edx', 'https://www.linkedin.com/shareArticle?mini=true&url=https://www.databricks.com/blog/enroll-our-new-expert-led-large-language-models-llms-courses-edx&summary=&source=']\n",
      "Main url: https://medium.com/geekculture/top-resoruces-to-learn-understand-large-language-models-4d339f7b685d, Secondary url: ['https://medium.com/about?autoplay=1&source=post_page-----4d339f7b685d--------------------------------', 'https://about.medium.com/creators/?source=post_page-----4d339f7b685d--------------------------------']\n",
      "Main url: https://www.edx.org/professional-certificate/databricks-large-language-models, Secondary url: ['https://courses.edx.org/support/contact_us', 'https://courses.edx.org/register', 'https://courses.edx.org/login']\n",
      "Main url: https://www.coursera.org/learn/introduction-to-large-language-models, Secondary url: ['https://blog.coursera.org', 'https://www.coursera.org/articles/4-ps-of-marketing', 'https://www.coursera.org/articles/how-to-ask-for-a-letter-of-recommendation-template-tips', 'https://www.coursera.org/courses?query=chatgpt', 'https://www.coursera.org/browse/computer-science', 'https://www.coursera.org/professional-certificates/google-data-analytics', 'https://www.coursera.org/articles/popular-cybersecurity-certifications', 'https://www.coursera.org/courses?query=microsoft%20excel', 'https://learner.coursera.help/hc', 'https://www.coursera.org/government?utm_content=corp-to-landing-for-government&utm_campaign=website&utm_medium=coursera&utm_source=header&utm_term=b-out', 'https://www.coursera.org/professional-certificates/google-cybersecurity', 'https://www.coursera.org/campus?utm_content=corp-to-landing-for-campus&utm_campaign=website&utm_medium=coursera&utm_source=header&utm_term=b-out', 'https://www.coursera.org/collections/new-courses-on-coursera', 'https://www.coursera.org/professional-certificates/ibm-data-analyst', 'https://www.coursera.org/specializations/machine-learning-introduction', 'https://www.coursera.org/browse/data-science/data-analysis', 'https://www.coursera.org/browse/data-science/machine-learning', 'https://about.coursera.org/how-coursera-works/', 'https://coursera_assets.s3.amazonaws.com/footer/Modern+Slavery+Statement+26+April+2023.pdf', 'https://www.coursera.org/professional-certificates/meta-front-end-developer', 'https://www.coursera.org/', 'https://www.coursera.org/articles/what-does-a-data-analyst-do-a-career-guide', 'https://www.coursera.org/browse/information-technology', 'https://twitter.com/coursera', 'https://www.coursera.org/business?utm_medium=coursera&utm_source=xdp&utm_campaign=website&utm_content=c4b-xdp-m2&utm_term=out', 'https://translate-coursera.org', 'https://www.coursera.org/browse/data-science', 'https://www.coursera.org/browse/language-learning/learning-english', 'https://www.coursera.org/courses?query=web%20development', 'https://www.coursera.org/professional-certificates/google-business-intelligence', 'https://www.coursera.org/articles/high-income-skills', 'https://www.youtube.com/user/coursera', 'https://www.instagram.com/coursera/', 'https://www.coursera.org/courses?query=artificial%20intelligence', 'https://www.coursera.org/professional-certificates/meta-back-end-developer', 'https://about.coursera.org/affiliates', 'https://www.coursera.org/learn/prompt-engineering', 'https://www.coursera.support/s/article/360041137871-A-community-response-to-COVID-19', 'https://www.coursera.org/courses?query=power%20bi', 'https://www.coursera.org/articles/strengths-and-weaknesses-interview', 'https://medium.com/coursera-engineering', 'https://www.coursera.org/courses?query=project%20management', 'https://www.coursera.org/courses?query=python', 'https://learner.coursera.help/hc/', 'https://www.coursera.org/courses?query=product%20management', 'https://www.coursera.org/courses', 'https://www.coursera.org/courses?query=digital%20marketing', 'https://www.coursera.org/business?utm_medium=coursera&utm_source=xdp&utm_campaign=website&utm_content=c4b-xdp-m1&utm_term=out', 'https://www.coursera.org/about/partners', 'https://www.coursera.org/articles', 'https://www.coursera.org/business?utm_medium=coursera&utm_source=xdp&utm_campaign=website&utm_content=c4b-xdp-m3&utm_term=out', 'https://www.coursera.org/learn/generative-ai-with-llms', 'https://www.coursera.org/articles/job-application-email', 'https://www.coursera.org/business?utm_content=corp-to-home-for-enterprise&utm_campaign=website&utm_medium=coursera&utm_source=header&utm_term=b-out', 'https://www.coursera.support/s/article/360000152926-Become-a-Coursera-beta-tester', 'https://www.linkedin.com/company/coursera', 'https://www.coursera.org/articles/professional-development-goals', 'https://www.tiktok.com/@coursera', 'https://about.coursera.org/', 'https://www.coursera.org/articles/announce-new-job-linkedin', 'https://www.coursera.org/professional-certificates/ai-engineer', 'https://about.coursera.org/leadership', 'https://www.coursera.org/courses?query=free', 'https://www.coursera.org/courses?query=cybersecurity', 'https://www.coursera.org/professional-certificates/google-advanced-data-analytics', 'https://partnerships.coursera.org/?utm_medium=coursera&utm_source=partnerships&utm_campaign=website&utm_content=corp-to-home-footer-become-a-partner', 'https://learner.coursera.help/hc/articles/360050668591-Accessibility-Statement', 'https://www.coursera.org/professional-certificates/google-digital-marketing-ecommerce', 'https://www.coursera.org/articles/how-to-write-a-letter-of-recommendation-template-tips', 'https://investor.coursera.com', 'https://www.coursera.community']\n",
      "Main url: https://stanford-cs324.github.io/winter2022/, Secondary url: ['https://canvas.stanford.edu/courses/149841/external_tools/24287?display=borderless', 'https://canvas.stanford.edu/courses/149841/external_tools/5384', 'https://canvas.stanford.edu/courses/149841', 'https://www.gradescope.com/courses/342794']\n",
      "Main url: https://www.linkedin.com/learning/generative-ai-working-with-large-language-models, Secondary url: ['https://www.linkedin.com/learning/topics/motion-graphics-and-vfx?trk=learning-course_browsemap_link', 'https://www.linkedin.com/legal/user-agreement?trk=d_learning_course_guest_footer-user-agreement', 'https://www.linkedin.com/learning/generative-ai-working-with-large-language-models/challenges-and-shortcomings-of-gpt-3?autoplay=true&trk=learning-course_tocItem', 'https://www.linkedin.com/learning/generative-ai-working-with-large-language-models/megatron-turing-nlg-model?autoplay=true&trk=learning-course_tocItem', 'https://www.linkedin.com/learning/generative-ai-working-with-large-language-models/self-attention?autoplay=true&trk=learning-course_tocItem', 'https://www.linkedin.com/learning/generative-ai-working-with-large-language-models/glam?autoplay=true&trk=learning-course_tocItem', 'https://www.linkedin.com/learning-login/?redirect=https%3A%2F%2Fwww%2Elinkedin%2Ecom%2Flearning%2Fgenerative-ai-working-with-large-language-models&trk=learning-course_review-card-report-button', 'https://learning.linkedin.com/for-higher-education?src=li-learning-nav&trk=learning-course_enterprise-nav', 'https://www.linkedin.com/learning/topics/marketing-2?trk=learning-course_browsemap_link', 'https://www.linkedin.com/learning/topics/mobile-development?trk=learning-course_browsemap_link', 'https://www.linkedin.com/learning/generative-ai-working-with-large-language-models/chinchilla?autoplay=true&trk=learning-course_tocItem', 'https://www.linkedin.com/learning/topics/business?trk=learning-course_browsemap_general-link', 'https://www.linkedin.com/learning/tensorflow-working-with-images?trk=learning-course_similar-courses', 'https://www.linkedin.com/learning/generative-ai-working-with-large-language-models/gopher?autoplay=true&trk=learning-course_tocItem', 'https://www.linkedin.com/learning/generative-ai-working-with-large-language-models/going-further-with-transformers?autoplay=true&trk=learning-course_tocItem', 'https://www.linkedin.com/learning/topics/database-management?trk=learning-course_browsemap_link', 'https://play.google.com/store/apps/details?id=com.linkedin.android.learning&referrer=utm_source%3Dlinkedinlearning%26utm_medium%3DmobileWeb%26utm_campaign%3Dlearning_guest&ct=learning_course_app_links&trk=learning-course_google-play-store', 'https://www.linkedin.com/learning/topics/network-and-system-administration?trk=learning-course_browsemap_link', 'https://www.linkedin.com/learning/topics/graphic-design?trk=learning-course_browsemap_link', 'https://www.linkedin.com/learning/topics/user-experience?trk=learning-course_browsemap_link', 'https://learning.linkedin.com/for-governments?src=li-learning-nav&trk=learning-course_enterprise-nav', 'https://www.linkedin.com/learning/generative-ai-working-with-large-language-models/opt-and-bloom?autoplay=true&trk=learning-course_tocItem', 'https://www.linkedin.com/learning/topics/aec?trk=learning-course_browsemap_link', 'https://www.linkedin.com/learning/topics/business-software-and-tools?trk=learning-course_browsemap_link', 'https://itunes.apple.com/app/apple-store/id1084807225?ls=1&pt=10746&mt=8&ct=learning_course_app_links&trk=learning-course_apple-app-store', 'https://www.linkedin.com/learning/topics/animation-and-illustration?trk=learning-course_browsemap_link', 'https://www.linkedin.com/learning/topics/diversity-equity-and-inclusion-dei?trk=learning-course_browsemap_link', 'https://www.linkedin.com/learning/topics/human-resources-3?trk=learning-course_browsemap_link', 'https://www.linkedin.com/psettings/guest-controls?trk=d_learning_course_guest_footer-guest-controls', 'https://www.linkedin.com/learning/topics/sales-3?trk=learning-course_browsemap_link', 'https://www.linkedin.com/learning/search?keywords=Generative+AI&trk=learning-course_pill-list', 'https://in.linkedin.com/in/sachin-dev-8969915?trk=learning-course', 'https://www.linkedin.com/learning-login/?redirect=https%3A%2F%2Fwww%2Elinkedin%2Ecom%2Flearning%2Fgenerative-ai-working-with-large-language-models&trk=learning-course_review-card-helpful-button', 'https://www.linkedin.com/learning/generative-ai-working-with-large-language-models/gpt-3-use-cases?autoplay=true&trk=learning-course_tocItem', 'https://www.linkedin.com/learning/topics/natural-language-processing-nlp?trk=learning-course_breadcrumb', 'https://learning.linkedin.com/for-entire-companies?src=li-learning-nav&trk=learning-course_enterprise-nav', 'https://www.linkedin.com/learning/generative-ai-working-with-large-language-models/what-are-large-language-models?autoplay=true&trk=learning-course_tocItem', 'https://www.linkedin.com/legal/cookie-policy?trk=d_learning_course_guest_footer-cookie-policy', 'https://www.linkedin.com/learning/topics/web-design?trk=learning-course_browsemap_link', 'https://www.linkedin.com/learning/topics/business-analysis-and-strategy?trk=learning-course_browsemap_link', 'https://www.linkedin.com/learning/generative-ai-working-with-large-language-models/palm?autoplay=true&trk=learning-course_tocItem', 'https://www.linkedin.com/learning/generative-ai-working-with-large-language-models/learning-about-large-language-models?autoplay=true&trk=learning-course_tocItem', 'https://www.linkedin.com/learning/search?keywords=Natural+Language+Processing+%28NLP%29&trk=learning-course_pill-list', 'https://www.linkedin.com/learning/generative-ai-working-with-large-language-models/transformers-in-production?autoplay=true&trk=learning-course_tocItem', 'https://www.linkedin.com/learning/search?keywords=Transformer+Models&trk=learning-course_pill-list', 'https://www.linkedin.com/learning/topics/web-development?trk=learning-course_browsemap_link', 'https://www.linkedin.com/learning/topics/data-science?trk=learning-course_browsemap_link', 'https://www.linkedin.com/legal/privacy-policy?trk=d_learning_course_guest_footer-privacy-policy', 'https://in.linkedin.com/in/syncwithrajeev?trk=learning-course', 'https://www.linkedin.com/learning/generative-ai-working-with-large-language-models/transformer-architecture-overview?autoplay=true&trk=learning-course_tocItem', 'https://www.linkedin.com/learning/topics/software-development?trk=learning-course_browsemap_link', 'https://www.linkedin.com/learning/generative-ai-working-with-large-language-models/scaling-laws?autoplay=true&trk=learning-course_tocItem', 'https://www.linkedin.com/learning/topics/it-help-desk-5?trk=learning-course_browsemap_link', 'https://www.linkedin.com/learning/topics/artificial-intelligence?trk=learning-course_browsemap_link', 'https://www.linkedin.com/learning/topics/project-management?trk=learning-course_browsemap_link', 'https://www.linkedin.com/learning/generative-ai-working-with-large-language-models/transfer-learning?autoplay=true&trk=learning-course_tocItem', 'https://uk.linkedin.com/in/jonathanafernandes?trk=learning-course_instructor', 'https://www.linkedin.com/learning/topics/visualization-and-real-time?trk=learning-course_browsemap_link', 'https://www.linkedin.com/learning/topics/security-3?trk=learning-course_browsemap_link', 'https://www.linkedin.com/learning-login/?redirect=https%3A%2F%2Fwww%2Elinkedin%2Ecom%2Flearning%2Fgenerative-ai-working-with-large-language-models&fromSignIn=true&session_redirect=https%3A%2F%2Fwww.linkedin.com%2Flearning%2Fgenerative-ai-working-with-large-language-models&trk=learning-course_nav-header-signin', 'https://www.linkedin.com/learning/topics/video-2?trk=learning-course_browsemap_link', 'https://www.linkedin.com/learning/tensorflow-working-with-nlp?trk=learning-course_similar-courses', 'https://www.linkedin.com/learning/topics/career-development-5?trk=learning-course_browsemap_link', 'https://www.linkedin.com/learning/topics/professional-development?trk=learning-course_browsemap_link', 'https://www.linkedin.com/learning/topics/small-business-and-entrepreneurship?trk=learning-course_browsemap_link', 'https://www.linkedin.com/accessibility?trk=d_learning_course_guest_footer-accessibility', 'https://www.linkedin.com/learning/topics/photography-2?trk=learning-course_browsemap_link', 'https://www.linkedin.com/learning/topics/cloud-computing-5?trk=learning-course_browsemap_link', 'https://www.linkedin.com/learning/?trk=learning-course_nav-header-logo', 'https://www.linkedin.com/learning/generative-ai-working-with-large-language-models/multi-head-attention-and-feed-forward-network?autoplay=true&trk=learning-course_tocItem', 'https://www.linkedin.com/learning/browse?trk=learning-course_breadcrumb', 'https://www.linkedin.com/learning/topics/audio-and-music?trk=learning-course_browsemap_link', 'https://www.linkedin.com/learning/topics/leadership-and-management?trk=learning-course_browsemap_link', 'https://www.linkedin.com/learning/generative-ai-working-with-large-language-models/big-bench?autoplay=true&trk=learning-course_tocItem', 'https://www.linkedin.com/learning/topics/creative?trk=learning-course_browsemap_general-link', 'https://www.linkedin.com/learning/topics/finance-and-accounting?trk=learning-course_browsemap_link', 'https://www.linkedin.com/learning/topics/technology?trk=learning-course_browsemap_general-link', 'https://www.linkedin.com/learning/topics/artificial-intelligence?trk=learning-course_breadcrumb', 'https://www.linkedin.com/learning/generative-ai-working-with-large-language-models/gpt-3?autoplay=true&trk=learning-course_tocItem', 'https://www.linkedin.com/learning/tensorflow-neural-networks-and-working-with-tables?trk=learning-course_similar-courses', 'https://about.linkedin.com?trk=d_learning_course_guest_footer-about', 'https://www.linkedin.com/learning/topics/technology?trk=learning-course_breadcrumb', 'https://www.linkedin.com/learning/generative-ai-working-with-large-language-models/learning-about-large-language-models?autoplay=true&trk=course_preview', 'https://www.linkedin.com/learning/generative-ai-working-with-large-language-models/transformers-history?autoplay=true&trk=learning-course_tocItem', 'https://www.linkedin.com/learning/topics/product-and-manufacturing?trk=learning-course_browsemap_link', 'https://brand.linkedin.com/policies?trk=d_learning_course_guest_footer-brand-policy', 'https://www.linkedin.com/legal/professional-community-policies?trk=d_learning_course_guest_footer-community-guide', 'https://www.linkedin.com/learning/topics/devops?trk=learning-course_browsemap_link', 'https://www.linkedin.com/learning/topics/customer-service-3?trk=learning-course_browsemap_link', 'https://www.linkedin.com/learning/topics/training-and-education?trk=learning-course_browsemap_link', 'https://www.linkedin.com/legal/copyright-policy?trk=d_learning_course_guest_footer-copyright-policy']\n",
      "Main url: https://www.cloudskillsboost.google/course_templates/539, Secondary url: ['https://cloud.google.com/training/courses', 'https://www.coursera.org/googlecloud']\n",
      "Main url: https://www.udemy.com/course/language-models-in-generative-ai/, Secondary url: ['https://about.udemy.com/?locale=en-us', 'https://about.udemy.com/careers?locale=en-us', 'https://about.udemy.com/accessibility-statement?locale=en-us', 'https://about.udemy.com/company?locale=en-us#offices']\n",
      "Doing split 2 out of 3, search term: Language Model training courses\n",
      "Main url: https://huggingface.co/course/chapter7/6, Secondary url: ['https://studiolab.sagemaker.aws/import/github/huggingface/notebooks/blob/master/course/en/chapter7/section6_pt.ipynb', 'https://learning.oreilly.com/library/view/natural-language-processing/9781098136789/', 'https://colab.research.google.com/github/huggingface/notebooks/blob/master/course/en/chapter7/section6_pt.ipynb', 'https://github.com/huggingface/course', 'https://huggingface.co/huggingface-course/codeparrot-ds?text=plt.imshow%28']\n",
      "Main url: https://arxiv.org/abs/2305.03981, Secondary url: ['https://info.arxiv.org/about/ourmembers.html', 'https://www.connectedpapers.com/about', 'https://replicate.com/docs/arxiv/about', 'https://info.arxiv.org/about/index.html', 'https://info.arxiv.org/about/donate.html']\n",
      "Main url: https://developers.google.com/machine-learning/glossary, Secondary url: ['https://developers.google.com/machine-learning/glossary/googlecloud', 'https://developers.google.com/machine-learning/glossary/recsystems', 'https://developers.google.com/machine-learning/advanced-courses', 'https://developers.google.com/machine-learning/glossary/tensorflow', 'https://developers.google.com/machine-learning/foundational-courses', 'https://developers.google.com/machine-learning/glossary/clustering', 'https://developers-dot-devsite-v2-prod.appspot.com/machine-learning/crash-course/backprop-scroll', 'https://developers.google.com/machine-learning/glossary/image', 'https://developers.google.com/machine-learning/glossary/df', 'https://developers.google.com/machine-learning/glossary/language', 'https://developers.google.com/machine-learning/glossary/rl', 'https://developers.google.com/machine-learning/glossary', 'https://developers.google.com/machine-learning/guides', 'https://developers.google.com/machine-learning', 'https://developers.google.com/machine-learning/glossary/fairness', 'https://developers.google.com/machine-learning/glossary/sequence', 'https://developers.google.com/machine-learning/glossary/fundamentals']\n",
      "Unable to access https://www.coursera.org/learn/sequence-models-in-nlp\n",
      "Main url: https://www.coursera.org/learn/sequence-models-in-nlp, Secondary url: []\n",
      "Main url: https://www.deepset.ai/blog/when-and-how-to-train-a-language-model, Secondary url: ['https://scikit-learn.org/stable/modules/generated/sklearn.metrics.f1_score.html', 'https://en.wikipedia.org/wiki/Hyperparameter_%28machine_learning%29']\n",
      "Doing split 3 out of 3, search term: Best courses for Large Language Models\n",
      "Main url: https://geekflare.com/best-nlp-courses/, Secondary url: []\n",
      "Main url: https://zerotomastery.io/courses/large-language-models/, Secondary url: ['https://academy.zerotomastery.io/courses/large-language-models/lectures/45678336', 'https://academy.zerotomastery.io/courses/large-language-models/lectures/45838481', 'https://academy.zerotomastery.io/courses/large-language-models/lectures/45678340', 'https://academy.zerotomastery.io/courses/large-language-models/lectures/45678334', 'https://academy.zerotomastery.io/courses/large-language-models/lectures/45838482', 'https://academy.zerotomastery.io/courses/large-language-models/lectures/45810312', 'https://academy.zerotomastery.io/courses/large-language-models/lectures/46122775', 'https://academy.zerotomastery.io/courses/large-language-models/lectures/45678338', 'https://academy.zerotomastery.io/courses/large-language-models/lectures/46203985', 'https://academy.zerotomastery.io/courses/large-language-models/lectures/45810311', 'https://academy.zerotomastery.io/courses/large-language-models/lectures/45678335', 'https://academy.zerotomastery.io/courses/large-language-models/lectures/45838483', 'https://academy.zerotomastery.io/courses/large-language-models/lectures/45678333', 'https://academy.zerotomastery.io/courses/large-language-models/lectures/45810314', 'https://academy.zerotomastery.io/courses/large-language-models/lectures/46049130', 'https://academy.zerotomastery.io/courses/large-language-models/lectures/45678339', 'https://academy.zerotomastery.io/courses/large-language-models/lectures/45838486', 'https://academy.zerotomastery.io/courses/large-language-models/lectures/45838485', 'https://academy.zerotomastery.io/courses/large-language-models/lectures/45678332', 'https://academy.zerotomastery.io/courses/large-language-models/lectures/46204380', 'https://academy.zerotomastery.io/courses/large-language-models/lectures/45838484', 'https://academy.zerotomastery.io/courses/large-language-models/lectures/46125791', 'https://academy.zerotomastery.io/courses/large-language-models/lectures/45838487', 'https://academy.zerotomastery.io/courses/large-language-models/lectures/45810313', 'https://academy.zerotomastery.io/courses/large-language-models/lectures/46130497', 'https://zerotomastery.io/courses/', 'https://academy.zerotomastery.io/courses/large-language-models/lectures/45678337']\n",
      "Main url: https://www.udacity.com/course/introduction-large-language-models-google-cloud--cd12959, Secondary url: ['https://www.udacity.com/course/flying-car-nanodegree--nd787', 'https://www.udacity.com/course/intro-to-self-driving-cars--nd113', 'https://auth.udacity.com/sign-up?next=https://learn.udacity.com', 'https://www.udacity.com/course/deep-learning-nanodegree--nd101', 'https://www.udacity.com/course/data-engineer-nanodegree--nd027', 'https://www.udacity.com/course/learn-sql--nd072', 'https://www.udacity.com/online-learning-for-individuals', 'https://www.udacity.com/course/data-analyst-nanodegree--nd002', 'https://www.udacity.com/course/digital-marketing-nanodegree--nd018', 'https://www.udacity.com/course/machine-learning-engineer-nanodegree--nd009t', 'https://www.udacity.com/course/business-analytics-nanodegree--nd098', 'https://www.udacity.com/courses/all', 'https://auth.udacity.com/sign-in?next=https://learn.udacity.com', 'https://www.udacity.com/course/self-driving-car-engineer-nanodegree--nd013', 'https://www.udacity.com/course/robotics-software-engineer--nd209', 'https://www.udacity.com/course/intro-to-programming-nanodegree--nd000', 'https://www.udacity.com/course/artificial-intelligence-nanodegree--nd889']\n",
      "{'https://www.kdnuggets.com/2023/03/top-free-courses-large-language-models.html': 'Top Free Courses on Large Language Models - KDnuggets', 'https://www.cs.princeton.edu/courses/archive/fall22/cos597G/': 'Top Free Courses on Large Language Models - KDnuggets', 'https://www.kdnuggets.com/courses/index.html': 'Top Free Courses on Large Language Models - KDnuggets', 'https://www.addtoany.com/add_to/email?linkurl=https%3A%2F%2Fwww.kdnuggets.com%2F2023%2F03%2Ftop-free-courses-large-language-models.html&linkname=Top%20Free%20Courses%20on%20Large%20Language%20Models': 'Top Free Courses on Large Language Models - KDnuggets', 'https://www.kdnuggets.com/2023/07/always-learning-ai-prevents-data-breaches.html': 'Top Free Courses on Large Language Models - KDnuggets', 'https://www.addtoany.com/add_to/facebook?linkurl=https%3A%2F%2Fwww.kdnuggets.com%2F2023%2F03%2Ftop-free-courses-large-language-models.html&linkname=Top%20Free%20Courses%20on%20Large%20Language%20Models': 'Top Free Courses on Large Language Models - KDnuggets', 'https://www.kdnuggets.com/2021/03/3-more-free-nlp-courses.html': 'Top Free Courses on Large Language Models - KDnuggets', 'https://www.kdnuggets.com/2023/07/5-free-courses-chatgpt.html': 'Top Free Courses on Large Language Models - KDnuggets', 'https://www.kdnuggets.com/tag/machine-learning': 'Top Free Courses on Large Language Models - KDnuggets', 'https://www.addtoany.com/add_to/linkedin?linkurl=https%3A%2F%2Fwww.kdnuggets.com%2F2023%2F03%2Ftop-free-courses-large-language-models.html&linkname=Top%20Free%20Courses%20on%20Large%20Language%20Models': 'Top Free Courses on Large Language Models - KDnuggets', 'https://www.kdnuggets.com/2023/03/hydra-configs-deep-learning-experiments.html': 'Top Free Courses on Large Language Models - KDnuggets', 'https://www.kdnuggets.com/2023/07/reinforcement-learning-teaching-computers-make-optimal-decisions.html': 'Top Free Courses on Large Language Models - KDnuggets', 'https://www.kdnuggets.com/about/index.html': 'Top Free Courses on Large Language Models - KDnuggets', 'https://www.addtoany.com/add_to/twitter?linkurl=https%3A%2F%2Fwww.kdnuggets.com%2F2023%2F03%2Ftop-free-courses-large-language-models.html&linkname=Top%20Free%20Courses%20on%20Large%20Language%20Models': 'Top Free Courses on Large Language Models - KDnuggets', 'https://www.addtoany.com/add_to/reddit?linkurl=https%3A%2F%2Fwww.kdnuggets.com%2F2023%2F03%2Ftop-free-courses-large-language-models.html&linkname=Top%20Free%20Courses%20on%20Large%20Language%20Models': 'Top Free Courses on Large Language Models - KDnuggets', 'https://www.kdnuggets.com/2023/06/free-courses-large-language-models.html': 'Top Free Courses on Large Language Models - KDnuggets', 'https://www.kdnuggets.com/2023/07/5-highestpaid-languages-learn-year.html': 'Top Free Courses on Large Language Models - KDnuggets', 'https://huggingface.co/course/chapter1/1': 'Top Free Courses on Large Language Models - KDnuggets', 'https://www.kdnuggets.com/2023/03/learn-large-language-models.html': 'Top Free Courses on Large Language Models - KDnuggets', 'https://www.databricks.com/blog/enroll-our-new-expert-led-large-language-models-llms-courses-edx': 'Enroll in our New Expert-Led Large Language Models (LLMs ...', 'https://www.databricks.com/dataaisummit/sessions/?itm_data=menu-learn-dais23': 'Enroll in our New Expert-Led Large Language Models (LLMs ...', 'https://www.edx.org/course/large-language-models-foundation-models-from-the-ground-up': 'Enroll in our New Expert-Led Large Language Models (LLMs ...', 'https://www.databricks.com/product/machine-learning': 'Enroll in our New Expert-Led Large Language Models (LLMs ...', 'https://www.databricks.com/learn/labs': 'Enroll in our New Expert-Led Large Language Models (LLMs ...', 'https://www.edx.org/course/large-language-models-application-through-production': 'Enroll in our New Expert-Led Large Language Models (LLMs ...', 'https://www.databricks.com/learn/executive-insights': 'Enroll in our New Expert-Led Large Language Models (LLMs ...', 'https://www.databricks.com/learn/training/home': 'Enroll in our New Expert-Led Large Language Models (LLMs ...', 'https://www.databricks.com/company/about-us': 'Enroll in our New Expert-Led Large Language Models (LLMs ...', 'https://twitter.com/intent/tweet?text=https://www.databricks.com/blog/enroll-our-new-expert-led-large-language-models-llms-courses-edx': 'Enroll in our New Expert-Led Large Language Models (LLMs ...', 'https://www.databricks.com/learn': 'Enroll in our New Expert-Led Large Language Models (LLMs ...', 'https://www.facebook.com/sharer/sharer.php?u=https://www.databricks.com/blog/enroll-our-new-expert-led-large-language-models-llms-courses-edx': 'Enroll in our New Expert-Led Large Language Models (LLMs ...', 'https://www.linkedin.com/shareArticle?mini=true&url=https://www.databricks.com/blog/enroll-our-new-expert-led-large-language-models-llms-courses-edx&summary=&source=': 'Enroll in our New Expert-Led Large Language Models (LLMs ...', 'https://medium.com/geekculture/top-resoruces-to-learn-understand-large-language-models-4d339f7b685d': 'Top Resoruces to Learn & Understand Large Language Models | by ...', 'https://medium.com/about?autoplay=1&source=post_page-----4d339f7b685d--------------------------------': 'Top Resoruces to Learn & Understand Large Language Models | by ...', 'https://about.medium.com/creators/?source=post_page-----4d339f7b685d--------------------------------': 'Top Resoruces to Learn & Understand Large Language Models | by ...', 'https://www.edx.org/professional-certificate/databricks-large-language-models': 'Large Language Models Professional Certificate | edX', 'https://courses.edx.org/support/contact_us': 'Large Language Models Professional Certificate | edX', 'https://courses.edx.org/register': 'Large Language Models Professional Certificate | edX', 'https://courses.edx.org/login': 'Large Language Models Professional Certificate | edX', 'https://www.coursera.org/learn/introduction-to-large-language-models': 'Introduction to Large Language Models | Coursera', 'https://blog.coursera.org': 'Introduction to Large Language Models | Coursera', 'https://www.coursera.org/articles/4-ps-of-marketing': 'Introduction to Large Language Models | Coursera', 'https://www.coursera.org/articles/how-to-ask-for-a-letter-of-recommendation-template-tips': 'Introduction to Large Language Models | Coursera', 'https://www.coursera.org/courses?query=chatgpt': 'Introduction to Large Language Models | Coursera', 'https://www.coursera.org/browse/computer-science': 'Introduction to Large Language Models | Coursera', 'https://www.coursera.org/professional-certificates/google-data-analytics': 'Introduction to Large Language Models | Coursera', 'https://www.coursera.org/articles/popular-cybersecurity-certifications': 'Introduction to Large Language Models | Coursera', 'https://www.coursera.org/courses?query=microsoft%20excel': 'Introduction to Large Language Models | Coursera', 'https://learner.coursera.help/hc': 'Introduction to Large Language Models | Coursera', 'https://www.coursera.org/government?utm_content=corp-to-landing-for-government&utm_campaign=website&utm_medium=coursera&utm_source=header&utm_term=b-out': 'Introduction to Large Language Models | Coursera', 'https://www.coursera.org/professional-certificates/google-cybersecurity': 'Introduction to Large Language Models | Coursera', 'https://www.coursera.org/campus?utm_content=corp-to-landing-for-campus&utm_campaign=website&utm_medium=coursera&utm_source=header&utm_term=b-out': 'Introduction to Large Language Models | Coursera', 'https://www.coursera.org/collections/new-courses-on-coursera': 'Introduction to Large Language Models | Coursera', 'https://www.coursera.org/professional-certificates/ibm-data-analyst': 'Introduction to Large Language Models | Coursera', 'https://www.coursera.org/specializations/machine-learning-introduction': 'Introduction to Large Language Models | Coursera', 'https://www.coursera.org/browse/data-science/data-analysis': 'Introduction to Large Language Models | Coursera', 'https://www.coursera.org/browse/data-science/machine-learning': 'Introduction to Large Language Models | Coursera', 'https://about.coursera.org/how-coursera-works/': 'Introduction to Large Language Models | Coursera', 'https://coursera_assets.s3.amazonaws.com/footer/Modern+Slavery+Statement+26+April+2023.pdf': 'Introduction to Large Language Models | Coursera', 'https://www.coursera.org/professional-certificates/meta-front-end-developer': 'Introduction to Large Language Models | Coursera', 'https://www.coursera.org/': 'Introduction to Large Language Models | Coursera', 'https://www.coursera.org/articles/what-does-a-data-analyst-do-a-career-guide': 'Introduction to Large Language Models | Coursera', 'https://www.coursera.org/browse/information-technology': 'Introduction to Large Language Models | Coursera', 'https://twitter.com/coursera': 'Introduction to Large Language Models | Coursera', 'https://www.coursera.org/business?utm_medium=coursera&utm_source=xdp&utm_campaign=website&utm_content=c4b-xdp-m2&utm_term=out': 'Introduction to Large Language Models | Coursera', 'https://translate-coursera.org': 'Introduction to Large Language Models | Coursera', 'https://www.coursera.org/browse/data-science': 'Introduction to Large Language Models | Coursera', 'https://www.coursera.org/browse/language-learning/learning-english': 'Introduction to Large Language Models | Coursera', 'https://www.coursera.org/courses?query=web%20development': 'Introduction to Large Language Models | Coursera', 'https://www.coursera.org/professional-certificates/google-business-intelligence': 'Introduction to Large Language Models | Coursera', 'https://www.coursera.org/articles/high-income-skills': 'Introduction to Large Language Models | Coursera', 'https://www.youtube.com/user/coursera': 'Introduction to Large Language Models | Coursera', 'https://www.instagram.com/coursera/': 'Introduction to Large Language Models | Coursera', 'https://www.coursera.org/courses?query=artificial%20intelligence': 'Introduction to Large Language Models | Coursera', 'https://www.coursera.org/professional-certificates/meta-back-end-developer': 'Introduction to Large Language Models | Coursera', 'https://about.coursera.org/affiliates': 'Introduction to Large Language Models | Coursera', 'https://www.coursera.org/learn/prompt-engineering': 'Introduction to Large Language Models | Coursera', 'https://www.coursera.support/s/article/360041137871-A-community-response-to-COVID-19': 'Introduction to Large Language Models | Coursera', 'https://www.coursera.org/courses?query=power%20bi': 'Introduction to Large Language Models | Coursera', 'https://www.coursera.org/articles/strengths-and-weaknesses-interview': 'Introduction to Large Language Models | Coursera', 'https://medium.com/coursera-engineering': 'Introduction to Large Language Models | Coursera', 'https://www.coursera.org/courses?query=project%20management': 'Introduction to Large Language Models | Coursera', 'https://www.coursera.org/courses?query=python': 'Introduction to Large Language Models | Coursera', 'https://learner.coursera.help/hc/': 'Introduction to Large Language Models | Coursera', 'https://www.coursera.org/courses?query=product%20management': 'Introduction to Large Language Models | Coursera', 'https://www.coursera.org/courses': 'Introduction to Large Language Models | Coursera', 'https://www.coursera.org/courses?query=digital%20marketing': 'Introduction to Large Language Models | Coursera', 'https://www.coursera.org/business?utm_medium=coursera&utm_source=xdp&utm_campaign=website&utm_content=c4b-xdp-m1&utm_term=out': 'Introduction to Large Language Models | Coursera', 'https://www.coursera.org/about/partners': 'Introduction to Large Language Models | Coursera', 'https://www.coursera.org/articles': 'Introduction to Large Language Models | Coursera', 'https://www.coursera.org/business?utm_medium=coursera&utm_source=xdp&utm_campaign=website&utm_content=c4b-xdp-m3&utm_term=out': 'Introduction to Large Language Models | Coursera', 'https://www.coursera.org/learn/generative-ai-with-llms': 'Introduction to Large Language Models | Coursera', 'https://www.coursera.org/articles/job-application-email': 'Introduction to Large Language Models | Coursera', 'https://www.coursera.org/business?utm_content=corp-to-home-for-enterprise&utm_campaign=website&utm_medium=coursera&utm_source=header&utm_term=b-out': 'Introduction to Large Language Models | Coursera', 'https://www.coursera.support/s/article/360000152926-Become-a-Coursera-beta-tester': 'Introduction to Large Language Models | Coursera', 'https://www.linkedin.com/company/coursera': 'Introduction to Large Language Models | Coursera', 'https://www.coursera.org/articles/professional-development-goals': 'Introduction to Large Language Models | Coursera', 'https://www.tiktok.com/@coursera': 'Introduction to Large Language Models | Coursera', 'https://about.coursera.org/': 'Introduction to Large Language Models | Coursera', 'https://www.coursera.org/articles/announce-new-job-linkedin': 'Introduction to Large Language Models | Coursera', 'https://www.coursera.org/professional-certificates/ai-engineer': 'Introduction to Large Language Models | Coursera', 'https://about.coursera.org/leadership': 'Introduction to Large Language Models | Coursera', 'https://www.coursera.org/courses?query=free': 'Introduction to Large Language Models | Coursera', 'https://www.coursera.org/courses?query=cybersecurity': 'Introduction to Large Language Models | Coursera', 'https://www.coursera.org/professional-certificates/google-advanced-data-analytics': 'Introduction to Large Language Models | Coursera', 'https://partnerships.coursera.org/?utm_medium=coursera&utm_source=partnerships&utm_campaign=website&utm_content=corp-to-home-footer-become-a-partner': 'Introduction to Large Language Models | Coursera', 'https://learner.coursera.help/hc/articles/360050668591-Accessibility-Statement': 'Introduction to Large Language Models | Coursera', 'https://www.coursera.org/professional-certificates/google-digital-marketing-ecommerce': 'Introduction to Large Language Models | Coursera', 'https://www.coursera.org/articles/how-to-write-a-letter-of-recommendation-template-tips': 'Introduction to Large Language Models | Coursera', 'https://investor.coursera.com': 'Introduction to Large Language Models | Coursera', 'https://www.coursera.community': 'Introduction to Large Language Models | Coursera', 'https://stanford-cs324.github.io/winter2022/': 'Home | CS324', 'https://canvas.stanford.edu/courses/149841/external_tools/24287?display=borderless': 'Home | CS324', 'https://canvas.stanford.edu/courses/149841/external_tools/5384': 'Home | CS324', 'https://canvas.stanford.edu/courses/149841': 'Home | CS324', 'https://www.gradescope.com/courses/342794': 'Home | CS324', 'https://www.linkedin.com/learning/generative-ai-working-with-large-language-models': 'Generative AI: Working with Large Language Models Online Class ...', 'https://www.linkedin.com/learning/topics/motion-graphics-and-vfx?trk=learning-course_browsemap_link': 'Generative AI: Working with Large Language Models Online Class ...', 'https://www.linkedin.com/legal/user-agreement?trk=d_learning_course_guest_footer-user-agreement': 'Generative AI: Working with Large Language Models Online Class ...', 'https://www.linkedin.com/learning/generative-ai-working-with-large-language-models/challenges-and-shortcomings-of-gpt-3?autoplay=true&trk=learning-course_tocItem': 'Generative AI: Working with Large Language Models Online Class ...', 'https://www.linkedin.com/learning/generative-ai-working-with-large-language-models/megatron-turing-nlg-model?autoplay=true&trk=learning-course_tocItem': 'Generative AI: Working with Large Language Models Online Class ...', 'https://www.linkedin.com/learning/generative-ai-working-with-large-language-models/self-attention?autoplay=true&trk=learning-course_tocItem': 'Generative AI: Working with Large Language Models Online Class ...', 'https://www.linkedin.com/learning/generative-ai-working-with-large-language-models/glam?autoplay=true&trk=learning-course_tocItem': 'Generative AI: Working with Large Language Models Online Class ...', 'https://www.linkedin.com/learning-login/?redirect=https%3A%2F%2Fwww%2Elinkedin%2Ecom%2Flearning%2Fgenerative-ai-working-with-large-language-models&trk=learning-course_review-card-report-button': 'Generative AI: Working with Large Language Models Online Class ...', 'https://learning.linkedin.com/for-higher-education?src=li-learning-nav&trk=learning-course_enterprise-nav': 'Generative AI: Working with Large Language Models Online Class ...', 'https://www.linkedin.com/learning/topics/marketing-2?trk=learning-course_browsemap_link': 'Generative AI: Working with Large Language Models Online Class ...', 'https://www.linkedin.com/learning/topics/mobile-development?trk=learning-course_browsemap_link': 'Generative AI: Working with Large Language Models Online Class ...', 'https://www.linkedin.com/learning/generative-ai-working-with-large-language-models/chinchilla?autoplay=true&trk=learning-course_tocItem': 'Generative AI: Working with Large Language Models Online Class ...', 'https://www.linkedin.com/learning/topics/business?trk=learning-course_browsemap_general-link': 'Generative AI: Working with Large Language Models Online Class ...', 'https://www.linkedin.com/learning/tensorflow-working-with-images?trk=learning-course_similar-courses': 'Generative AI: Working with Large Language Models Online Class ...', 'https://www.linkedin.com/learning/generative-ai-working-with-large-language-models/gopher?autoplay=true&trk=learning-course_tocItem': 'Generative AI: Working with Large Language Models Online Class ...', 'https://www.linkedin.com/learning/generative-ai-working-with-large-language-models/going-further-with-transformers?autoplay=true&trk=learning-course_tocItem': 'Generative AI: Working with Large Language Models Online Class ...', 'https://www.linkedin.com/learning/topics/database-management?trk=learning-course_browsemap_link': 'Generative AI: Working with Large Language Models Online Class ...', 'https://play.google.com/store/apps/details?id=com.linkedin.android.learning&referrer=utm_source%3Dlinkedinlearning%26utm_medium%3DmobileWeb%26utm_campaign%3Dlearning_guest&ct=learning_course_app_links&trk=learning-course_google-play-store': 'Generative AI: Working with Large Language Models Online Class ...', 'https://www.linkedin.com/learning/topics/network-and-system-administration?trk=learning-course_browsemap_link': 'Generative AI: Working with Large Language Models Online Class ...', 'https://www.linkedin.com/learning/topics/graphic-design?trk=learning-course_browsemap_link': 'Generative AI: Working with Large Language Models Online Class ...', 'https://www.linkedin.com/learning/topics/user-experience?trk=learning-course_browsemap_link': 'Generative AI: Working with Large Language Models Online Class ...', 'https://learning.linkedin.com/for-governments?src=li-learning-nav&trk=learning-course_enterprise-nav': 'Generative AI: Working with Large Language Models Online Class ...', 'https://www.linkedin.com/learning/generative-ai-working-with-large-language-models/opt-and-bloom?autoplay=true&trk=learning-course_tocItem': 'Generative AI: Working with Large Language Models Online Class ...', 'https://www.linkedin.com/learning/topics/aec?trk=learning-course_browsemap_link': 'Generative AI: Working with Large Language Models Online Class ...', 'https://www.linkedin.com/learning/topics/business-software-and-tools?trk=learning-course_browsemap_link': 'Generative AI: Working with Large Language Models Online Class ...', 'https://itunes.apple.com/app/apple-store/id1084807225?ls=1&pt=10746&mt=8&ct=learning_course_app_links&trk=learning-course_apple-app-store': 'Generative AI: Working with Large Language Models Online Class ...', 'https://www.linkedin.com/learning/topics/animation-and-illustration?trk=learning-course_browsemap_link': 'Generative AI: Working with Large Language Models Online Class ...', 'https://www.linkedin.com/learning/topics/diversity-equity-and-inclusion-dei?trk=learning-course_browsemap_link': 'Generative AI: Working with Large Language Models Online Class ...', 'https://www.linkedin.com/learning/topics/human-resources-3?trk=learning-course_browsemap_link': 'Generative AI: Working with Large Language Models Online Class ...', 'https://www.linkedin.com/psettings/guest-controls?trk=d_learning_course_guest_footer-guest-controls': 'Generative AI: Working with Large Language Models Online Class ...', 'https://www.linkedin.com/learning/topics/sales-3?trk=learning-course_browsemap_link': 'Generative AI: Working with Large Language Models Online Class ...', 'https://www.linkedin.com/learning/search?keywords=Generative+AI&trk=learning-course_pill-list': 'Generative AI: Working with Large Language Models Online Class ...', 'https://in.linkedin.com/in/sachin-dev-8969915?trk=learning-course': 'Generative AI: Working with Large Language Models Online Class ...', 'https://www.linkedin.com/learning-login/?redirect=https%3A%2F%2Fwww%2Elinkedin%2Ecom%2Flearning%2Fgenerative-ai-working-with-large-language-models&trk=learning-course_review-card-helpful-button': 'Generative AI: Working with Large Language Models Online Class ...', 'https://www.linkedin.com/learning/generative-ai-working-with-large-language-models/gpt-3-use-cases?autoplay=true&trk=learning-course_tocItem': 'Generative AI: Working with Large Language Models Online Class ...', 'https://www.linkedin.com/learning/topics/natural-language-processing-nlp?trk=learning-course_breadcrumb': 'Generative AI: Working with Large Language Models Online Class ...', 'https://learning.linkedin.com/for-entire-companies?src=li-learning-nav&trk=learning-course_enterprise-nav': 'Generative AI: Working with Large Language Models Online Class ...', 'https://www.linkedin.com/learning/generative-ai-working-with-large-language-models/what-are-large-language-models?autoplay=true&trk=learning-course_tocItem': 'Generative AI: Working with Large Language Models Online Class ...', 'https://www.linkedin.com/legal/cookie-policy?trk=d_learning_course_guest_footer-cookie-policy': 'Generative AI: Working with Large Language Models Online Class ...', 'https://www.linkedin.com/learning/topics/web-design?trk=learning-course_browsemap_link': 'Generative AI: Working with Large Language Models Online Class ...', 'https://www.linkedin.com/learning/topics/business-analysis-and-strategy?trk=learning-course_browsemap_link': 'Generative AI: Working with Large Language Models Online Class ...', 'https://www.linkedin.com/learning/generative-ai-working-with-large-language-models/palm?autoplay=true&trk=learning-course_tocItem': 'Generative AI: Working with Large Language Models Online Class ...', 'https://www.linkedin.com/learning/generative-ai-working-with-large-language-models/learning-about-large-language-models?autoplay=true&trk=learning-course_tocItem': 'Generative AI: Working with Large Language Models Online Class ...', 'https://www.linkedin.com/learning/search?keywords=Natural+Language+Processing+%28NLP%29&trk=learning-course_pill-list': 'Generative AI: Working with Large Language Models Online Class ...', 'https://www.linkedin.com/learning/generative-ai-working-with-large-language-models/transformers-in-production?autoplay=true&trk=learning-course_tocItem': 'Generative AI: Working with Large Language Models Online Class ...', 'https://www.linkedin.com/learning/search?keywords=Transformer+Models&trk=learning-course_pill-list': 'Generative AI: Working with Large Language Models Online Class ...', 'https://www.linkedin.com/learning/topics/web-development?trk=learning-course_browsemap_link': 'Generative AI: Working with Large Language Models Online Class ...', 'https://www.linkedin.com/learning/topics/data-science?trk=learning-course_browsemap_link': 'Generative AI: Working with Large Language Models Online Class ...', 'https://www.linkedin.com/legal/privacy-policy?trk=d_learning_course_guest_footer-privacy-policy': 'Generative AI: Working with Large Language Models Online Class ...', 'https://in.linkedin.com/in/syncwithrajeev?trk=learning-course': 'Generative AI: Working with Large Language Models Online Class ...', 'https://www.linkedin.com/learning/generative-ai-working-with-large-language-models/transformer-architecture-overview?autoplay=true&trk=learning-course_tocItem': 'Generative AI: Working with Large Language Models Online Class ...', 'https://www.linkedin.com/learning/topics/software-development?trk=learning-course_browsemap_link': 'Generative AI: Working with Large Language Models Online Class ...', 'https://www.linkedin.com/learning/generative-ai-working-with-large-language-models/scaling-laws?autoplay=true&trk=learning-course_tocItem': 'Generative AI: Working with Large Language Models Online Class ...', 'https://www.linkedin.com/learning/topics/it-help-desk-5?trk=learning-course_browsemap_link': 'Generative AI: Working with Large Language Models Online Class ...', 'https://www.linkedin.com/learning/topics/artificial-intelligence?trk=learning-course_browsemap_link': 'Generative AI: Working with Large Language Models Online Class ...', 'https://www.linkedin.com/learning/topics/project-management?trk=learning-course_browsemap_link': 'Generative AI: Working with Large Language Models Online Class ...', 'https://www.linkedin.com/learning/generative-ai-working-with-large-language-models/transfer-learning?autoplay=true&trk=learning-course_tocItem': 'Generative AI: Working with Large Language Models Online Class ...', 'https://uk.linkedin.com/in/jonathanafernandes?trk=learning-course_instructor': 'Generative AI: Working with Large Language Models Online Class ...', 'https://www.linkedin.com/learning/topics/visualization-and-real-time?trk=learning-course_browsemap_link': 'Generative AI: Working with Large Language Models Online Class ...', 'https://www.linkedin.com/learning/topics/security-3?trk=learning-course_browsemap_link': 'Generative AI: Working with Large Language Models Online Class ...', 'https://www.linkedin.com/learning-login/?redirect=https%3A%2F%2Fwww%2Elinkedin%2Ecom%2Flearning%2Fgenerative-ai-working-with-large-language-models&fromSignIn=true&session_redirect=https%3A%2F%2Fwww.linkedin.com%2Flearning%2Fgenerative-ai-working-with-large-language-models&trk=learning-course_nav-header-signin': 'Generative AI: Working with Large Language Models Online Class ...', 'https://www.linkedin.com/learning/topics/video-2?trk=learning-course_browsemap_link': 'Generative AI: Working with Large Language Models Online Class ...', 'https://www.linkedin.com/learning/tensorflow-working-with-nlp?trk=learning-course_similar-courses': 'Generative AI: Working with Large Language Models Online Class ...', 'https://www.linkedin.com/learning/topics/career-development-5?trk=learning-course_browsemap_link': 'Generative AI: Working with Large Language Models Online Class ...', 'https://www.linkedin.com/learning/topics/professional-development?trk=learning-course_browsemap_link': 'Generative AI: Working with Large Language Models Online Class ...', 'https://www.linkedin.com/learning/topics/small-business-and-entrepreneurship?trk=learning-course_browsemap_link': 'Generative AI: Working with Large Language Models Online Class ...', 'https://www.linkedin.com/accessibility?trk=d_learning_course_guest_footer-accessibility': 'Generative AI: Working with Large Language Models Online Class ...', 'https://www.linkedin.com/learning/topics/photography-2?trk=learning-course_browsemap_link': 'Generative AI: Working with Large Language Models Online Class ...', 'https://www.linkedin.com/learning/topics/cloud-computing-5?trk=learning-course_browsemap_link': 'Generative AI: Working with Large Language Models Online Class ...', 'https://www.linkedin.com/learning/?trk=learning-course_nav-header-logo': 'Generative AI: Working with Large Language Models Online Class ...', 'https://www.linkedin.com/learning/generative-ai-working-with-large-language-models/multi-head-attention-and-feed-forward-network?autoplay=true&trk=learning-course_tocItem': 'Generative AI: Working with Large Language Models Online Class ...', 'https://www.linkedin.com/learning/browse?trk=learning-course_breadcrumb': 'Generative AI: Working with Large Language Models Online Class ...', 'https://www.linkedin.com/learning/topics/audio-and-music?trk=learning-course_browsemap_link': 'Generative AI: Working with Large Language Models Online Class ...', 'https://www.linkedin.com/learning/topics/leadership-and-management?trk=learning-course_browsemap_link': 'Generative AI: Working with Large Language Models Online Class ...', 'https://www.linkedin.com/learning/generative-ai-working-with-large-language-models/big-bench?autoplay=true&trk=learning-course_tocItem': 'Generative AI: Working with Large Language Models Online Class ...', 'https://www.linkedin.com/learning/topics/creative?trk=learning-course_browsemap_general-link': 'Generative AI: Working with Large Language Models Online Class ...', 'https://www.linkedin.com/learning/topics/finance-and-accounting?trk=learning-course_browsemap_link': 'Generative AI: Working with Large Language Models Online Class ...', 'https://www.linkedin.com/learning/topics/technology?trk=learning-course_browsemap_general-link': 'Generative AI: Working with Large Language Models Online Class ...', 'https://www.linkedin.com/learning/topics/artificial-intelligence?trk=learning-course_breadcrumb': 'Generative AI: Working with Large Language Models Online Class ...', 'https://www.linkedin.com/learning/generative-ai-working-with-large-language-models/gpt-3?autoplay=true&trk=learning-course_tocItem': 'Generative AI: Working with Large Language Models Online Class ...', 'https://www.linkedin.com/learning/tensorflow-neural-networks-and-working-with-tables?trk=learning-course_similar-courses': 'Generative AI: Working with Large Language Models Online Class ...', 'https://about.linkedin.com?trk=d_learning_course_guest_footer-about': 'Generative AI: Working with Large Language Models Online Class ...', 'https://www.linkedin.com/learning/topics/technology?trk=learning-course_breadcrumb': 'Generative AI: Working with Large Language Models Online Class ...', 'https://www.linkedin.com/learning/generative-ai-working-with-large-language-models/learning-about-large-language-models?autoplay=true&trk=course_preview': 'Generative AI: Working with Large Language Models Online Class ...', 'https://www.linkedin.com/learning/generative-ai-working-with-large-language-models/transformers-history?autoplay=true&trk=learning-course_tocItem': 'Generative AI: Working with Large Language Models Online Class ...', 'https://www.linkedin.com/learning/topics/product-and-manufacturing?trk=learning-course_browsemap_link': 'Generative AI: Working with Large Language Models Online Class ...', 'https://brand.linkedin.com/policies?trk=d_learning_course_guest_footer-brand-policy': 'Generative AI: Working with Large Language Models Online Class ...', 'https://www.linkedin.com/legal/professional-community-policies?trk=d_learning_course_guest_footer-community-guide': 'Generative AI: Working with Large Language Models Online Class ...', 'https://www.linkedin.com/learning/topics/devops?trk=learning-course_browsemap_link': 'Generative AI: Working with Large Language Models Online Class ...', 'https://www.linkedin.com/learning/topics/customer-service-3?trk=learning-course_browsemap_link': 'Generative AI: Working with Large Language Models Online Class ...', 'https://www.linkedin.com/learning/topics/training-and-education?trk=learning-course_browsemap_link': 'Generative AI: Working with Large Language Models Online Class ...', 'https://www.linkedin.com/legal/copyright-policy?trk=d_learning_course_guest_footer-copyright-policy': 'Generative AI: Working with Large Language Models Online Class ...', 'https://www.cloudskillsboost.google/course_templates/539': 'Introduction to Large Language Models | Google Cloud Skills Boost', 'https://cloud.google.com/training/courses': 'Introduction to Large Language Models | Google Cloud Skills Boost', 'https://www.coursera.org/googlecloud': 'Introduction to Large Language Models | Google Cloud Skills Boost', 'https://www.udemy.com/course/language-models-in-generative-ai/': 'Working with Large Language Models in Generative AI | Udemy', 'https://about.udemy.com/?locale=en-us': 'Working with Large Language Models in Generative AI | Udemy', 'https://about.udemy.com/careers?locale=en-us': 'Working with Large Language Models in Generative AI | Udemy', 'https://about.udemy.com/accessibility-statement?locale=en-us': 'Working with Large Language Models in Generative AI | Udemy', 'https://about.udemy.com/company?locale=en-us#offices': 'Working with Large Language Models in Generative AI | Udemy', 'https://huggingface.co/course/chapter7/6': 'Training a causal language model from scratch - Hugging Face NLP ...', 'https://studiolab.sagemaker.aws/import/github/huggingface/notebooks/blob/master/course/en/chapter7/section6_pt.ipynb': 'Training a causal language model from scratch - Hugging Face NLP ...', 'https://learning.oreilly.com/library/view/natural-language-processing/9781098136789/': 'Training a causal language model from scratch - Hugging Face NLP ...', 'https://colab.research.google.com/github/huggingface/notebooks/blob/master/course/en/chapter7/section6_pt.ipynb': 'Training a causal language model from scratch - Hugging Face NLP ...', 'https://github.com/huggingface/course': 'Training a causal language model from scratch - Hugging Face NLP ...', 'https://huggingface.co/huggingface-course/codeparrot-ds?text=plt.imshow%28': 'Training a causal language model from scratch - Hugging Face NLP ...', 'https://arxiv.org/abs/2305.03981': 'Pre-training Language Model as a Multi-perspective Course Learner', 'https://info.arxiv.org/about/ourmembers.html': 'Pre-training Language Model as a Multi-perspective Course Learner', 'https://www.connectedpapers.com/about': 'Pre-training Language Model as a Multi-perspective Course Learner', 'https://replicate.com/docs/arxiv/about': 'Pre-training Language Model as a Multi-perspective Course Learner', 'https://info.arxiv.org/about/index.html': 'Pre-training Language Model as a Multi-perspective Course Learner', 'https://info.arxiv.org/about/donate.html': 'Pre-training Language Model as a Multi-perspective Course Learner', 'https://developers.google.com/machine-learning/glossary': 'Machine Learning Glossary | Google for Developers', 'https://developers.google.com/machine-learning/glossary/googlecloud': 'Machine Learning Glossary | Google for Developers', 'https://developers.google.com/machine-learning/glossary/recsystems': 'Machine Learning Glossary | Google for Developers', 'https://developers.google.com/machine-learning/advanced-courses': 'Machine Learning Glossary | Google for Developers', 'https://developers.google.com/machine-learning/glossary/tensorflow': 'Machine Learning Glossary | Google for Developers', 'https://developers.google.com/machine-learning/foundational-courses': 'Machine Learning Glossary | Google for Developers', 'https://developers.google.com/machine-learning/glossary/clustering': 'Machine Learning Glossary | Google for Developers', 'https://developers-dot-devsite-v2-prod.appspot.com/machine-learning/crash-course/backprop-scroll': 'Machine Learning Glossary | Google for Developers', 'https://developers.google.com/machine-learning/glossary/image': 'Machine Learning Glossary | Google for Developers', 'https://developers.google.com/machine-learning/glossary/df': 'Machine Learning Glossary | Google for Developers', 'https://developers.google.com/machine-learning/glossary/language': 'Machine Learning Glossary | Google for Developers', 'https://developers.google.com/machine-learning/glossary/rl': 'Machine Learning Glossary | Google for Developers', 'https://developers.google.com/machine-learning/guides': 'Machine Learning Glossary | Google for Developers', 'https://developers.google.com/machine-learning': 'Machine Learning Glossary | Google for Developers', 'https://developers.google.com/machine-learning/glossary/fairness': 'Machine Learning Glossary | Google for Developers', 'https://developers.google.com/machine-learning/glossary/sequence': 'Machine Learning Glossary | Google for Developers', 'https://developers.google.com/machine-learning/glossary/fundamentals': 'Machine Learning Glossary | Google for Developers', 'https://www.coursera.org/learn/sequence-models-in-nlp': 'Natural Language Processing with Sequence Models | Coursera', 'https://www.deepset.ai/blog/when-and-how-to-train-a-language-model': 'When and How to Train Your Own Language Model | deepset', 'https://scikit-learn.org/stable/modules/generated/sklearn.metrics.f1_score.html': 'When and How to Train Your Own Language Model | deepset', 'https://en.wikipedia.org/wiki/Hyperparameter_%28machine_learning%29': 'When and How to Train Your Own Language Model | deepset', 'https://geekflare.com/best-nlp-courses/': '13 Best NLP Courses to Learn Natural Language Processing ...', 'https://zerotomastery.io/courses/large-language-models/': 'ChatGPT & Large Language Models (LLMs): A Practical Guide ...', 'https://academy.zerotomastery.io/courses/large-language-models/lectures/45678336': 'ChatGPT & Large Language Models (LLMs): A Practical Guide ...', 'https://academy.zerotomastery.io/courses/large-language-models/lectures/45838481': 'ChatGPT & Large Language Models (LLMs): A Practical Guide ...', 'https://academy.zerotomastery.io/courses/large-language-models/lectures/45678340': 'ChatGPT & Large Language Models (LLMs): A Practical Guide ...', 'https://academy.zerotomastery.io/courses/large-language-models/lectures/45678334': 'ChatGPT & Large Language Models (LLMs): A Practical Guide ...', 'https://academy.zerotomastery.io/courses/large-language-models/lectures/45838482': 'ChatGPT & Large Language Models (LLMs): A Practical Guide ...', 'https://academy.zerotomastery.io/courses/large-language-models/lectures/45810312': 'ChatGPT & Large Language Models (LLMs): A Practical Guide ...', 'https://academy.zerotomastery.io/courses/large-language-models/lectures/46122775': 'ChatGPT & Large Language Models (LLMs): A Practical Guide ...', 'https://academy.zerotomastery.io/courses/large-language-models/lectures/45678338': 'ChatGPT & Large Language Models (LLMs): A Practical Guide ...', 'https://academy.zerotomastery.io/courses/large-language-models/lectures/46203985': 'ChatGPT & Large Language Models (LLMs): A Practical Guide ...', 'https://academy.zerotomastery.io/courses/large-language-models/lectures/45810311': 'ChatGPT & Large Language Models (LLMs): A Practical Guide ...', 'https://academy.zerotomastery.io/courses/large-language-models/lectures/45678335': 'ChatGPT & Large Language Models (LLMs): A Practical Guide ...', 'https://academy.zerotomastery.io/courses/large-language-models/lectures/45838483': 'ChatGPT & Large Language Models (LLMs): A Practical Guide ...', 'https://academy.zerotomastery.io/courses/large-language-models/lectures/45678333': 'ChatGPT & Large Language Models (LLMs): A Practical Guide ...', 'https://academy.zerotomastery.io/courses/large-language-models/lectures/45810314': 'ChatGPT & Large Language Models (LLMs): A Practical Guide ...', 'https://academy.zerotomastery.io/courses/large-language-models/lectures/46049130': 'ChatGPT & Large Language Models (LLMs): A Practical Guide ...', 'https://academy.zerotomastery.io/courses/large-language-models/lectures/45678339': 'ChatGPT & Large Language Models (LLMs): A Practical Guide ...', 'https://academy.zerotomastery.io/courses/large-language-models/lectures/45838486': 'ChatGPT & Large Language Models (LLMs): A Practical Guide ...', 'https://academy.zerotomastery.io/courses/large-language-models/lectures/45838485': 'ChatGPT & Large Language Models (LLMs): A Practical Guide ...', 'https://academy.zerotomastery.io/courses/large-language-models/lectures/45678332': 'ChatGPT & Large Language Models (LLMs): A Practical Guide ...', 'https://academy.zerotomastery.io/courses/large-language-models/lectures/46204380': 'ChatGPT & Large Language Models (LLMs): A Practical Guide ...', 'https://academy.zerotomastery.io/courses/large-language-models/lectures/45838484': 'ChatGPT & Large Language Models (LLMs): A Practical Guide ...', 'https://academy.zerotomastery.io/courses/large-language-models/lectures/46125791': 'ChatGPT & Large Language Models (LLMs): A Practical Guide ...', 'https://academy.zerotomastery.io/courses/large-language-models/lectures/45838487': 'ChatGPT & Large Language Models (LLMs): A Practical Guide ...', 'https://academy.zerotomastery.io/courses/large-language-models/lectures/45810313': 'ChatGPT & Large Language Models (LLMs): A Practical Guide ...', 'https://academy.zerotomastery.io/courses/large-language-models/lectures/46130497': 'ChatGPT & Large Language Models (LLMs): A Practical Guide ...', 'https://zerotomastery.io/courses/': 'ChatGPT & Large Language Models (LLMs): A Practical Guide ...', 'https://academy.zerotomastery.io/courses/large-language-models/lectures/45678337': 'ChatGPT & Large Language Models (LLMs): A Practical Guide ...', 'https://www.udacity.com/course/introduction-large-language-models-google-cloud--cd12959': 'Google Cloud Introduction to Large Language Models Course | Free ...', 'https://www.udacity.com/course/flying-car-nanodegree--nd787': 'Google Cloud Introduction to Large Language Models Course | Free ...', 'https://www.udacity.com/course/intro-to-self-driving-cars--nd113': 'Google Cloud Introduction to Large Language Models Course | Free ...', 'https://auth.udacity.com/sign-up?next=https://learn.udacity.com': 'Google Cloud Introduction to Large Language Models Course | Free ...', 'https://www.udacity.com/course/deep-learning-nanodegree--nd101': 'Google Cloud Introduction to Large Language Models Course | Free ...', 'https://www.udacity.com/course/data-engineer-nanodegree--nd027': 'Google Cloud Introduction to Large Language Models Course | Free ...', 'https://www.udacity.com/course/learn-sql--nd072': 'Google Cloud Introduction to Large Language Models Course | Free ...', 'https://www.udacity.com/online-learning-for-individuals': 'Google Cloud Introduction to Large Language Models Course | Free ...', 'https://www.udacity.com/course/data-analyst-nanodegree--nd002': 'Google Cloud Introduction to Large Language Models Course | Free ...', 'https://www.udacity.com/course/digital-marketing-nanodegree--nd018': 'Google Cloud Introduction to Large Language Models Course | Free ...', 'https://www.udacity.com/course/machine-learning-engineer-nanodegree--nd009t': 'Google Cloud Introduction to Large Language Models Course | Free ...', 'https://www.udacity.com/course/business-analytics-nanodegree--nd098': 'Google Cloud Introduction to Large Language Models Course | Free ...', 'https://www.udacity.com/courses/all': 'Google Cloud Introduction to Large Language Models Course | Free ...', 'https://auth.udacity.com/sign-in?next=https://learn.udacity.com': 'Google Cloud Introduction to Large Language Models Course | Free ...', 'https://www.udacity.com/course/self-driving-car-engineer-nanodegree--nd013': 'Google Cloud Introduction to Large Language Models Course | Free ...', 'https://www.udacity.com/course/robotics-software-engineer--nd209': 'Google Cloud Introduction to Large Language Models Course | Free ...', 'https://www.udacity.com/course/intro-to-programming-nanodegree--nd000': 'Google Cloud Introduction to Large Language Models Course | Free ...', 'https://www.udacity.com/course/artificial-intelligence-nanodegree--nd889': 'Google Cloud Introduction to Large Language Models Course | Free ...'}\n"
     ]
    }
   ],
   "source": [
    "# Use the Google results and populate the URL dictionary\n",
    "urldict = {}\n",
    "mainurllist = []\n",
    "for num, data in enumerate(datalist):\n",
    "    print(f'Doing split {num+1} out of {len(datalist)}, search term: {search_terms[num%len(search_terms)]}')\n",
    "    # Process the search results and get list of secondary sources\n",
    "    items = data.get('items', [])\n",
    "    for item in items:\n",
    "        title = item.get('title')\n",
    "        snippet = item.get('snippet')\n",
    "        url = item.get('link')\n",
    "        # if url has been done before, skip it\n",
    "        if url in urldict: continue\n",
    "        \n",
    "        # if url is not relevant, skip it\n",
    "        relevant = True\n",
    "        for each in unwanted_url:\n",
    "            if each in url: relevant = False\n",
    "        if not relevant: continue\n",
    "            \n",
    "        urldict[url] = title\n",
    "        mainurllist.append(url)\n",
    "        \n",
    "        ## Secondary Links from primary link\n",
    "        new_urls = extract_unique_urls(url, unwanted_url = unwanted_url, keyword_list = keyword_list)\n",
    "        print(f'Main url: {url}, Secondary url: {new_urls}')\n",
    "        for new_url in new_urls:\n",
    "            # if url has been done before, skip it\n",
    "            if new_url in urldict: continue\n",
    "            # populate the new url dictionary\n",
    "            urldict[new_url] = title\n",
    "\n",
    "mainurllist = list(set(mainurllist))\n",
    "print(urldict)"
   ]
  },
  {
   "cell_type": "code",
   "execution_count": 31,
   "id": "12745eb4-d52a-403f-9ee2-520512f18deb",
   "metadata": {},
   "outputs": [
    {
     "name": "stdout",
     "output_type": "stream",
     "text": [
      "Original main search url numbers: 17\n"
     ]
    }
   ],
   "source": [
    "print('Original main search url numbers:', len(mainurllist))"
   ]
  },
  {
   "cell_type": "code",
   "execution_count": 32,
   "id": "0da738e1-e6e3-426f-9fda-37aaef4dfed8",
   "metadata": {},
   "outputs": [
    {
     "name": "stdout",
     "output_type": "stream",
     "text": [
      "Original total search url numbers: 296\n"
     ]
    }
   ],
   "source": [
    "print('Original total search url numbers:', len(urldict))"
   ]
  },
  {
   "cell_type": "markdown",
   "id": "f7bfa6f9-9d6c-4334-a727-7444358c5b1c",
   "metadata": {
    "tags": []
   },
   "source": [
    "## Filter\n",
    "- Get at most max_url_per_site sites per main site (title as key)\n",
    "- Use GPT to decide which sites are more important"
   ]
  },
  {
   "cell_type": "code",
   "execution_count": 33,
   "id": "325ca04c-cb48-480f-adf7-7f7f3f354a91",
   "metadata": {},
   "outputs": [],
   "source": [
    "## Get new dictionary with title as key and list of urls as value\n",
    "titledict = {}\n",
    "for key, value in urldict.items():\n",
    "    value = value.replace('’','\\'')\n",
    "    if value not in titledict:\n",
    "        titledict[value] = [key]\n",
    "    else:\n",
    "        titledict[value].append(key)"
   ]
  },
  {
   "cell_type": "code",
   "execution_count": 34,
   "id": "61b1799b-0c25-46ee-9c92-94f2314e7a3e",
   "metadata": {},
   "outputs": [
    {
     "name": "stdout",
     "output_type": "stream",
     "text": [
      "Original list: ['https://www.kdnuggets.com/2023/03/top-free-courses-large-language-models.html', 'https://www.cs.princeton.edu/courses/archive/fall22/cos597G/', 'https://www.kdnuggets.com/courses/index.html', 'https://www.addtoany.com/add_to/email?linkurl=https%3A%2F%2Fwww.kdnuggets.com%2F2023%2F03%2Ftop-free-courses-large-language-models.html&linkname=Top%20Free%20Courses%20on%20Large%20Language%20Models', 'https://www.kdnuggets.com/2023/07/always-learning-ai-prevents-data-breaches.html', 'https://www.addtoany.com/add_to/facebook?linkurl=https%3A%2F%2Fwww.kdnuggets.com%2F2023%2F03%2Ftop-free-courses-large-language-models.html&linkname=Top%20Free%20Courses%20on%20Large%20Language%20Models', 'https://www.kdnuggets.com/2021/03/3-more-free-nlp-courses.html', 'https://www.kdnuggets.com/2023/07/5-free-courses-chatgpt.html', 'https://www.kdnuggets.com/tag/machine-learning', 'https://www.addtoany.com/add_to/linkedin?linkurl=https%3A%2F%2Fwww.kdnuggets.com%2F2023%2F03%2Ftop-free-courses-large-language-models.html&linkname=Top%20Free%20Courses%20on%20Large%20Language%20Models', 'https://www.kdnuggets.com/2023/03/hydra-configs-deep-learning-experiments.html', 'https://www.kdnuggets.com/2023/07/reinforcement-learning-teaching-computers-make-optimal-decisions.html', 'https://www.kdnuggets.com/about/index.html', 'https://www.addtoany.com/add_to/twitter?linkurl=https%3A%2F%2Fwww.kdnuggets.com%2F2023%2F03%2Ftop-free-courses-large-language-models.html&linkname=Top%20Free%20Courses%20on%20Large%20Language%20Models', 'https://www.addtoany.com/add_to/reddit?linkurl=https%3A%2F%2Fwww.kdnuggets.com%2F2023%2F03%2Ftop-free-courses-large-language-models.html&linkname=Top%20Free%20Courses%20on%20Large%20Language%20Models', 'https://www.kdnuggets.com/2023/06/free-courses-large-language-models.html', 'https://www.kdnuggets.com/2023/07/5-highestpaid-languages-learn-year.html', 'https://huggingface.co/course/chapter1/1', 'https://www.kdnuggets.com/2023/03/learn-large-language-models.html']\n",
      "Curated list: ['https://www.kdnuggets.com/2023/03/top-free-courses-large-language-models.html', 'https://www.cs.princeton.edu/courses/archive/fall22/cos597G/', 'https://huggingface.co/course/chapter1/1']\n",
      "Original list: ['https://www.databricks.com/blog/enroll-our-new-expert-led-large-language-models-llms-courses-edx', 'https://www.databricks.com/dataaisummit/sessions/?itm_data=menu-learn-dais23', 'https://www.edx.org/course/large-language-models-foundation-models-from-the-ground-up', 'https://www.databricks.com/product/machine-learning', 'https://www.databricks.com/learn/labs', 'https://www.edx.org/course/large-language-models-application-through-production', 'https://www.databricks.com/learn/executive-insights', 'https://www.databricks.com/learn/training/home', 'https://www.databricks.com/company/about-us', 'https://twitter.com/intent/tweet?text=https://www.databricks.com/blog/enroll-our-new-expert-led-large-language-models-llms-courses-edx', 'https://www.databricks.com/learn', 'https://www.facebook.com/sharer/sharer.php?u=https://www.databricks.com/blog/enroll-our-new-expert-led-large-language-models-llms-courses-edx', 'https://www.linkedin.com/shareArticle?mini=true&url=https://www.databricks.com/blog/enroll-our-new-expert-led-large-language-models-llms-courses-edx&summary=&source=']\n",
      "Curated list: ['https://www.databricks.com/blog/enroll-our-new-expert-led-large-language-models-llms-courses-edx', 'https://www.edx.org/course/large-language-models-foundation-models-from-the-ground-up', 'https://www.edx.org/course/large-language-models-application-through-production']\n",
      "Original list: ['https://www.edx.org/professional-certificate/databricks-large-language-models', 'https://courses.edx.org/support/contact_us', 'https://courses.edx.org/register', 'https://courses.edx.org/login']\n",
      "Curated list: ['https://www.edx.org/professional-certificate/databricks-large-language-models']\n",
      "Original list: ['https://www.coursera.org/learn/introduction-to-large-language-models', 'https://blog.coursera.org', 'https://www.coursera.org/articles/4-ps-of-marketing', 'https://www.coursera.org/articles/how-to-ask-for-a-letter-of-recommendation-template-tips', 'https://www.coursera.org/courses?query=chatgpt', 'https://www.coursera.org/browse/computer-science', 'https://www.coursera.org/professional-certificates/google-data-analytics', 'https://www.coursera.org/articles/popular-cybersecurity-certifications', 'https://www.coursera.org/courses?query=microsoft%20excel', 'https://learner.coursera.help/hc', 'https://www.coursera.org/government?utm_content=corp-to-landing-for-government&utm_campaign=website&utm_medium=coursera&utm_source=header&utm_term=b-out', 'https://www.coursera.org/professional-certificates/google-cybersecurity', 'https://www.coursera.org/campus?utm_content=corp-to-landing-for-campus&utm_campaign=website&utm_medium=coursera&utm_source=header&utm_term=b-out', 'https://www.coursera.org/collections/new-courses-on-coursera', 'https://www.coursera.org/professional-certificates/ibm-data-analyst', 'https://www.coursera.org/specializations/machine-learning-introduction', 'https://www.coursera.org/browse/data-science/data-analysis', 'https://www.coursera.org/browse/data-science/machine-learning', 'https://about.coursera.org/how-coursera-works/', 'https://coursera_assets.s3.amazonaws.com/footer/Modern+Slavery+Statement+26+April+2023.pdf', 'https://www.coursera.org/professional-certificates/meta-front-end-developer', 'https://www.coursera.org/', 'https://www.coursera.org/articles/what-does-a-data-analyst-do-a-career-guide', 'https://www.coursera.org/browse/information-technology', 'https://twitter.com/coursera', 'https://www.coursera.org/business?utm_medium=coursera&utm_source=xdp&utm_campaign=website&utm_content=c4b-xdp-m2&utm_term=out', 'https://translate-coursera.org', 'https://www.coursera.org/browse/data-science', 'https://www.coursera.org/browse/language-learning/learning-english', 'https://www.coursera.org/courses?query=web%20development', 'https://www.coursera.org/professional-certificates/google-business-intelligence', 'https://www.coursera.org/articles/high-income-skills', 'https://www.youtube.com/user/coursera', 'https://www.instagram.com/coursera/', 'https://www.coursera.org/courses?query=artificial%20intelligence', 'https://www.coursera.org/professional-certificates/meta-back-end-developer', 'https://about.coursera.org/affiliates', 'https://www.coursera.org/learn/prompt-engineering', 'https://www.coursera.support/s/article/360041137871-A-community-response-to-COVID-19', 'https://www.coursera.org/courses?query=power%20bi', 'https://www.coursera.org/articles/strengths-and-weaknesses-interview', 'https://medium.com/coursera-engineering', 'https://www.coursera.org/courses?query=project%20management', 'https://www.coursera.org/courses?query=python', 'https://learner.coursera.help/hc/', 'https://www.coursera.org/courses?query=product%20management', 'https://www.coursera.org/courses', 'https://www.coursera.org/courses?query=digital%20marketing', 'https://www.coursera.org/business?utm_medium=coursera&utm_source=xdp&utm_campaign=website&utm_content=c4b-xdp-m1&utm_term=out', 'https://www.coursera.org/about/partners', 'https://www.coursera.org/articles', 'https://www.coursera.org/business?utm_medium=coursera&utm_source=xdp&utm_campaign=website&utm_content=c4b-xdp-m3&utm_term=out', 'https://www.coursera.org/learn/generative-ai-with-llms', 'https://www.coursera.org/articles/job-application-email', 'https://www.coursera.org/business?utm_content=corp-to-home-for-enterprise&utm_campaign=website&utm_medium=coursera&utm_source=header&utm_term=b-out', 'https://www.coursera.support/s/article/360000152926-Become-a-Coursera-beta-tester', 'https://www.linkedin.com/company/coursera', 'https://www.coursera.org/articles/professional-development-goals', 'https://www.tiktok.com/@coursera', 'https://about.coursera.org/', 'https://www.coursera.org/articles/announce-new-job-linkedin', 'https://www.coursera.org/professional-certificates/ai-engineer', 'https://about.coursera.org/leadership', 'https://www.coursera.org/courses?query=free', 'https://www.coursera.org/courses?query=cybersecurity', 'https://www.coursera.org/professional-certificates/google-advanced-data-analytics', 'https://partnerships.coursera.org/?utm_medium=coursera&utm_source=partnerships&utm_campaign=website&utm_content=corp-to-home-footer-become-a-partner', 'https://learner.coursera.help/hc/articles/360050668591-Accessibility-Statement', 'https://www.coursera.org/professional-certificates/google-digital-marketing-ecommerce', 'https://www.coursera.org/articles/how-to-write-a-letter-of-recommendation-template-tips', 'https://investor.coursera.com', 'https://www.coursera.community']\n",
      "Curated list: ['https://www.coursera.org/learn/introduction-to-large-language-models']\n",
      "Original list: ['https://stanford-cs324.github.io/winter2022/', 'https://canvas.stanford.edu/courses/149841/external_tools/24287?display=borderless', 'https://canvas.stanford.edu/courses/149841/external_tools/5384', 'https://canvas.stanford.edu/courses/149841', 'https://www.gradescope.com/courses/342794']\n",
      "Curated list: ['https://stanford-cs324.github.io/winter2022/', 'https://canvas.stanford.edu/courses/149841/external_tools/24287?display=borderless', 'https://canvas.stanford.edu/courses/149841/external_tools/5384']\n",
      "Original list: ['https://www.linkedin.com/learning/generative-ai-working-with-large-language-models', 'https://www.linkedin.com/learning/topics/motion-graphics-and-vfx?trk=learning-course_browsemap_link', 'https://www.linkedin.com/legal/user-agreement?trk=d_learning_course_guest_footer-user-agreement', 'https://www.linkedin.com/learning/generative-ai-working-with-large-language-models/challenges-and-shortcomings-of-gpt-3?autoplay=true&trk=learning-course_tocItem', 'https://www.linkedin.com/learning/generative-ai-working-with-large-language-models/megatron-turing-nlg-model?autoplay=true&trk=learning-course_tocItem', 'https://www.linkedin.com/learning/generative-ai-working-with-large-language-models/self-attention?autoplay=true&trk=learning-course_tocItem', 'https://www.linkedin.com/learning/generative-ai-working-with-large-language-models/glam?autoplay=true&trk=learning-course_tocItem', 'https://www.linkedin.com/learning-login/?redirect=https%3A%2F%2Fwww%2Elinkedin%2Ecom%2Flearning%2Fgenerative-ai-working-with-large-language-models&trk=learning-course_review-card-report-button', 'https://learning.linkedin.com/for-higher-education?src=li-learning-nav&trk=learning-course_enterprise-nav', 'https://www.linkedin.com/learning/topics/marketing-2?trk=learning-course_browsemap_link', 'https://www.linkedin.com/learning/topics/mobile-development?trk=learning-course_browsemap_link', 'https://www.linkedin.com/learning/generative-ai-working-with-large-language-models/chinchilla?autoplay=true&trk=learning-course_tocItem', 'https://www.linkedin.com/learning/topics/business?trk=learning-course_browsemap_general-link', 'https://www.linkedin.com/learning/tensorflow-working-with-images?trk=learning-course_similar-courses', 'https://www.linkedin.com/learning/generative-ai-working-with-large-language-models/gopher?autoplay=true&trk=learning-course_tocItem', 'https://www.linkedin.com/learning/generative-ai-working-with-large-language-models/going-further-with-transformers?autoplay=true&trk=learning-course_tocItem', 'https://www.linkedin.com/learning/topics/database-management?trk=learning-course_browsemap_link', 'https://play.google.com/store/apps/details?id=com.linkedin.android.learning&referrer=utm_source%3Dlinkedinlearning%26utm_medium%3DmobileWeb%26utm_campaign%3Dlearning_guest&ct=learning_course_app_links&trk=learning-course_google-play-store', 'https://www.linkedin.com/learning/topics/network-and-system-administration?trk=learning-course_browsemap_link', 'https://www.linkedin.com/learning/topics/graphic-design?trk=learning-course_browsemap_link', 'https://www.linkedin.com/learning/topics/user-experience?trk=learning-course_browsemap_link', 'https://learning.linkedin.com/for-governments?src=li-learning-nav&trk=learning-course_enterprise-nav', 'https://www.linkedin.com/learning/generative-ai-working-with-large-language-models/opt-and-bloom?autoplay=true&trk=learning-course_tocItem', 'https://www.linkedin.com/learning/topics/aec?trk=learning-course_browsemap_link', 'https://www.linkedin.com/learning/topics/business-software-and-tools?trk=learning-course_browsemap_link', 'https://itunes.apple.com/app/apple-store/id1084807225?ls=1&pt=10746&mt=8&ct=learning_course_app_links&trk=learning-course_apple-app-store', 'https://www.linkedin.com/learning/topics/animation-and-illustration?trk=learning-course_browsemap_link', 'https://www.linkedin.com/learning/topics/diversity-equity-and-inclusion-dei?trk=learning-course_browsemap_link', 'https://www.linkedin.com/learning/topics/human-resources-3?trk=learning-course_browsemap_link', 'https://www.linkedin.com/psettings/guest-controls?trk=d_learning_course_guest_footer-guest-controls', 'https://www.linkedin.com/learning/topics/sales-3?trk=learning-course_browsemap_link', 'https://www.linkedin.com/learning/search?keywords=Generative+AI&trk=learning-course_pill-list', 'https://in.linkedin.com/in/sachin-dev-8969915?trk=learning-course', 'https://www.linkedin.com/learning-login/?redirect=https%3A%2F%2Fwww%2Elinkedin%2Ecom%2Flearning%2Fgenerative-ai-working-with-large-language-models&trk=learning-course_review-card-helpful-button', 'https://www.linkedin.com/learning/generative-ai-working-with-large-language-models/gpt-3-use-cases?autoplay=true&trk=learning-course_tocItem', 'https://www.linkedin.com/learning/topics/natural-language-processing-nlp?trk=learning-course_breadcrumb', 'https://learning.linkedin.com/for-entire-companies?src=li-learning-nav&trk=learning-course_enterprise-nav', 'https://www.linkedin.com/learning/generative-ai-working-with-large-language-models/what-are-large-language-models?autoplay=true&trk=learning-course_tocItem', 'https://www.linkedin.com/legal/cookie-policy?trk=d_learning_course_guest_footer-cookie-policy', 'https://www.linkedin.com/learning/topics/web-design?trk=learning-course_browsemap_link', 'https://www.linkedin.com/learning/topics/business-analysis-and-strategy?trk=learning-course_browsemap_link', 'https://www.linkedin.com/learning/generative-ai-working-with-large-language-models/palm?autoplay=true&trk=learning-course_tocItem', 'https://www.linkedin.com/learning/generative-ai-working-with-large-language-models/learning-about-large-language-models?autoplay=true&trk=learning-course_tocItem', 'https://www.linkedin.com/learning/search?keywords=Natural+Language+Processing+%28NLP%29&trk=learning-course_pill-list', 'https://www.linkedin.com/learning/generative-ai-working-with-large-language-models/transformers-in-production?autoplay=true&trk=learning-course_tocItem', 'https://www.linkedin.com/learning/search?keywords=Transformer+Models&trk=learning-course_pill-list', 'https://www.linkedin.com/learning/topics/web-development?trk=learning-course_browsemap_link', 'https://www.linkedin.com/learning/topics/data-science?trk=learning-course_browsemap_link', 'https://www.linkedin.com/legal/privacy-policy?trk=d_learning_course_guest_footer-privacy-policy', 'https://in.linkedin.com/in/syncwithrajeev?trk=learning-course', 'https://www.linkedin.com/learning/generative-ai-working-with-large-language-models/transformer-architecture-overview?autoplay=true&trk=learning-course_tocItem', 'https://www.linkedin.com/learning/topics/software-development?trk=learning-course_browsemap_link', 'https://www.linkedin.com/learning/generative-ai-working-with-large-language-models/scaling-laws?autoplay=true&trk=learning-course_tocItem', 'https://www.linkedin.com/learning/topics/it-help-desk-5?trk=learning-course_browsemap_link', 'https://www.linkedin.com/learning/topics/artificial-intelligence?trk=learning-course_browsemap_link', 'https://www.linkedin.com/learning/topics/project-management?trk=learning-course_browsemap_link', 'https://www.linkedin.com/learning/generative-ai-working-with-large-language-models/transfer-learning?autoplay=true&trk=learning-course_tocItem', 'https://uk.linkedin.com/in/jonathanafernandes?trk=learning-course_instructor', 'https://www.linkedin.com/learning/topics/visualization-and-real-time?trk=learning-course_browsemap_link', 'https://www.linkedin.com/learning/topics/security-3?trk=learning-course_browsemap_link', 'https://www.linkedin.com/learning-login/?redirect=https%3A%2F%2Fwww%2Elinkedin%2Ecom%2Flearning%2Fgenerative-ai-working-with-large-language-models&fromSignIn=true&session_redirect=https%3A%2F%2Fwww.linkedin.com%2Flearning%2Fgenerative-ai-working-with-large-language-models&trk=learning-course_nav-header-signin', 'https://www.linkedin.com/learning/topics/video-2?trk=learning-course_browsemap_link', 'https://www.linkedin.com/learning/tensorflow-working-with-nlp?trk=learning-course_similar-courses', 'https://www.linkedin.com/learning/topics/career-development-5?trk=learning-course_browsemap_link', 'https://www.linkedin.com/learning/topics/professional-development?trk=learning-course_browsemap_link', 'https://www.linkedin.com/learning/topics/small-business-and-entrepreneurship?trk=learning-course_browsemap_link', 'https://www.linkedin.com/accessibility?trk=d_learning_course_guest_footer-accessibility', 'https://www.linkedin.com/learning/topics/photography-2?trk=learning-course_browsemap_link', 'https://www.linkedin.com/learning/topics/cloud-computing-5?trk=learning-course_browsemap_link', 'https://www.linkedin.com/learning/?trk=learning-course_nav-header-logo', 'https://www.linkedin.com/learning/generative-ai-working-with-large-language-models/multi-head-attention-and-feed-forward-network?autoplay=true&trk=learning-course_tocItem', 'https://www.linkedin.com/learning/browse?trk=learning-course_breadcrumb', 'https://www.linkedin.com/learning/topics/audio-and-music?trk=learning-course_browsemap_link', 'https://www.linkedin.com/learning/topics/leadership-and-management?trk=learning-course_browsemap_link', 'https://www.linkedin.com/learning/generative-ai-working-with-large-language-models/big-bench?autoplay=true&trk=learning-course_tocItem', 'https://www.linkedin.com/learning/topics/creative?trk=learning-course_browsemap_general-link', 'https://www.linkedin.com/learning/topics/finance-and-accounting?trk=learning-course_browsemap_link', 'https://www.linkedin.com/learning/topics/technology?trk=learning-course_browsemap_general-link', 'https://www.linkedin.com/learning/topics/artificial-intelligence?trk=learning-course_breadcrumb', 'https://www.linkedin.com/learning/generative-ai-working-with-large-language-models/gpt-3?autoplay=true&trk=learning-course_tocItem', 'https://www.linkedin.com/learning/tensorflow-neural-networks-and-working-with-tables?trk=learning-course_similar-courses', 'https://about.linkedin.com?trk=d_learning_course_guest_footer-about', 'https://www.linkedin.com/learning/topics/technology?trk=learning-course_breadcrumb', 'https://www.linkedin.com/learning/generative-ai-working-with-large-language-models/learning-about-large-language-models?autoplay=true&trk=course_preview', 'https://www.linkedin.com/learning/generative-ai-working-with-large-language-models/transformers-history?autoplay=true&trk=learning-course_tocItem', 'https://www.linkedin.com/learning/topics/product-and-manufacturing?trk=learning-course_browsemap_link', 'https://brand.linkedin.com/policies?trk=d_learning_course_guest_footer-brand-policy', 'https://www.linkedin.com/legal/professional-community-policies?trk=d_learning_course_guest_footer-community-guide', 'https://www.linkedin.com/learning/topics/devops?trk=learning-course_browsemap_link', 'https://www.linkedin.com/learning/topics/customer-service-3?trk=learning-course_browsemap_link', 'https://www.linkedin.com/learning/topics/training-and-education?trk=learning-course_browsemap_link', 'https://www.linkedin.com/legal/copyright-policy?trk=d_learning_course_guest_footer-copyright-policy']\n",
      "Curated list: ['https://www.linkedin.com/learning/generative-ai-working-with-large-language-models', 'https://www.linkedin.com/learning/generative-ai-working-with-large-language-models/challenges-and-shortcomings-of-gpt-3?autoplay=true&trk=learning-course_tocItem', 'https://www.linkedin.com/learning/generative-ai-working-with-large-language-models/megatron-turing-nlg-model?autoplay=true&trk=learning-course_tocItem']\n",
      "Original list: ['https://www.udemy.com/course/language-models-in-generative-ai/', 'https://about.udemy.com/?locale=en-us', 'https://about.udemy.com/careers?locale=en-us', 'https://about.udemy.com/accessibility-statement?locale=en-us', 'https://about.udemy.com/company?locale=en-us#offices']\n",
      "Curated list: ['https://www.udemy.com/course/language-models-in-generative-ai/']\n",
      "Original list: ['https://huggingface.co/course/chapter7/6', 'https://studiolab.sagemaker.aws/import/github/huggingface/notebooks/blob/master/course/en/chapter7/section6_pt.ipynb', 'https://learning.oreilly.com/library/view/natural-language-processing/9781098136789/', 'https://colab.research.google.com/github/huggingface/notebooks/blob/master/course/en/chapter7/section6_pt.ipynb', 'https://github.com/huggingface/course', 'https://huggingface.co/huggingface-course/codeparrot-ds?text=plt.imshow%28']\n",
      "Curated list: ['https://huggingface.co/course/chapter7/6', 'https://studiolab.sagemaker.aws/import/github/huggingface/notebooks/blob/master/course/en/chapter7/section6_pt.ipynb', 'https://colab.research.google.com/github/huggingface/notebooks/blob/master/course/en/chapter7/section6_pt.ipynb']\n",
      "Original list: ['https://arxiv.org/abs/2305.03981', 'https://info.arxiv.org/about/ourmembers.html', 'https://www.connectedpapers.com/about', 'https://replicate.com/docs/arxiv/about', 'https://info.arxiv.org/about/index.html', 'https://info.arxiv.org/about/donate.html']\n",
      "Curated list: ['https://arxiv.org/abs/2305.03981', 'https://info.arxiv.org/about/ourmembers.html', 'https://www.connectedpapers.com/about']\n",
      "Original list: ['https://developers.google.com/machine-learning/glossary', 'https://developers.google.com/machine-learning/glossary/googlecloud', 'https://developers.google.com/machine-learning/glossary/recsystems', 'https://developers.google.com/machine-learning/advanced-courses', 'https://developers.google.com/machine-learning/glossary/tensorflow', 'https://developers.google.com/machine-learning/foundational-courses', 'https://developers.google.com/machine-learning/glossary/clustering', 'https://developers-dot-devsite-v2-prod.appspot.com/machine-learning/crash-course/backprop-scroll', 'https://developers.google.com/machine-learning/glossary/image', 'https://developers.google.com/machine-learning/glossary/df', 'https://developers.google.com/machine-learning/glossary/language', 'https://developers.google.com/machine-learning/glossary/rl', 'https://developers.google.com/machine-learning/guides', 'https://developers.google.com/machine-learning', 'https://developers.google.com/machine-learning/glossary/fairness', 'https://developers.google.com/machine-learning/glossary/sequence', 'https://developers.google.com/machine-learning/glossary/fundamentals']\n",
      "Curated list: ['https://developers.google.com/machine-learning/advanced-courses', 'https://developers.google.com/machine-learning/foundational-courses', 'https://developers.google.com/machine-learning/guides']\n",
      "Original list: ['https://zerotomastery.io/courses/large-language-models/', 'https://academy.zerotomastery.io/courses/large-language-models/lectures/45678336', 'https://academy.zerotomastery.io/courses/large-language-models/lectures/45838481', 'https://academy.zerotomastery.io/courses/large-language-models/lectures/45678340', 'https://academy.zerotomastery.io/courses/large-language-models/lectures/45678334', 'https://academy.zerotomastery.io/courses/large-language-models/lectures/45838482', 'https://academy.zerotomastery.io/courses/large-language-models/lectures/45810312', 'https://academy.zerotomastery.io/courses/large-language-models/lectures/46122775', 'https://academy.zerotomastery.io/courses/large-language-models/lectures/45678338', 'https://academy.zerotomastery.io/courses/large-language-models/lectures/46203985', 'https://academy.zerotomastery.io/courses/large-language-models/lectures/45810311', 'https://academy.zerotomastery.io/courses/large-language-models/lectures/45678335', 'https://academy.zerotomastery.io/courses/large-language-models/lectures/45838483', 'https://academy.zerotomastery.io/courses/large-language-models/lectures/45678333', 'https://academy.zerotomastery.io/courses/large-language-models/lectures/45810314', 'https://academy.zerotomastery.io/courses/large-language-models/lectures/46049130', 'https://academy.zerotomastery.io/courses/large-language-models/lectures/45678339', 'https://academy.zerotomastery.io/courses/large-language-models/lectures/45838486', 'https://academy.zerotomastery.io/courses/large-language-models/lectures/45838485', 'https://academy.zerotomastery.io/courses/large-language-models/lectures/45678332', 'https://academy.zerotomastery.io/courses/large-language-models/lectures/46204380', 'https://academy.zerotomastery.io/courses/large-language-models/lectures/45838484', 'https://academy.zerotomastery.io/courses/large-language-models/lectures/46125791', 'https://academy.zerotomastery.io/courses/large-language-models/lectures/45838487', 'https://academy.zerotomastery.io/courses/large-language-models/lectures/45810313', 'https://academy.zerotomastery.io/courses/large-language-models/lectures/46130497', 'https://zerotomastery.io/courses/', 'https://academy.zerotomastery.io/courses/large-language-models/lectures/45678337']\n",
      "Curated list: ['https://zerotomastery.io/courses/large-language-models/', 'https://academy.zerotomastery.io/courses/large-language-models/lectures/45678336', 'https://academy.zerotomastery.io/courses/large-language-models/lectures/45838481']\n",
      "Original list: ['https://www.udacity.com/course/introduction-large-language-models-google-cloud--cd12959', 'https://www.udacity.com/course/flying-car-nanodegree--nd787', 'https://www.udacity.com/course/intro-to-self-driving-cars--nd113', 'https://auth.udacity.com/sign-up?next=https://learn.udacity.com', 'https://www.udacity.com/course/deep-learning-nanodegree--nd101', 'https://www.udacity.com/course/data-engineer-nanodegree--nd027', 'https://www.udacity.com/course/learn-sql--nd072', 'https://www.udacity.com/online-learning-for-individuals', 'https://www.udacity.com/course/data-analyst-nanodegree--nd002', 'https://www.udacity.com/course/digital-marketing-nanodegree--nd018', 'https://www.udacity.com/course/machine-learning-engineer-nanodegree--nd009t', 'https://www.udacity.com/course/business-analytics-nanodegree--nd098', 'https://www.udacity.com/courses/all', 'https://auth.udacity.com/sign-in?next=https://learn.udacity.com', 'https://www.udacity.com/course/self-driving-car-engineer-nanodegree--nd013', 'https://www.udacity.com/course/robotics-software-engineer--nd209', 'https://www.udacity.com/course/intro-to-programming-nanodegree--nd000', 'https://www.udacity.com/course/artificial-intelligence-nanodegree--nd889']\n",
      "Curated list: ['https://www.udacity.com/course/introduction-large-language-models-google-cloud--cd12959', 'https://www.udacity.com/course/flying-car-nanodegree--nd787', 'https://www.udacity.com/course/intro-to-self-driving-cars--nd113']\n"
     ]
    }
   ],
   "source": [
    "newurldict = {}\n",
    "for key, value in titledict.items():\n",
    "    ## curate each site to only top max_url_per_site entries\n",
    "    if len(value) > max_url_per_site:\n",
    "        res = strict_output(system_prompt = f'''You are a helpful assistant given the urls and title of the urls and are meant to filter the urls which match the query \"{query}\" into the given output format: {output_format}\n",
    "Return the {max_url_per_site} most relevant urls for the query \"{query}\"''',\n",
    "            user_prompt = f'''Title: {key}, URLs: {value[:50]}''',\n",
    "            output_format = {\"URL_List\": \"URL list in a string separated by space\"})\n",
    "        # if fail, just pick first max_url_per_site\n",
    "        if res == {}:\n",
    "            print('GPT filtering failed, doing manual filtering')\n",
    "            value = value[:max_url_per_site]\n",
    "            for each in value:\n",
    "                if 'http' in each: newurldict[each] = key\n",
    "        else:\n",
    "            print(f'Original list: {value}')\n",
    "            value = res['URL_List'].split(' ')\n",
    "            print(f'Curated list: {value}')\n",
    "            for each in value:\n",
    "                if 'http' in each: newurldict[each] = key\n",
    "    else:\n",
    "        for each in value:\n",
    "            if 'http' in each: newurldict[each] = key"
   ]
  },
  {
   "cell_type": "code",
   "execution_count": 35,
   "id": "c24c8bfa-2f3a-4b7f-8964-9b5043a0f36f",
   "metadata": {},
   "outputs": [
    {
     "name": "stdout",
     "output_type": "stream",
     "text": [
      "Initial curated number: 41\n"
     ]
    }
   ],
   "source": [
    "print(f'Initial curated number: {len(newurldict)}')\n",
    "impturl = list(newurldict.keys())"
   ]
  },
  {
   "cell_type": "code",
   "execution_count": 51,
   "id": "2ddffe2d-163c-4e6a-922a-b562da335a8b",
   "metadata": {},
   "outputs": [],
   "source": [
    "## Add back urls from main google search results, as they are most beneficial\n",
    "for url in mainurllist:\n",
    "    if url not in newurldict:\n",
    "        newurldict[url] = urldict[url]"
   ]
  },
  {
   "cell_type": "code",
   "execution_count": 52,
   "id": "906c5355-53e3-49e4-9357-f4cf3c1c0f88",
   "metadata": {},
   "outputs": [
    {
     "name": "stdout",
     "output_type": "stream",
     "text": [
      "Final curated number: 42\n"
     ]
    }
   ],
   "source": [
    "print(f'Final curated number: {len(newurldict)}')\n",
    "impturl = list(newurldict.keys())"
   ]
  },
  {
   "cell_type": "code",
   "execution_count": 53,
   "id": "f9012473-d83c-4891-9502-7238918ebb7b",
   "metadata": {},
   "outputs": [
    {
     "data": {
      "text/plain": [
       "['https://www.kdnuggets.com/2023/03/top-free-courses-large-language-models.html',\n",
       " 'https://www.cs.princeton.edu/courses/archive/fall22/cos597G/',\n",
       " 'https://huggingface.co/course/chapter1/1',\n",
       " 'https://www.databricks.com/blog/enroll-our-new-expert-led-large-language-models-llms-courses-edx',\n",
       " 'https://www.edx.org/course/large-language-models-foundation-models-from-the-ground-up',\n",
       " 'https://www.edx.org/course/large-language-models-application-through-production',\n",
       " 'https://medium.com/geekculture/top-resoruces-to-learn-understand-large-language-models-4d339f7b685d',\n",
       " 'https://medium.com/about?autoplay=1&source=post_page-----4d339f7b685d--------------------------------',\n",
       " 'https://about.medium.com/creators/?source=post_page-----4d339f7b685d--------------------------------',\n",
       " 'https://www.edx.org/professional-certificate/databricks-large-language-models',\n",
       " 'https://www.coursera.org/learn/introduction-to-large-language-models',\n",
       " 'https://stanford-cs324.github.io/winter2022/',\n",
       " 'https://canvas.stanford.edu/courses/149841/external_tools/24287?display=borderless',\n",
       " 'https://canvas.stanford.edu/courses/149841/external_tools/5384',\n",
       " 'https://www.linkedin.com/learning/generative-ai-working-with-large-language-models',\n",
       " 'https://www.linkedin.com/learning/generative-ai-working-with-large-language-models/challenges-and-shortcomings-of-gpt-3?autoplay=true&trk=learning-course_tocItem',\n",
       " 'https://www.linkedin.com/learning/generative-ai-working-with-large-language-models/megatron-turing-nlg-model?autoplay=true&trk=learning-course_tocItem',\n",
       " 'https://www.cloudskillsboost.google/course_templates/539',\n",
       " 'https://cloud.google.com/training/courses',\n",
       " 'https://www.coursera.org/googlecloud',\n",
       " 'https://www.udemy.com/course/language-models-in-generative-ai/',\n",
       " 'https://huggingface.co/course/chapter7/6',\n",
       " 'https://studiolab.sagemaker.aws/import/github/huggingface/notebooks/blob/master/course/en/chapter7/section6_pt.ipynb',\n",
       " 'https://colab.research.google.com/github/huggingface/notebooks/blob/master/course/en/chapter7/section6_pt.ipynb',\n",
       " 'https://arxiv.org/abs/2305.03981',\n",
       " 'https://info.arxiv.org/about/ourmembers.html',\n",
       " 'https://www.connectedpapers.com/about',\n",
       " 'https://developers.google.com/machine-learning/advanced-courses',\n",
       " 'https://developers.google.com/machine-learning/foundational-courses',\n",
       " 'https://developers.google.com/machine-learning/guides',\n",
       " 'https://www.coursera.org/learn/sequence-models-in-nlp',\n",
       " 'https://www.deepset.ai/blog/when-and-how-to-train-a-language-model',\n",
       " 'https://scikit-learn.org/stable/modules/generated/sklearn.metrics.f1_score.html',\n",
       " 'https://en.wikipedia.org/wiki/Hyperparameter_%28machine_learning%29',\n",
       " 'https://geekflare.com/best-nlp-courses/',\n",
       " 'https://zerotomastery.io/courses/large-language-models/',\n",
       " 'https://academy.zerotomastery.io/courses/large-language-models/lectures/45678336',\n",
       " 'https://academy.zerotomastery.io/courses/large-language-models/lectures/45838481',\n",
       " 'https://www.udacity.com/course/introduction-large-language-models-google-cloud--cd12959',\n",
       " 'https://www.udacity.com/course/flying-car-nanodegree--nd787',\n",
       " 'https://www.udacity.com/course/intro-to-self-driving-cars--nd113',\n",
       " 'https://developers.google.com/machine-learning/glossary']"
      ]
     },
     "execution_count": 53,
     "metadata": {},
     "output_type": "execute_result"
    }
   ],
   "source": [
    "impturl"
   ]
  },
  {
   "cell_type": "markdown",
   "id": "51ec393b-a22f-4e3d-aa9d-67a82dca75ce",
   "metadata": {},
   "source": [
    "## Get the data from the curated list"
   ]
  },
  {
   "cell_type": "code",
   "execution_count": 54,
   "id": "6b99b4dc-3057-4886-a398-c5aa3b0d3590",
   "metadata": {},
   "outputs": [
    {
     "name": "stdout",
     "output_type": "stream",
     "text": [
      "No existing driver to delete\n",
      "Initializing new driver\n",
      "Driver initialized: <selenium.webdriver.firefox.webdriver.WebDriver (session=\"79a19270-846e-44e3-8bd7-8a78437bf251\")>\n"
     ]
    }
   ],
   "source": [
    "driver = start_driver()"
   ]
  },
  {
   "cell_type": "code",
   "execution_count": 55,
   "id": "8ef9d514-d452-4f15-86ef-fc5515e59a64",
   "metadata": {},
   "outputs": [],
   "source": [
    "impturl = impturl[:10]"
   ]
  },
  {
   "cell_type": "code",
   "execution_count": 56,
   "id": "f1db3b73-d5ec-4a41-bc5b-24de22ea64f5",
   "metadata": {},
   "outputs": [],
   "source": [
    "# if we start from scatch, reset content\n",
    "content = {}\n",
    "irrelevant_url = []\n",
    "currentnum = 0"
   ]
  },
  {
   "cell_type": "code",
   "execution_count": 58,
   "id": "262f3911-8421-448f-935f-40d7562b4595",
   "metadata": {},
   "outputs": [
    {
     "name": "stdout",
     "output_type": "stream",
     "text": [
      "https://medium.com/about?autoplay=1&source=post_page-----4d339f7b685d-------------------------------- (URL #8 of 10)\n",
      "{'Course Name': 'Top Resoruces to Learn & Understand Large Language Models', 'Course Website': 'https://medium.com/geekculture/top-resoruces-to-learn-understand-large-language-models-4d339f7b685d', 'Broad Course Description': 'Large Language Models (LLMs) have revolutionized the field of Natural Language Processing (NLP) by providing highly accurate and efficient ways of understanding and generating human language.', 'Cost': 'No info', 'Time': '10 min read', 'Venue': 'Online https', 'Company': 'Medium'}\n",
      "https://about.medium.com/creators/?source=post_page-----4d339f7b685d-------------------------------- (URL #9 of 10)\n",
      "Information not relevant\n",
      "https://www.edx.org/professional-certificate/databricks-large-language-models (URL #10 of 10)\n",
      "{'Course Name': 'Large Language Models: Application through Production', 'Course Website': 'https://www.edx.org/course/large-language-models-application-through-production', 'Broad Course Description': 'This course is aimed at developers, data scientists, and engineers looking to build LLM-centric applications with the latest and most popular frameworks. By the end of this course, you will have built an end-to-end LLM workflow that is ready for production!', 'Cost': 'Free', 'Time': '6 weeks, 4-10 hours per week', 'Venue': 'Online edx.org', 'Company': 'Databricks'}\n"
     ]
    }
   ],
   "source": [
    "## Get the data from the websites\n",
    "for num, url in enumerate(impturl):\n",
    "    \n",
    "    # to help in case we have runtime error, simply continue from those that have been done\n",
    "    if num < currentnum: continue\n",
    "    currentnum = max(num, currentnum)\n",
    "    \n",
    "    print(url, f'(URL #{num+1} of {len(impturl)})')\n",
    "    text_content = view_url(url, driver=driver)\n",
    "    \n",
    "    # filter the text into manageable bits for the parser\n",
    "    text_splitter = TokenTextSplitter(chunk_size=MAX_TOKENS, chunk_overlap=100)\n",
    "    texts = text_splitter.split_text(text_content)\n",
    "    \n",
    "    root_url = get_root_url(url)\n",
    "    \n",
    "    # We only cap the number of chunks per site to be 4\n",
    "    for text in texts[:4]:\n",
    "        existing_entry = 'None'\n",
    "        if root_url in content:\n",
    "            existing_entry = content[root_url]\n",
    "\n",
    "        # Use GPT-3.5-turbo to get information from website\n",
    "        res = strict_output(system_prompt = f'''You are a helpful assistant meant to extract information from text that is related to {query}. If there is existing data, add on to it.\n",
    "Each field in Existing Data should have a maximum of 50 words. If you are unsure about any of the output fields, output {NO_INFO}''',\n",
    "                            user_prompt = f'''Url: {url}, Existing Data: {existing_entry}, Text: {text}''', \n",
    "                            output_format = output_format)\n",
    "        \n",
    "        if res=={}:\n",
    "            print('Empty JSON output'); break\n",
    "        if res[base_index] == NO_INFO: \n",
    "            print('Information not relevant')\n",
    "            irrelevant_url.append(url)\n",
    "            break\n",
    "            \n",
    "        content[root_url] = res\n",
    "        print(res)"
   ]
  },
  {
   "cell_type": "code",
   "execution_count": 59,
   "id": "ab907cc1-e634-4b41-a4d7-756e4d3cf32f",
   "metadata": {},
   "outputs": [],
   "source": [
    "# make the content such that it merges all the available content together\n",
    "final_content = {}\n",
    "final_content_sources = {}\n",
    "for key, value in content.items():\n",
    "    name = value[base_index]\n",
    "    # add the webpage to the source\n",
    "    if name not in final_content_sources:\n",
    "        final_content_sources[name] = [key]\n",
    "    else:\n",
    "        final_content_sources[name].append(key)\n",
    "    \n",
    "    if name not in final_content:\n",
    "        final_content[name] = value\n",
    "    else:\n",
    "        # use GPT to match both outputs together\n",
    "        existingvalue = final_content[name]\n",
    "        currentvalue = name\n",
    "        res = strict_output(system_prompt = f'''You are a helpful assistant assistant meant to combine two sources of information together factually.\n",
    "If you are not sure about any of the output fields, output {NO_INFO}\"''',\n",
    "            user_prompt = f'''Source 1: {existingvalue}, Source 2: {currentvalue}''', \n",
    "            output_format = output_format)\n",
    "        print(f'Combining outputs for {name}\\nConsolidated Output: {res}')\n",
    "        final_content[name] = res"
   ]
  },
  {
   "cell_type": "code",
   "execution_count": 60,
   "id": "bbbf8f69-8356-44a3-a512-ac300fafc38c",
   "metadata": {},
   "outputs": [],
   "source": [
    "# update the main dictionary with the information sources\n",
    "for key in final_content.keys():\n",
    "    final_content[key]['info_sources'] = str(final_content_sources[key]).replace('\\'',' ').replace('[','').replace(']','').replace(',','')"
   ]
  },
  {
   "cell_type": "markdown",
   "id": "1783d4ee-6fc8-4354-b97c-d34dc8f51ad8",
   "metadata": {},
   "source": [
    "## Curate the final output to see if the sources are relevant"
   ]
  },
  {
   "cell_type": "code",
   "execution_count": 61,
   "id": "e4750ed2-5bd8-4d7a-8ccd-63bfba89143b",
   "metadata": {},
   "outputs": [
    {
     "name": "stdout",
     "output_type": "stream",
     "text": [
      "{'Course Name': 'Top Free Courses on Large Language Models', 'Course Website': 'https://www.kdnuggets.com/2023/03/top-free-courses-large-language-models.html', 'Broad Course Description': 'Free courses and resources on large language models from Stanford, Princeton, ETH, and more.', 'Cost': 'Free', 'Time': 'No info', 'Venue': 'No info', 'Company': 'KDnuggets', 'info_sources': ' https://www.kdnuggets.com ', 'Relevance': '3'}\n",
      "3\n",
      "{'Course Name': 'COS 597G: Understanding Large Language Models', 'Course Website': 'https://www.cs.princeton.edu/courses/archive/fall22/cos597G/', 'Broad Course Description': 'This course covers cutting-edge research topics centering around pre-trained language models, including technical foundations, emerging capabilities, fine-tuning and adaptation, system design, and security and ethics.', 'Cost': 'No info', 'Time': 'No info', 'Venue': 'Physical Sherrerd Hall 101', 'Company': 'Princeton University', 'info_sources': ' https://www.cs.princeton.edu ', 'Relevance': '3'}\n",
      "3\n",
      "{'Course Name': 'The 🤗 Course', 'Course Website': 'https://huggingface.co/course', 'Broad Course Description': 'This course teaches natural language processing (NLP) using libraries from the Hugging Face ecosystem, including Transformers, Datasets, Tokenizers, and Accelerate. It covers topics such as Transformer models, fine-tuning, sharing models, NLP tasks, and more.', 'Cost': 'Free', 'Time': 'Approximately 6-8 hours per week', 'Venue': 'Online https', 'Company': 'Hugging Face', 'info_sources': ' https://huggingface.co ', 'Relevance': '2'}\n",
      "2\n",
      "{'Course Name': 'Large Language Models (LLMs) Courses on edX', 'Course Website': 'https://www.databricks.com/blog/enroll-our-new-expert-led-large-language-models-llms-courses-edx', 'Broad Course Description': 'The Large Language Models (LLMs) Courses on edX are expert-led online courses that focus on building and using language models in modern applications. Students will learn through dynamic lectures, demos, and hands-on labs taught by industry leaders and researchers.', 'Cost': 'Free for anyone to audit, nominal fee for access to a managed compute environment for course labs, graded exercises, and a completion certificate', 'Time': 'Courses will begin Summer 2023', 'Venue': 'Online edX platform', 'Company': 'Databricks', 'info_sources': ' https://www.databricks.com ', 'Relevance': '3'}\n",
      "3\n",
      "{'Course Name': 'Large Language Models: Application through Production', 'Course Website': 'https://www.edx.org/course/large-language-models-application-through-production', 'Broad Course Description': 'This course is aimed at developers, data scientists, and engineers looking to build LLM-centric applications with the latest and most popular frameworks. By the end of this course, you will have built an end-to-end LLM workflow that is ready for production!', 'Cost': 'Free', 'Time': '6 weeks, 4-10 hours per week', 'Venue': 'Online edx.org', 'Company': 'Databricks', 'info_sources': ' https://www.edx.org ', 'Relevance': '2'}\n",
      "2\n",
      "{'Course Name': 'Top Resoruces to Learn & Understand Large Language Models', 'Course Website': 'https://medium.com/geekculture/top-resoruces-to-learn-understand-large-language-models-4d339f7b685d', 'Broad Course Description': 'Large Language Models (LLMs) have revolutionized the field of Natural Language Processing (NLP) by providing highly accurate and efficient ways of understanding and generating human language.', 'Cost': 'No info', 'Time': '10 min read', 'Venue': 'Online https', 'Company': 'Medium', 'info_sources': ' https://medium.com ', 'Relevance': '3'}\n",
      "3\n"
     ]
    }
   ],
   "source": [
    "curated_final_content = {}\n",
    "for key, value in final_content.items():\n",
    "    res = strict_output(system_prompt = f'''You are a helpful assistant assistant meant to see if a user input is relevant for the query: \"{query}\"\n",
    "Output whether or not it is relevant.''',\n",
    "        user_prompt = f'''{value}''', \n",
    "        output_format = {\"Relevance\": [\"3: user input matches almost all of the query\", \n",
    "                         \"2: user input matches more than half of the query\",\n",
    "                         \"1: user input matches at least one part of the query\",\n",
    "                         \"0: user input does not any part of the query\"]})\n",
    "    if res == {}: continue\n",
    "    value['Relevance'] = res['Relevance']\n",
    "    curated_final_content[key] = value\n",
    "    print(value)\n",
    "    print(res['Relevance'])"
   ]
  },
  {
   "cell_type": "code",
   "execution_count": 62,
   "id": "65356bc9-a8f2-4390-b549-5f6b5a00d9ca",
   "metadata": {},
   "outputs": [],
   "source": [
    "# Convert it into a document\n",
    "# Convert dictionary to Excel spreadsheet\n",
    "file_path = f'{query}.xlsx'\n",
    "df = pd.DataFrame.from_dict(curated_final_content, orient = 'index')\n",
    "df = df.sort_values(by='Relevance', ascending=False)\n",
    "df.to_excel(file_path, index = False)"
   ]
  },
  {
   "cell_type": "code",
   "execution_count": 72,
   "id": "b356334d-c209-40e7-ab43-bc1c76289e37",
   "metadata": {},
   "outputs": [
    {
     "data": {
      "text/html": [
       "<div>\n",
       "<style scoped>\n",
       "    .dataframe tbody tr th:only-of-type {\n",
       "        vertical-align: middle;\n",
       "    }\n",
       "\n",
       "    .dataframe tbody tr th {\n",
       "        vertical-align: top;\n",
       "    }\n",
       "\n",
       "    .dataframe thead th {\n",
       "        text-align: right;\n",
       "    }\n",
       "</style>\n",
       "<table border=\"1\" class=\"dataframe\">\n",
       "  <thead>\n",
       "    <tr style=\"text-align: right;\">\n",
       "      <th></th>\n",
       "      <th>Course Name</th>\n",
       "      <th>Course Website</th>\n",
       "      <th>Broad Course Description</th>\n",
       "      <th>Cost</th>\n",
       "      <th>Time</th>\n",
       "      <th>Venue</th>\n",
       "      <th>Company</th>\n",
       "      <th>info_sources</th>\n",
       "      <th>Relevance</th>\n",
       "    </tr>\n",
       "  </thead>\n",
       "  <tbody>\n",
       "    <tr>\n",
       "      <th>https://www.kdnuggets.com/2023/03/top-free-courses-large-language-models.html</th>\n",
       "      <td>Top Free Courses on Large Language Models</td>\n",
       "      <td>https://www.kdnuggets.com/2023/03/top-free-cou...</td>\n",
       "      <td>Free courses and resources on large language m...</td>\n",
       "      <td>Free</td>\n",
       "      <td>No info</td>\n",
       "      <td>No info</td>\n",
       "      <td>KDnuggets</td>\n",
       "      <td>https://www.kdnuggets.com</td>\n",
       "      <td>3</td>\n",
       "    </tr>\n",
       "    <tr>\n",
       "      <th>https://www.cs.princeton.edu/courses/archive/fall22/cos597G/</th>\n",
       "      <td>COS 597G: Understanding Large Language Models</td>\n",
       "      <td>https://www.cs.princeton.edu/courses/archive/f...</td>\n",
       "      <td>This course covers cutting-edge research topic...</td>\n",
       "      <td>No info</td>\n",
       "      <td>No info</td>\n",
       "      <td>Physical Sherrerd Hall 101</td>\n",
       "      <td>Princeton University</td>\n",
       "      <td>https://www.cs.princeton.edu</td>\n",
       "      <td>3</td>\n",
       "    </tr>\n",
       "    <tr>\n",
       "      <th>https://www.databricks.com/blog/enroll-our-new-expert-led-large-language-models-llms-courses-edx</th>\n",
       "      <td>Large Language Models (LLMs) Courses on edX</td>\n",
       "      <td>https://www.databricks.com/blog/enroll-our-new...</td>\n",
       "      <td>The Large Language Models (LLMs) Courses on ed...</td>\n",
       "      <td>Free for anyone to audit, nominal fee for acce...</td>\n",
       "      <td>Courses will begin Summer 2023</td>\n",
       "      <td>Online edX platform</td>\n",
       "      <td>Databricks</td>\n",
       "      <td>https://www.databricks.com</td>\n",
       "      <td>3</td>\n",
       "    </tr>\n",
       "    <tr>\n",
       "      <th>https://medium.com/geekculture/top-resoruces-to-learn-understand-large-language-models-4d339f7b685d</th>\n",
       "      <td>Top Resoruces to Learn &amp; Understand Large Lang...</td>\n",
       "      <td>https://medium.com/geekculture/top-resoruces-t...</td>\n",
       "      <td>Large Language Models (LLMs) have revolutioniz...</td>\n",
       "      <td>No info</td>\n",
       "      <td>10 min read</td>\n",
       "      <td>Online https</td>\n",
       "      <td>Medium</td>\n",
       "      <td>https://medium.com</td>\n",
       "      <td>3</td>\n",
       "    </tr>\n",
       "    <tr>\n",
       "      <th>https://huggingface.co/course</th>\n",
       "      <td>The 🤗 Course</td>\n",
       "      <td>https://huggingface.co/course</td>\n",
       "      <td>This course teaches natural language processin...</td>\n",
       "      <td>Free</td>\n",
       "      <td>Approximately 6-8 hours per week</td>\n",
       "      <td>Online https</td>\n",
       "      <td>Hugging Face</td>\n",
       "      <td>https://huggingface.co</td>\n",
       "      <td>2</td>\n",
       "    </tr>\n",
       "    <tr>\n",
       "      <th>https://www.edx.org/course/large-language-models-application-through-production</th>\n",
       "      <td>Large Language Models: Application through Pro...</td>\n",
       "      <td>https://www.edx.org/course/large-language-mode...</td>\n",
       "      <td>This course is aimed at developers, data scien...</td>\n",
       "      <td>Free</td>\n",
       "      <td>6 weeks, 4-10 hours per week</td>\n",
       "      <td>Online edx.org</td>\n",
       "      <td>Databricks</td>\n",
       "      <td>https://www.edx.org</td>\n",
       "      <td>2</td>\n",
       "    </tr>\n",
       "  </tbody>\n",
       "</table>\n",
       "</div>"
      ],
      "text/plain": [
       "                                                                                          Course Name  \\\n",
       "https://www.kdnuggets.com/2023/03/top-free-cour...          Top Free Courses on Large Language Models   \n",
       "https://www.cs.princeton.edu/courses/archive/fa...      COS 597G: Understanding Large Language Models   \n",
       "https://www.databricks.com/blog/enroll-our-new-...        Large Language Models (LLMs) Courses on edX   \n",
       "https://medium.com/geekculture/top-resoruces-to...  Top Resoruces to Learn & Understand Large Lang...   \n",
       "https://huggingface.co/course                                                            The 🤗 Course   \n",
       "https://www.edx.org/course/large-language-model...  Large Language Models: Application through Pro...   \n",
       "\n",
       "                                                                                       Course Website  \\\n",
       "https://www.kdnuggets.com/2023/03/top-free-cour...  https://www.kdnuggets.com/2023/03/top-free-cou...   \n",
       "https://www.cs.princeton.edu/courses/archive/fa...  https://www.cs.princeton.edu/courses/archive/f...   \n",
       "https://www.databricks.com/blog/enroll-our-new-...  https://www.databricks.com/blog/enroll-our-new...   \n",
       "https://medium.com/geekculture/top-resoruces-to...  https://medium.com/geekculture/top-resoruces-t...   \n",
       "https://huggingface.co/course                                           https://huggingface.co/course   \n",
       "https://www.edx.org/course/large-language-model...  https://www.edx.org/course/large-language-mode...   \n",
       "\n",
       "                                                                             Broad Course Description  \\\n",
       "https://www.kdnuggets.com/2023/03/top-free-cour...  Free courses and resources on large language m...   \n",
       "https://www.cs.princeton.edu/courses/archive/fa...  This course covers cutting-edge research topic...   \n",
       "https://www.databricks.com/blog/enroll-our-new-...  The Large Language Models (LLMs) Courses on ed...   \n",
       "https://medium.com/geekculture/top-resoruces-to...  Large Language Models (LLMs) have revolutioniz...   \n",
       "https://huggingface.co/course                       This course teaches natural language processin...   \n",
       "https://www.edx.org/course/large-language-model...  This course is aimed at developers, data scien...   \n",
       "\n",
       "                                                                                                 Cost  \\\n",
       "https://www.kdnuggets.com/2023/03/top-free-cour...                                               Free   \n",
       "https://www.cs.princeton.edu/courses/archive/fa...                                            No info   \n",
       "https://www.databricks.com/blog/enroll-our-new-...  Free for anyone to audit, nominal fee for acce...   \n",
       "https://medium.com/geekculture/top-resoruces-to...                                            No info   \n",
       "https://huggingface.co/course                                                                    Free   \n",
       "https://www.edx.org/course/large-language-model...                                               Free   \n",
       "\n",
       "                                                                                Time  \\\n",
       "https://www.kdnuggets.com/2023/03/top-free-cour...                           No info   \n",
       "https://www.cs.princeton.edu/courses/archive/fa...                           No info   \n",
       "https://www.databricks.com/blog/enroll-our-new-...    Courses will begin Summer 2023   \n",
       "https://medium.com/geekculture/top-resoruces-to...                       10 min read   \n",
       "https://huggingface.co/course                       Approximately 6-8 hours per week   \n",
       "https://www.edx.org/course/large-language-model...      6 weeks, 4-10 hours per week   \n",
       "\n",
       "                                                                         Venue  \\\n",
       "https://www.kdnuggets.com/2023/03/top-free-cour...                     No info   \n",
       "https://www.cs.princeton.edu/courses/archive/fa...  Physical Sherrerd Hall 101   \n",
       "https://www.databricks.com/blog/enroll-our-new-...         Online edX platform   \n",
       "https://medium.com/geekculture/top-resoruces-to...                Online https   \n",
       "https://huggingface.co/course                                     Online https   \n",
       "https://www.edx.org/course/large-language-model...              Online edx.org   \n",
       "\n",
       "                                                                 Company  \\\n",
       "https://www.kdnuggets.com/2023/03/top-free-cour...             KDnuggets   \n",
       "https://www.cs.princeton.edu/courses/archive/fa...  Princeton University   \n",
       "https://www.databricks.com/blog/enroll-our-new-...            Databricks   \n",
       "https://medium.com/geekculture/top-resoruces-to...                Medium   \n",
       "https://huggingface.co/course                               Hugging Face   \n",
       "https://www.edx.org/course/large-language-model...            Databricks   \n",
       "\n",
       "                                                                      info_sources  \\\n",
       "https://www.kdnuggets.com/2023/03/top-free-cour...      https://www.kdnuggets.com    \n",
       "https://www.cs.princeton.edu/courses/archive/fa...   https://www.cs.princeton.edu    \n",
       "https://www.databricks.com/blog/enroll-our-new-...     https://www.databricks.com    \n",
       "https://medium.com/geekculture/top-resoruces-to...             https://medium.com    \n",
       "https://huggingface.co/course                              https://huggingface.co    \n",
       "https://www.edx.org/course/large-language-model...            https://www.edx.org    \n",
       "\n",
       "                                                   Relevance  \n",
       "https://www.kdnuggets.com/2023/03/top-free-cour...         3  \n",
       "https://www.cs.princeton.edu/courses/archive/fa...         3  \n",
       "https://www.databricks.com/blog/enroll-our-new-...         3  \n",
       "https://medium.com/geekculture/top-resoruces-to...         3  \n",
       "https://huggingface.co/course                              2  \n",
       "https://www.edx.org/course/large-language-model...         2  "
      ]
     },
     "execution_count": 72,
     "metadata": {},
     "output_type": "execute_result"
    }
   ],
   "source": [
    "df"
   ]
  },
  {
   "cell_type": "markdown",
   "id": "59c1bf79-8421-449a-8332-0a8e349c96db",
   "metadata": {},
   "source": [
    "## Shut down browser"
   ]
  },
  {
   "cell_type": "code",
   "execution_count": 73,
   "id": "4110f18f-da89-4cbf-872c-259aaeb876a8",
   "metadata": {},
   "outputs": [],
   "source": [
    "driver.quit()\n",
    "del driver"
   ]
  },
  {
   "cell_type": "code",
   "execution_count": null,
   "id": "095ed572-50ea-4d68-96c4-67d33f924274",
   "metadata": {},
   "outputs": [],
   "source": []
  }
 ],
 "metadata": {
  "kernelspec": {
   "display_name": "Python 3 (ipykernel)",
   "language": "python",
   "name": "python3"
  },
  "language_info": {
   "codemirror_mode": {
    "name": "ipython",
    "version": 3
   },
   "file_extension": ".py",
   "mimetype": "text/x-python",
   "name": "python",
   "nbconvert_exporter": "python",
   "pygments_lexer": "ipython3",
   "version": "3.9.13"
  }
 },
 "nbformat": 4,
 "nbformat_minor": 5
}
